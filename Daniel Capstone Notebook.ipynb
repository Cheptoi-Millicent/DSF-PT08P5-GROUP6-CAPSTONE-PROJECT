{
 "cells": [
  {
   "cell_type": "markdown",
   "metadata": {},
   "source": [
    "## Project title: Loan Default Prediction Model"
   ]
  },
  {
   "cell_type": "markdown",
   "metadata": {},
   "source": [
    "## Data Understanding"
   ]
  },
  {
   "cell_type": "markdown",
   "metadata": {},
   "source": [
    "- The Dataset was sourced from Credit Reference buerau\n",
    "- The Application dataset contains 9,492 records and 16 columns related to loan applications.\n",
    "\n",
    "- Data Types:\n",
    "     - Numerical Columns: Age_at_Application, Time_at_Current_Employment, Time_Employed_with_Previous_Employer, Number_of_Dependents, Monthly_Income.\n",
    "     - Categorical Columns: Loan_Approval_Status, Marital_Status, Gender, Own_Rent_Home, Occupation_Professional_Category, Employment_Status, Loan_Purpose, Government_Employee.\n",
    "     - Date Column: Application_Date.\n",
    "\n",
    "Missing Data:\n",
    "- - Several columns have missing values, including Marital_Status, Type_of_Business_Industry_of_Employment, Number_of_Dependents, and Time_Employed_with_Previous_Employer.\n"
   ]
  },
  {
   "cell_type": "markdown",
   "metadata": {},
   "source": [
    "## Data Preparation and Data Cleaning for Application Data"
   ]
  },
  {
   "cell_type": "markdown",
   "metadata": {},
   "source": [
    "### Loading the Libraries"
   ]
  },
  {
   "cell_type": "code",
   "execution_count": 426,
   "metadata": {},
   "outputs": [],
   "source": [
    "import pandas as pd\n",
    "import numpy as np"
   ]
  },
  {
   "cell_type": "code",
   "execution_count": 427,
   "metadata": {},
   "outputs": [],
   "source": [
    "# Loading the Dataset\n",
    "df_application = pd.read_csv(\"ApplicationData.csv\")\n"
   ]
  },
  {
   "cell_type": "code",
   "execution_count": 428,
   "metadata": {},
   "outputs": [
    {
     "name": "stdout",
     "output_type": "stream",
     "text": [
      "<class 'pandas.core.frame.DataFrame'>\n",
      "RangeIndex: 9492 entries, 0 to 9491\n",
      "Data columns (total 16 columns):\n",
      " #   Column                                         Non-Null Count  Dtype  \n",
      "---  ------                                         --------------  -----  \n",
      " 0   Application_ID                                 9492 non-null   object \n",
      " 1   Application_Date                               9492 non-null   object \n",
      " 2   Loan_Approval_Status                           9354 non-null   object \n",
      " 3   Age_at_Application                             9471 non-null   float64\n",
      " 4   Marital_Status                                 7712 non-null   object \n",
      " 5   Gender                                         9488 non-null   object \n",
      " 6   Own_Rent_Home                                  8188 non-null   object \n",
      " 7   Occupation_Professional_Category               9361 non-null   object \n",
      " 8   Type_of_Business_Industry_of_Employment        7210 non-null   object \n",
      " 9   Employment_Status                              9357 non-null   object \n",
      " 10  Time_at_Current_Employment_(Months)            9260 non-null   float64\n",
      " 11  Time_Employed_with_Previous_Employer_(Months)  298 non-null    float64\n",
      " 12  Number_of_Dependents                           7678 non-null   float64\n",
      " 13  Loan_Purpose                                   9450 non-null   object \n",
      " 14  Monthly_Income                                 9492 non-null   float64\n",
      " 15  Government_Employee                            9311 non-null   object \n",
      "dtypes: float64(5), object(11)\n",
      "memory usage: 1.2+ MB\n",
      "  Application_ID Application_Date Loan_Approval_Status  Age_at_Application  \\\n",
      "0     C302100001       2015-09-15             Approved                39.0   \n",
      "1     C302100002       2015-08-31             Approved                29.0   \n",
      "2     C302100003       2015-09-21             Approved                24.0   \n",
      "3     C302100004       2015-11-14             Approved                54.0   \n",
      "4     C302100005       2015-11-18             Approved                30.0   \n",
      "\n",
      "  Marital_Status  Gender Own_Rent_Home Occupation_Professional_Category  \\\n",
      "0      Unmarried  Female           Own                              NaN   \n",
      "1      Unmarried  Female        Family                              NaN   \n",
      "2      Unmarried    Male        Family                              NaN   \n",
      "3      Unmarried    Male          Rent                              NaN   \n",
      "4      Unmarried  Female        Family                              NaN   \n",
      "\n",
      "  Type_of_Business_Industry_of_Employment Employment_Status  \\\n",
      "0                                   Other         Full-Time   \n",
      "1                                     NaN         Full-Time   \n",
      "2                                     NaN         Full-Time   \n",
      "3                                     NaN         Full-Time   \n",
      "4                                     NaN         Full-Time   \n",
      "\n",
      "   Time_at_Current_Employment_(Months)  \\\n",
      "0                                  6.0   \n",
      "1                                 25.0   \n",
      "2                                  7.0   \n",
      "3                                105.0   \n",
      "4                                 60.0   \n",
      "\n",
      "   Time_Employed_with_Previous_Employer_(Months)  Number_of_Dependents  \\\n",
      "0                                            NaN                   2.0   \n",
      "1                                            NaN                   0.0   \n",
      "2                                            NaN                   0.0   \n",
      "3                                            NaN                   4.0   \n",
      "4                                            NaN                   1.0   \n",
      "\n",
      "         Loan_Purpose  Monthly_Income Government_Employee  \n",
      "0    Home Improvement         1500.59                 NaN  \n",
      "1  Debt Consolidation         3769.36                 NaN  \n",
      "2    Home Improvement         2197.10                 NaN  \n",
      "3  Debt Consolidation         1094.45               False  \n",
      "4            Vacation         3798.40                True  \n"
     ]
    }
   ],
   "source": [
    "# Data Understanding\n",
    "# Checking the first 5 rows of the dataset\n",
    "df_application.info()\n",
    "print(df_application.head())"
   ]
  },
  {
   "cell_type": "markdown",
   "metadata": {},
   "source": [
    "## Handling Missing Values in the dataset"
   ]
  },
  {
   "cell_type": "code",
   "execution_count": 429,
   "metadata": {},
   "outputs": [
    {
     "name": "stdout",
     "output_type": "stream",
     "text": [
      "Application_ID                                      0\n",
      "Application_Date                                    0\n",
      "Loan_Approval_Status                              138\n",
      "Age_at_Application                                 21\n",
      "Marital_Status                                   1780\n",
      "Gender                                              4\n",
      "Own_Rent_Home                                    1304\n",
      "Occupation_Professional_Category                  131\n",
      "Type_of_Business_Industry_of_Employment          2282\n",
      "Employment_Status                                 135\n",
      "Time_at_Current_Employment_(Months)               232\n",
      "Time_Employed_with_Previous_Employer_(Months)    9194\n",
      "Number_of_Dependents                             1814\n",
      "Loan_Purpose                                       42\n",
      "Monthly_Income                                      0\n",
      "Government_Employee                               181\n",
      "dtype: int64\n"
     ]
    }
   ],
   "source": [
    "# Identifying the missing values\n",
    "missing_values = df_application.isnull().sum()\n",
    "print(missing_values)"
   ]
  },
  {
   "cell_type": "code",
   "execution_count": 430,
   "metadata": {},
   "outputs": [
    {
     "name": "stdout",
     "output_type": "stream",
     "text": [
      "Missing Values Percentage:\n",
      " Loan_Approval_Status                              1.453856\n",
      "Age_at_Application                                0.221239\n",
      "Marital_Status                                   18.752634\n",
      "Gender                                            0.042141\n",
      "Own_Rent_Home                                    13.737885\n",
      "Occupation_Professional_Category                  1.380110\n",
      "Type_of_Business_Industry_of_Employment          24.041298\n",
      "Employment_Status                                 1.422250\n",
      "Time_at_Current_Employment_(Months)               2.444164\n",
      "Time_Employed_with_Previous_Employer_(Months)    96.860514\n",
      "Number_of_Dependents                             19.110830\n",
      "Loan_Purpose                                      0.442478\n",
      "Government_Employee                               1.906869\n",
      "dtype: float64\n"
     ]
    }
   ],
   "source": [
    "# Checking percentage of missing values\n",
    "missing_values = df_application.isnull().sum() / len(df_application) * 100\n",
    "print(\"Missing Values Percentage:\\n\", missing_values[missing_values > 0])\n"
   ]
  },
  {
   "cell_type": "markdown",
   "metadata": {},
   "source": [
    "### Key Observations:\n",
    " - Three columns have High Missing Values of mpre than >20%\n",
    " - Type_of_Business_Industry_of_Employment (24.04%)\n",
    " - Marital_Status (18.75%)\n",
    " - Number_of_Dependents (19.11%)\n",
    " - Time_Employed_with_Previous_Employer (96.86%) → Too much missing data, may need to drop.\n",
    " - 8 Columns has Low Missing Values of below <5% Can be imputed using mode (for categorical) or median/mean (for numerical).\n",
    "\n",
    "Action Taken Next Steps:\n",
    " - Drop Time_Employed_with_Previous_Employer due to excessive missing data.\n",
    " - Impute categorical variables using the mode.\n",
    " - Impute numerical variables using the median."
   ]
  },
  {
   "cell_type": "code",
   "execution_count": 431,
   "metadata": {},
   "outputs": [],
   "source": [
    "# Drop column with excessive missing values\n",
    "df_application.drop(columns=['Time_Employed_with_Previous_Employer_(Months)'], inplace=True)"
   ]
  },
  {
   "cell_type": "code",
   "execution_count": 432,
   "metadata": {},
   "outputs": [],
   "source": [
    "# Fill missing numerical data with median values\n",
    "num_cols = ['Age_at_Application', 'Time_at_Current_Employment_(Months)', 'Number_of_Dependents']\n",
    "for col in num_cols:\n",
    "    df_application[col].fillna(df_application[col].median(), inplace=True)\n"
   ]
  },
  {
   "cell_type": "code",
   "execution_count": 433,
   "metadata": {},
   "outputs": [],
   "source": [
    "# Fill missing categorical data with the most frequent value (mode)\n",
    "cat_cols = ['Marital_Status', 'Own_Rent_Home', 'Gender', 'Loan_Approval_Status', \n",
    "            'Employment_Status', 'Occupation_Professional_Category', \n",
    "            'Type_of_Business_Industry_of_Employment', 'Loan_Purpose', 'Government_Employee']\n",
    "\n",
    "for col in cat_cols:\n",
    "    df_application[col].fillna(df_application[col].mode()[0], inplace=True)"
   ]
  },
  {
   "cell_type": "code",
   "execution_count": 434,
   "metadata": {},
   "outputs": [
    {
     "name": "stdout",
     "output_type": "stream",
     "text": [
      "Missing values after handling: 0\n"
     ]
    }
   ],
   "source": [
    "# Verify missing values are handled\n",
    "print(\"Missing values after handling:\", df_application.isnull().sum().sum())"
   ]
  },
  {
   "cell_type": "markdown",
   "metadata": {},
   "source": [
    "#### Comment: All missing values in the application dataset have been successfully handled."
   ]
  },
  {
   "cell_type": "markdown",
   "metadata": {},
   "source": [
    "## Handling Duplicate Data"
   ]
  },
  {
   "cell_type": "code",
   "execution_count": 435,
   "metadata": {},
   "outputs": [
    {
     "data": {
      "text/plain": [
       "0"
      ]
     },
     "execution_count": 435,
     "metadata": {},
     "output_type": "execute_result"
    }
   ],
   "source": [
    "# Checking for duplicate values\n",
    "df_application.duplicated().sum()"
   ]
  },
  {
   "cell_type": "markdown",
   "metadata": {},
   "source": [
    "#### Comment:- No duplicate records were found in the application dataset"
   ]
  },
  {
   "cell_type": "markdown",
   "metadata": {},
   "source": [
    "## Handling Anomalies and Outliers in the dataset"
   ]
  },
  {
   "cell_type": "code",
   "execution_count": 436,
   "metadata": {},
   "outputs": [
    {
     "name": "stdout",
     "output_type": "stream",
     "text": [
      "Unique Values in Categorical Columns:\n",
      " {'Gender': array(['female', 'male'], dtype=object), 'Marital_Status': array(['unmarried', 'married', 'other', 'widowed', 'divorced'],\n",
      "      dtype=object), 'Loan_Approval_Status': array(['approved', 'customer cancellation', 'decline', 'suspend'],\n",
      "      dtype=object), 'Own_Rent_Home': array(['own', 'family', 'rent', 'other', 'company'], dtype=object)}\n"
     ]
    }
   ],
   "source": [
    "# Select numerical columns\n",
    "num_columns = ['Age_at_Application', 'Time_at_Current_Employment_(Months)', 'Monthly_Income', 'Number_of_Dependents']\n",
    "\n",
    "# Calculate IQR for outlier detection\n",
    "Q1 = df_application[num_columns].quantile(0.25)\n",
    "Q3 = df_application[num_columns].quantile(0.75)\n",
    "IQR = Q3 - Q1\n",
    "\n",
    "# Define outlier boundaries\n",
    "lower_bound = Q1 - 1.5 * IQR\n",
    "upper_bound = Q3 + 1.5 * IQR\n",
    "\n",
    "# Capping outliers using Winsorization\n",
    "for col in num_columns:\n",
    "    df_application[col] = np.where(df_application[col] < lower_bound[col], lower_bound[col], df_application[col])\n",
    "    df_application[col] = np.where(df_application[col] > upper_bound[col], upper_bound[col], df_application[col])\n",
    "\n",
    "# Step 5: Handling Text Data\n",
    "# Convert categorical columns to string and standardize format\n",
    "for col in cat_cols:\n",
    "    df_application[col] = df_application[col].astype(str).str.strip().str.lower()\n",
    "\n",
    "# Check cleaned categorical data\n",
    "unique_values = {col: df_application[col].unique() for col in ['Gender', 'Marital_Status', 'Loan_Approval_Status', 'Own_Rent_Home']}\n",
    "print(\"Unique Values in Categorical Columns:\\n\", unique_values)"
   ]
  },
  {
   "cell_type": "markdown",
   "metadata": {},
   "source": [
    "### Checking if the date column is correctly formatted"
   ]
  },
  {
   "cell_type": "code",
   "execution_count": 509,
   "metadata": {},
   "outputs": [
    {
     "name": "stdout",
     "output_type": "stream",
     "text": [
      "Application_ID                              object\n",
      "Application_Date                            object\n",
      "Loan_Approval_Status                        object\n",
      "Age_at_Application                         float64\n",
      "Marital_Status                              object\n",
      "Gender                                      object\n",
      "Own_Rent_Home                               object\n",
      "Occupation_Professional_Category            object\n",
      "Type_of_Business_Industry_of_Employment     object\n",
      "Employment_Status                           object\n",
      "Time_at_Current_Employment_(Months)        float64\n",
      "Number_of_Dependents                       float64\n",
      "Loan_Purpose                                object\n",
      "Monthly_Income                             float64\n",
      "Government_Employee                         object\n",
      "dtype: object\n"
     ]
    }
   ],
   "source": [
    "print(df_application.dtypes)  # Look for 'object' type instead of 'datetime64'"
   ]
  },
  {
   "cell_type": "markdown",
   "metadata": {},
   "source": [
    "### Convert date time format"
   ]
  },
  {
   "cell_type": "code",
   "execution_count": 512,
   "metadata": {},
   "outputs": [],
   "source": [
    "df_application['Application_Date'] = pd.to_datetime(df_application['Application_Date'], errors='coerce')"
   ]
  },
  {
   "cell_type": "code",
   "execution_count": 513,
   "metadata": {},
   "outputs": [
    {
     "name": "stdout",
     "output_type": "stream",
     "text": [
      "     Application_ID Application_Date   Loan_Approval_Status  \\\n",
      "115      C302100116              NaT               approved   \n",
      "116      C302100117              NaT               approved   \n",
      "117      C302100118              NaT               approved   \n",
      "118      C302100119              NaT               approved   \n",
      "119      C302100120              NaT               approved   \n",
      "...             ...              ...                    ...   \n",
      "9448     C302109449              NaT  customer cancellation   \n",
      "9451     C302109452              NaT               approved   \n",
      "9455     C302109456              NaT               approved   \n",
      "9457     C302109458              NaT               approved   \n",
      "9475     C302109476              NaT               approved   \n",
      "\n",
      "      Age_at_Application Marital_Status  Gender Own_Rent_Home  \\\n",
      "115                 46.0        married    male          rent   \n",
      "116                 25.0      unmarried    male        family   \n",
      "117                 19.0      unmarried    male        family   \n",
      "118                 20.0      unmarried    male        family   \n",
      "119                 26.0      unmarried  female        family   \n",
      "...                  ...            ...     ...           ...   \n",
      "9448                24.0      unmarried    male        family   \n",
      "9451                39.0      unmarried  female        family   \n",
      "9455                22.0      unmarried    male        family   \n",
      "9457                32.0      unmarried    male        family   \n",
      "9475                28.0      unmarried  female        family   \n",
      "\n",
      "           Occupation_Professional_Category  \\\n",
      "115                                 officer   \n",
      "116                                 officer   \n",
      "117                                employee   \n",
      "118   technician and associate professional   \n",
      "119                                 officer   \n",
      "...                                     ...   \n",
      "9448                                officer   \n",
      "9451               service and sales worker   \n",
      "9455                               employee   \n",
      "9457                                officer   \n",
      "9475                      semi-professional   \n",
      "\n",
      "     Type_of_Business_Industry_of_Employment Employment_Status  \\\n",
      "115                            civil service         full-time   \n",
      "116                private security services          contract   \n",
      "117                                  tourism          contract   \n",
      "118                                  tourism         full-time   \n",
      "119                 food & beverage services         full-time   \n",
      "...                                      ...               ...   \n",
      "9448                           civil service         full-time   \n",
      "9451                           civil service         full-time   \n",
      "9455                           civil service         full-time   \n",
      "9457                           civil service         full-time   \n",
      "9475                               financial         full-time   \n",
      "\n",
      "      Time_at_Current_Employment_(Months)  Number_of_Dependents  \\\n",
      "115                                  13.0                   2.5   \n",
      "116                                  43.0                   1.0   \n",
      "117                                  13.0                   0.0   \n",
      "118                                  14.0                   0.0   \n",
      "119                                  18.0                   1.0   \n",
      "...                                   ...                   ...   \n",
      "9448                                 41.0                   1.0   \n",
      "9451                                 48.0                   1.0   \n",
      "9455                                 31.0                   1.0   \n",
      "9457                                 35.0                   1.0   \n",
      "9475                                 77.0                   1.0   \n",
      "\n",
      "            Loan_Purpose  Monthly_Income Government_Employee  \n",
      "115                other         3641.36               false  \n",
      "116     home improvement         1442.75               false  \n",
      "117                other         1290.18               false  \n",
      "118                other         1592.58               false  \n",
      "119     home improvement          940.94               false  \n",
      "...                  ...             ...                 ...  \n",
      "9448               other         3296.86               false  \n",
      "9451               other         2032.04               false  \n",
      "9455               other          805.41               false  \n",
      "9457               other         1453.69               false  \n",
      "9475  debt consolidation         4526.92               false  \n",
      "\n",
      "[1363 rows x 15 columns]\n"
     ]
    }
   ],
   "source": [
    "print(df_application[df_application['Application_Date'].isnull()])  # Check rows with missing dates\n"
   ]
  },
  {
   "cell_type": "markdown",
   "metadata": {},
   "source": [
    "## Standardize dates format"
   ]
  },
  {
   "cell_type": "code",
   "execution_count": 515,
   "metadata": {},
   "outputs": [],
   "source": [
    "df_application['Application_Date'] = df_application['Application_Date'].dt.strftime('%Y-%m-%d')\n"
   ]
  },
  {
   "cell_type": "markdown",
   "metadata": {},
   "source": [
    "##  Saving the cleaned dataset"
   ]
  },
  {
   "cell_type": "code",
   "execution_count": 516,
   "metadata": {},
   "outputs": [
    {
     "name": "stdout",
     "output_type": "stream",
     "text": [
      "Cleaned dataset saved successfully!\n"
     ]
    }
   ],
   "source": [
    "cleaned_file_path = \"Cleaned_ApplicationData.csv\"\n",
    "df_application.to_csv(cleaned_file_path, index=False)\n",
    "print(\"Cleaned dataset saved successfully!\")"
   ]
  },
  {
   "cell_type": "markdown",
   "metadata": {},
   "source": [
    "# Data Preparation and Data Cleaning for ContractsData.csv"
   ]
  },
  {
   "cell_type": "markdown",
   "metadata": {},
   "source": [
    "### Data Understanding:\n",
    " - The ContractsData dataset has 9,374 rows and 9 columns.\n",
    "\n",
    "#### Data Types:\n",
    " - Numeric: Key (integer), Total_Loan_Amount (float).\n",
    " - Categorical/Text: Contract_ID, Application_ID, Loan_Type, Contract_Start_Date, Expected_Contract_End_Date, Actual_Contract_End_Date,Loan_Term.\n",
    "\n",
    "\n",
    "### Observations:\n",
    " - Loan_Type has only one unique value (\"Unsecured Personal Loan\"), making it redundant.\n",
    " - Application_ID has missing values (7,598 non-null out of 9,374).\n",
    " - Actual_Contract_End_Date has many missing values (only 2,593 non-null).\n",
    " - Loan_Term has 110 unique values, requiring further inspection.\n",
    " - Contract_Start_Date seems to have an inconsistent format (\"202-1-03-19\" may be a typo)."
   ]
  },
  {
   "cell_type": "markdown",
   "metadata": {},
   "source": [
    "## Loading the Libraries"
   ]
  },
  {
   "cell_type": "code",
   "execution_count": 438,
   "metadata": {},
   "outputs": [],
   "source": [
    "import pandas as pd\n",
    "import seaborn as sns\n",
    "import matplotlib.pyplot as plt"
   ]
  },
  {
   "cell_type": "markdown",
   "metadata": {},
   "source": [
    "## Loading the ContractsData dataset"
   ]
  },
  {
   "cell_type": "code",
   "execution_count": 439,
   "metadata": {},
   "outputs": [],
   "source": [
    "# Load dataset\n",
    "df_ContractsData = pd.read_csv(\"ContractsData.csv\")\n"
   ]
  },
  {
   "cell_type": "code",
   "execution_count": 440,
   "metadata": {},
   "outputs": [
    {
     "name": "stdout",
     "output_type": "stream",
     "text": [
      "<class 'pandas.core.frame.DataFrame'>\n",
      "RangeIndex: 9374 entries, 0 to 9373\n",
      "Data columns (total 9 columns):\n",
      " #   Column                      Non-Null Count  Dtype  \n",
      "---  ------                      --------------  -----  \n",
      " 0   Contract_ID                 9374 non-null   object \n",
      " 1   Application_ID              7598 non-null   object \n",
      " 2   Key                         9374 non-null   int64  \n",
      " 3   Loan_Type                   9374 non-null   object \n",
      " 4   Contract_Start_Date         9374 non-null   object \n",
      " 5   Expected_Contract_End_Date  9374 non-null   object \n",
      " 6   Actual_Contract_End_Date    2593 non-null   object \n",
      " 7   Loan_Term                   9374 non-null   object \n",
      " 8   Total_Loan_Amount           9374 non-null   float64\n",
      "dtypes: float64(1), int64(1), object(7)\n",
      "memory usage: 659.2+ KB\n",
      "  Contract_ID Application_ID  Key                Loan_Type  \\\n",
      "0  CONT100001     C302103426    1  Unsecured Personal Loan   \n",
      "1  CONT100002     C302103426    2  Unsecured Personal Loan   \n",
      "2  CONT100003     C302107460    1  Unsecured Personal Loan   \n",
      "3  CONT100004     C302107453    1  Unsecured Personal Loan   \n",
      "4  CONT100005     C302107447    1  Unsecured Personal Loan   \n",
      "\n",
      "  Contract_Start_Date Expected_Contract_End_Date Actual_Contract_End_Date  \\\n",
      "0          2018-04-12                 2023-04-12                      NaN   \n",
      "1          2018-04-12                 2023-04-12                      NaN   \n",
      "2         202-1-08-31                 2024-09-01                      NaN   \n",
      "3         202-1-08-28                 2023-08-28                      NaN   \n",
      "4         202-1-08-27                 2023-08-27                      NaN   \n",
      "\n",
      "       Loan_Term  Total_Loan_Amount  \n",
      "0  60 - Month(s)           24529.89  \n",
      "1  60 - Month(s)           35085.79  \n",
      "2  60 - Month(s)           53564.88  \n",
      "3  48 - Month(s)           29073.86  \n",
      "4  48 - Month(s)           11723.33  \n"
     ]
    }
   ],
   "source": [
    "# Data Understanding\n",
    "# Checking the first 5 rows of the dataset\n",
    "df_ContractsData.info()\n",
    "print(df_ContractsData.head())"
   ]
  },
  {
   "cell_type": "code",
   "execution_count": 441,
   "metadata": {},
   "outputs": [
    {
     "name": "stdout",
     "output_type": "stream",
     "text": [
      "\n",
      "Summary Statistics:\n",
      "               Key  Total_Loan_Amount\n",
      "count  9374.000000        9374.000000\n",
      "mean      1.302752       24271.437439\n",
      "std       0.635954       23807.037921\n",
      "min       1.000000           0.000000\n",
      "25%       1.000000        8620.267500\n",
      "50%       1.000000       15115.240000\n",
      "75%       1.000000       30893.970000\n",
      "max       4.000000      239137.160000\n"
     ]
    }
   ],
   "source": [
    "print(\"\\nSummary Statistics:\")\n",
    "print(df_ContractsData.describe())"
   ]
  },
  {
   "cell_type": "markdown",
   "metadata": {},
   "source": [
    "### Handling Missing Data"
   ]
  },
  {
   "cell_type": "code",
   "execution_count": 442,
   "metadata": {},
   "outputs": [
    {
     "name": "stdout",
     "output_type": "stream",
     "text": [
      "Contract_ID                      0\n",
      "Application_ID                1776\n",
      "Key                              0\n",
      "Loan_Type                        0\n",
      "Contract_Start_Date              0\n",
      "Expected_Contract_End_Date       0\n",
      "Actual_Contract_End_Date      6781\n",
      "Loan_Term                        0\n",
      "Total_Loan_Amount                0\n",
      "dtype: int64\n"
     ]
    }
   ],
   "source": [
    "missing_values = df_ContractsData.isnull().sum()\n",
    "print(missing_values)"
   ]
  },
  {
   "cell_type": "code",
   "execution_count": 443,
   "metadata": {},
   "outputs": [
    {
     "name": "stdout",
     "output_type": "stream",
     "text": [
      "Missing Values Percentage:\n",
      " Application_ID              18.946021\n",
      "Actual_Contract_End_Date    72.338383\n",
      "dtype: float64\n"
     ]
    }
   ],
   "source": [
    "# Checking percentage of missing values\n",
    "missing_values = df_ContractsData.isnull().sum() / len(df_ContractsData) * 100\n",
    "print(\"Missing Values Percentage:\\n\", missing_values[missing_values > 0])"
   ]
  },
  {
   "cell_type": "markdown",
   "metadata": {},
   "source": [
    "#### Key Observations:\n",
    " - Application_ID: 18.95% missing.\n",
    " - Actual_Contract_End_Date: 72.34% missing\n",
    "\n",
    "#### Next action:\n",
    " - To handle missing values in Applicatio_ID column, I suggest we Fill missing values with \"Unknown\" or investigate if they can be inferred.\n",
    " - Likely due to ongoing contracts, I suggest we  can replace missing values with \"Ongoing\".\n",
    "\n"
   ]
  },
  {
   "cell_type": "code",
   "execution_count": 444,
   "metadata": {},
   "outputs": [],
   "source": [
    "# Fill missing Application_ID with 'Unknown'\n",
    "df_ContractsData[\"Application_ID\"].fillna(\"Unknown\", inplace=True)\n",
    "\n",
    "# Fill missing Actual_Contract_End_Date with 'Ongoing'\n",
    "df_ContractsData[\"Actual_Contract_End_Date\"].fillna(\"Ongoing\", inplace=True)"
   ]
  },
  {
   "cell_type": "markdown",
   "metadata": {},
   "source": [
    "### Handling the Duplicates"
   ]
  },
  {
   "cell_type": "code",
   "execution_count": 445,
   "metadata": {},
   "outputs": [
    {
     "name": "stdout",
     "output_type": "stream",
     "text": [
      "\n",
      "Duplicate Rows: 0\n"
     ]
    }
   ],
   "source": [
    "# Handling Duplicate Data\n",
    "duplicate_count = df_ContractsData.duplicated().sum()\n",
    "print(\"\\nDuplicate Rows:\", duplicate_count)"
   ]
  },
  {
   "cell_type": "markdown",
   "metadata": {},
   "source": [
    "#### Comment:- No duplicate records were found in the application dataset"
   ]
  },
  {
   "cell_type": "markdown",
   "metadata": {},
   "source": [
    "### Handling Outliers and Anomalies"
   ]
  },
  {
   "cell_type": "code",
   "execution_count": 446,
   "metadata": {},
   "outputs": [
    {
     "data": {
      "image/png": "[encoded data removed]",
      "text/plain": [
       "<Figure size 1080x720 with 1 Axes>"
      ]
     },
     "metadata": {
      "needs_background": "light"
     },
     "output_type": "display_data"
    }
   ],
   "source": [
    "#Handling Outliers (Total Loan Amount)\n",
    "plt.figure(figsize=(15, 10))\n",
    "sns.boxplot(y=df_ContractsData[\"Total_Loan_Amount\"], color=\"orange\") \n",
    "plt.title(\"Boxplot of Total Loan Amount\")\n",
    "plt.ylabel(\"Total Loan Amount\")\n",
    "plt.show()"
   ]
  },
  {
   "cell_type": "markdown",
   "metadata": {},
   "source": [
    "### Key Observations\n",
    " - Total Loan Amount has some extreme values above 107,990.18, with a maximum of 239,137.16.\n",
    " - These could be valid high-value loans rather than errors.\n",
    " - Instead of removing, we can cap extreme values at the 99th percentile (107,990.18) to prevent skewed analysis."
   ]
  },
  {
   "cell_type": "code",
   "execution_count": 447,
   "metadata": {},
   "outputs": [],
   "source": [
    "## Capping extreme outliers at 99th percentile\n",
    "cap_value = df_ContractsData[\"Total_Loan_Amount\"].quantile(0.99)\n",
    "df_ContractsData[\"Total_Loan_Amount\"] = df_ContractsData[\"Total_Loan_Amount\"].clip(upper=cap_value)"
   ]
  },
  {
   "cell_type": "markdown",
   "metadata": {},
   "source": [
    "### Comments:- The Total_Loan_Amount has been capped at 107,891.23, reducing extreme outliers while preserving data integrity"
   ]
  },
  {
   "cell_type": "markdown",
   "metadata": {},
   "source": [
    "### Handling Text Data"
   ]
  },
  {
   "cell_type": "code",
   "execution_count": 448,
   "metadata": {},
   "outputs": [],
   "source": [
    "# Convert date columns to datetime format\n",
    "date_columns = [\"Contract_Start_Date\", \"Expected_Contract_End_Date\", \"Actual_Contract_End_Date\"]\n",
    "for col in date_columns:\n",
    "    df_ContractsData[col] = pd.to_datetime(df_ContractsData[col], errors=\"coerce\")\n",
    "\n",
    "# Standardizing Loan_Term format\n",
    "df_ContractsData[\"Loan_Term\"] = df_ContractsData[\"Loan_Term\"].str.replace(r\"\\s+\", \" \", regex=True).str.strip()"
   ]
  },
  {
   "cell_type": "markdown",
   "metadata": {},
   "source": [
    "### Creating the cleaned dataset"
   ]
  },
  {
   "cell_type": "code",
   "execution_count": 449,
   "metadata": {},
   "outputs": [
    {
     "name": "stdout",
     "output_type": "stream",
     "text": [
      "\n",
      "Data cleaning completed. Cleaned dataset saved as 'Cleaned_ContractsData.csv'.\n"
     ]
    }
   ],
   "source": [
    "df_ContractsData.to_csv(\"Cleaned_ContractsData.csv\", index=False)\n",
    "\n",
    "print(\"\\nData cleaning completed. Cleaned dataset saved as 'Cleaned_ContractsData.csv'.\")"
   ]
  },
  {
   "cell_type": "markdown",
   "metadata": {},
   "source": [
    "## Data Preparation and Data Cleaning - ContractSnapshotData.csv"
   ]
  },
  {
   "cell_type": "markdown",
   "metadata": {},
   "source": [
    "## Loading the dataset"
   ]
  },
  {
   "cell_type": "code",
   "execution_count": 450,
   "metadata": {},
   "outputs": [],
   "source": [
    "# Load the dataset\n",
    "df_ContractsSnapshotData = pd.read_csv(\"ContractsSnapshotData.csv\")\n"
   ]
  },
  {
   "cell_type": "code",
   "execution_count": 451,
   "metadata": {},
   "outputs": [
    {
     "data": {
      "text/html": [
       "<div>\n",
       "<style scoped>\n",
       "    .dataframe tbody tr th:only-of-type {\n",
       "        vertical-align: middle;\n",
       "    }\n",
       "\n",
       "    .dataframe tbody tr th {\n",
       "        vertical-align: top;\n",
       "    }\n",
       "\n",
       "    .dataframe thead th {\n",
       "        text-align: right;\n",
       "    }\n",
       "</style>\n",
       "<table border=\"1\" class=\"dataframe\">\n",
       "  <thead>\n",
       "    <tr style=\"text-align: right;\">\n",
       "      <th></th>\n",
       "      <th>Contract_ID</th>\n",
       "      <th>Snapshot Date</th>\n",
       "      <th>Outstanding Amount</th>\n",
       "      <th>Due Amount</th>\n",
       "      <th>Number of Days Past Due</th>\n",
       "      <th>Contract Status</th>\n",
       "    </tr>\n",
       "  </thead>\n",
       "  <tbody>\n",
       "    <tr>\n",
       "      <th>0</th>\n",
       "      <td>CONT109375</td>\n",
       "      <td>2018-12-31</td>\n",
       "      <td>0.00</td>\n",
       "      <td>0.0</td>\n",
       "      <td>NaN</td>\n",
       "      <td>Closed</td>\n",
       "    </tr>\n",
       "    <tr>\n",
       "      <th>1</th>\n",
       "      <td>CONT109376</td>\n",
       "      <td>2006-08-31</td>\n",
       "      <td>215.08</td>\n",
       "      <td>0.0</td>\n",
       "      <td>NaN</td>\n",
       "      <td>Active</td>\n",
       "    </tr>\n",
       "    <tr>\n",
       "      <th>2</th>\n",
       "      <td>CONT109376</td>\n",
       "      <td>2006-09-30</td>\n",
       "      <td>215.08</td>\n",
       "      <td>0.0</td>\n",
       "      <td>NaN</td>\n",
       "      <td>Active</td>\n",
       "    </tr>\n",
       "    <tr>\n",
       "      <th>3</th>\n",
       "      <td>CONT109376</td>\n",
       "      <td>2006-10-31</td>\n",
       "      <td>215.08</td>\n",
       "      <td>0.0</td>\n",
       "      <td>NaN</td>\n",
       "      <td>Active</td>\n",
       "    </tr>\n",
       "    <tr>\n",
       "      <th>4</th>\n",
       "      <td>CONT109376</td>\n",
       "      <td>2006-11-30</td>\n",
       "      <td>215.08</td>\n",
       "      <td>0.0</td>\n",
       "      <td>NaN</td>\n",
       "      <td>Active</td>\n",
       "    </tr>\n",
       "  </tbody>\n",
       "</table>\n",
       "</div>"
      ],
      "text/plain": [
       "  Contract_ID Snapshot Date  Outstanding Amount  Due Amount  \\\n",
       "0  CONT109375    2018-12-31                0.00         0.0   \n",
       "1  CONT109376    2006-08-31              215.08         0.0   \n",
       "2  CONT109376    2006-09-30              215.08         0.0   \n",
       "3  CONT109376    2006-10-31              215.08         0.0   \n",
       "4  CONT109376    2006-11-30              215.08         0.0   \n",
       "\n",
       "   Number of Days Past Due Contract Status  \n",
       "0                      NaN          Closed  \n",
       "1                      NaN          Active  \n",
       "2                      NaN          Active  \n",
       "3                      NaN          Active  \n",
       "4                      NaN          Active  "
      ]
     },
     "execution_count": 451,
     "metadata": {},
     "output_type": "execute_result"
    }
   ],
   "source": [
    "# Checking the first five rows of the dataset\n",
    "df_ContractsSnapshotData.head()"
   ]
  },
  {
   "cell_type": "code",
   "execution_count": 452,
   "metadata": {},
   "outputs": [
    {
     "data": {
      "text/plain": [
       "(274371, 6)"
      ]
     },
     "execution_count": 452,
     "metadata": {},
     "output_type": "execute_result"
    }
   ],
   "source": [
    "# Checking the number of rows and columns\n",
    "df_ContractsSnapshotData.shape"
   ]
  },
  {
   "cell_type": "markdown",
   "metadata": {},
   "source": [
    "### Comments:- The ContractSnapshot dataset contains 274'371 records and 6 columns related to loan applications.\n"
   ]
  },
  {
   "cell_type": "code",
   "execution_count": 453,
   "metadata": {},
   "outputs": [
    {
     "name": "stdout",
     "output_type": "stream",
     "text": [
      "Numeric Columns: ['Outstanding Amount', 'Due Amount', 'Number of Days Past Due']\n",
      "Categorical Columns: ['Contract_ID', 'Snapshot Date', 'Contract Status']\n",
      "Unique Values: ['Contract_ID', 'Snapshot Date', 'Contract Status']\n"
     ]
    }
   ],
   "source": [
    "# Separate numeric and categorical columns\n",
    "numeric_cols = df_ContractsSnapshotData.select_dtypes(include=['number']).columns\n",
    "categorical_cols = df_ContractsSnapshotData.select_dtypes(exclude=['number']).columns\n",
    "\n",
    "# Display unique values count for each categorical column\n",
    "unique_values = {col: df_ContractsSnapshotData[col].nunique() for col in categorical_cols}\n",
    "\n",
    "# Print results\n",
    "print(\"Numeric Columns:\", list(numeric_cols))\n",
    "print(\"Categorical Columns:\", list(categorical_cols))\n",
    "print(\"Unique Values:\", list(unique_values))"
   ]
  },
  {
   "cell_type": "code",
   "execution_count": 454,
   "metadata": {},
   "outputs": [
    {
     "name": "stdout",
     "output_type": "stream",
     "text": [
      "<class 'pandas.core.frame.DataFrame'>\n",
      "RangeIndex: 274371 entries, 0 to 274370\n",
      "Data columns (total 6 columns):\n",
      " #   Column                   Non-Null Count   Dtype  \n",
      "---  ------                   --------------   -----  \n",
      " 0   Contract_ID              274371 non-null  object \n",
      " 1   Snapshot Date            274371 non-null  object \n",
      " 2   Outstanding Amount       274371 non-null  float64\n",
      " 3   Due Amount               274371 non-null  float64\n",
      " 4   Number of Days Past Due  79158 non-null   float64\n",
      " 5   Contract Status          274371 non-null  object \n",
      "dtypes: float64(3), object(3)\n",
      "memory usage: 12.6+ MB\n"
     ]
    }
   ],
   "source": [
    "#Identify column data types using \n",
    "df_ContractsSnapshotData.info()\n"
   ]
  },
  {
   "cell_type": "code",
   "execution_count": 455,
   "metadata": {},
   "outputs": [
    {
     "name": "stdout",
     "output_type": "stream",
     "text": [
      "\n",
      "Summary Statistics:\n",
      "       Outstanding Amount     Due Amount  Number of Days Past Due\n",
      "count        2.743710e+05  274371.000000             79158.000000\n",
      "mean         2.516123e+04     384.217923                65.570606\n",
      "std          4.084894e+04    2431.451256               141.958344\n",
      "min         -7.087329e+04       0.000000                 0.000000\n",
      "25%          3.697200e+03       0.000000                 0.000000\n",
      "50%          1.123487e+04       0.000000                 5.000000\n",
      "75%          3.028738e+04       1.760000                60.000000\n",
      "max          1.059941e+06  211534.630000              1765.000000\n"
     ]
    }
   ],
   "source": [
    "print(\"\\nSummary Statistics:\")\n",
    "print(df_ContractsSnapshotData.describe())"
   ]
  },
  {
   "cell_type": "markdown",
   "metadata": {},
   "source": [
    "### Handling Missing Values"
   ]
  },
  {
   "cell_type": "code",
   "execution_count": 456,
   "metadata": {},
   "outputs": [
    {
     "name": "stdout",
     "output_type": "stream",
     "text": [
      "Contract_ID                     0\n",
      "Snapshot Date                   0\n",
      "Outstanding Amount              0\n",
      "Due Amount                      0\n",
      "Number of Days Past Due    195213\n",
      "Contract Status                 0\n",
      "dtype: int64\n"
     ]
    }
   ],
   "source": [
    "missing_values = df_ContractsSnapshotData.isnull().sum()\n",
    "print(missing_values)"
   ]
  },
  {
   "cell_type": "code",
   "execution_count": 457,
   "metadata": {},
   "outputs": [
    {
     "name": "stdout",
     "output_type": "stream",
     "text": [
      "Missing Values Percentage:\n",
      " Number of Days Past Due    71.149283\n",
      "dtype: float64\n"
     ]
    }
   ],
   "source": [
    "# Checking percentage of missing values\n",
    "missing_values = df_ContractsSnapshotData.isnull().sum() / len(df_ContractsSnapshotData) * 100\n",
    "print(\"Missing Values Percentage:\\n\", missing_values[missing_values > 0])"
   ]
  },
  {
   "cell_type": "markdown",
   "metadata": {},
   "source": [
    "### Key Observations:\n",
    " - The dataset on ContractSnapshot.csv has 195,213 or 71.14% Number of missing values under Number of Days Past Due column"
   ]
  },
  {
   "cell_type": "markdown",
   "metadata": {},
   "source": [
    "### Next Action\n",
    "To handle missing values check if data is normaly distributed using histogram and sharpiro wilk-test"
   ]
  },
  {
   "cell_type": "code",
   "execution_count": 458,
   "metadata": {},
   "outputs": [
    {
     "data": {
      "image/png": "[encoded data removed]",
      "text/plain": [
       "<Figure size 432x288 with 1 Axes>"
      ]
     },
     "metadata": {
      "needs_background": "light"
     },
     "output_type": "display_data"
    }
   ],
   "source": [
    "# Checking if dataset is normally distributed\n",
    "plt.hist(df_ContractsSnapshotData['Number of Days Past Due'].dropna(), bins=30, edgecolor='black')\n",
    "plt.title('Histogram of Number of Days Past Due')\n",
    "plt.xlabel('Days Past Due')\n",
    "plt.ylabel('Frequency')\n",
    "plt.show()"
   ]
  },
  {
   "cell_type": "code",
   "execution_count": 459,
   "metadata": {},
   "outputs": [
    {
     "name": "stdout",
     "output_type": "stream",
     "text": [
      "Statistic=0.5123794078826904, p-value=0.0\n"
     ]
    },
    {
     "name": "stderr",
     "output_type": "stream",
     "text": [
      "c:\\Users\\ELITEBOOK\\anaconda3\\envs\\learn-env\\lib\\site-packages\\scipy\\stats\\morestats.py:1681: UserWarning: p-value may not be accurate for N > 5000.\n",
      "  warnings.warn(\"p-value may not be accurate for N > 5000.\")\n"
     ]
    }
   ],
   "source": [
    "from scipy.stats import shapiro\n",
    "\n",
    "stat, p = shapiro(df_ContractsSnapshotData['Number of Days Past Due'].dropna())\n",
    "print(f'Statistic={stat}, p-value={p}')"
   ]
  },
  {
   "cell_type": "code",
   "execution_count": 460,
   "metadata": {},
   "outputs": [
    {
     "name": "stdout",
     "output_type": "stream",
     "text": [
      "Skewness: 3.836580093974453\n",
      "Kurtosis: 18.481616115671912\n"
     ]
    }
   ],
   "source": [
    "from scipy.stats import skew, kurtosis\n",
    "\n",
    "print(f'Skewness: {skew(df_ContractsSnapshotData[\"Number of Days Past Due\"].dropna())}')\n",
    "print(f'Kurtosis: {kurtosis(df_ContractsSnapshotData[\"Number of Days Past Due\"].dropna())}')"
   ]
  },
  {
   "cell_type": "markdown",
   "metadata": {},
   "source": [
    "### Key Observation\n",
    " - The histogram and Skweness test shows the dataset is not normaly distributed  given the shape of the bell \n",
    " - The skwenss of 3.8 and Kurtosis of 18.48 implies the data is highly skewed"
   ]
  },
  {
   "cell_type": "markdown",
   "metadata": {},
   "source": [
    "### Action:"
   ]
  },
  {
   "cell_type": "markdown",
   "metadata": {},
   "source": [
    "- Given the dataset is not normally distributed, we suggest to use median imputation to handle the missing values in the Number of Days Past Due column"
   ]
  },
  {
   "cell_type": "code",
   "execution_count": 461,
   "metadata": {},
   "outputs": [],
   "source": [
    "# Filling the missing values using median\n",
    "df_ContractsSnapshotData['Number of Days Past Due'].fillna(df_ContractsSnapshotData['Number of Days Past Due'].median(), inplace=True)\n"
   ]
  },
  {
   "cell_type": "code",
   "execution_count": 462,
   "metadata": {},
   "outputs": [
    {
     "name": "stdout",
     "output_type": "stream",
     "text": [
      "Missing values after handling: 0\n"
     ]
    }
   ],
   "source": [
    "# Verify missing values are handled\n",
    "print(\"Missing values after handling:\", df_ContractsSnapshotData.isnull().sum().sum())"
   ]
  },
  {
   "cell_type": "markdown",
   "metadata": {},
   "source": [
    "## Handling Duplicates"
   ]
  },
  {
   "cell_type": "code",
   "execution_count": 463,
   "metadata": {},
   "outputs": [
    {
     "name": "stdout",
     "output_type": "stream",
     "text": [
      "\n",
      "Duplicate Rows: 84\n"
     ]
    }
   ],
   "source": [
    "# Handling Duplicate Data\n",
    "duplicate_count = df_ContractsSnapshotData.duplicated().sum()\n",
    "print(\"\\nDuplicate Rows:\", duplicate_count)"
   ]
  },
  {
   "cell_type": "markdown",
   "metadata": {},
   "source": [
    "#### Comment:- 84 duplicate records were found in the ContractSnapshot dataset"
   ]
  },
  {
   "cell_type": "code",
   "execution_count": 464,
   "metadata": {},
   "outputs": [
    {
     "data": {
      "text/html": [
       "<div>\n",
       "<style scoped>\n",
       "    .dataframe tbody tr th:only-of-type {\n",
       "        vertical-align: middle;\n",
       "    }\n",
       "\n",
       "    .dataframe tbody tr th {\n",
       "        vertical-align: top;\n",
       "    }\n",
       "\n",
       "    .dataframe thead th {\n",
       "        text-align: right;\n",
       "    }\n",
       "</style>\n",
       "<table border=\"1\" class=\"dataframe\">\n",
       "  <thead>\n",
       "    <tr style=\"text-align: right;\">\n",
       "      <th></th>\n",
       "      <th>Contract_ID</th>\n",
       "      <th>Snapshot Date</th>\n",
       "      <th>Outstanding Amount</th>\n",
       "      <th>Due Amount</th>\n",
       "      <th>Number of Days Past Due</th>\n",
       "      <th>Contract Status</th>\n",
       "    </tr>\n",
       "  </thead>\n",
       "  <tbody>\n",
       "    <tr>\n",
       "      <th>197024</th>\n",
       "      <td>CONT113851</td>\n",
       "      <td>2015-02-29</td>\n",
       "      <td>2832.12</td>\n",
       "      <td>203.12</td>\n",
       "      <td>0.0</td>\n",
       "      <td>Active</td>\n",
       "    </tr>\n",
       "    <tr>\n",
       "      <th>197053</th>\n",
       "      <td>CONT113852</td>\n",
       "      <td>2015-02-29</td>\n",
       "      <td>0.00</td>\n",
       "      <td>0.00</td>\n",
       "      <td>0.0</td>\n",
       "      <td>Active</td>\n",
       "    </tr>\n",
       "    <tr>\n",
       "      <th>197083</th>\n",
       "      <td>CONT113853</td>\n",
       "      <td>2015-02-29</td>\n",
       "      <td>433.25</td>\n",
       "      <td>20.07</td>\n",
       "      <td>0.0</td>\n",
       "      <td>Active</td>\n",
       "    </tr>\n",
       "    <tr>\n",
       "      <th>197135</th>\n",
       "      <td>CONT113854</td>\n",
       "      <td>2015-02-29</td>\n",
       "      <td>2058.73</td>\n",
       "      <td>169.73</td>\n",
       "      <td>0.0</td>\n",
       "      <td>Active</td>\n",
       "    </tr>\n",
       "    <tr>\n",
       "      <th>197170</th>\n",
       "      <td>CONT113855</td>\n",
       "      <td>2015-02-29</td>\n",
       "      <td>787.53</td>\n",
       "      <td>84.13</td>\n",
       "      <td>0.0</td>\n",
       "      <td>Active</td>\n",
       "    </tr>\n",
       "    <tr>\n",
       "      <th>...</th>\n",
       "      <td>...</td>\n",
       "      <td>...</td>\n",
       "      <td>...</td>\n",
       "      <td>...</td>\n",
       "      <td>...</td>\n",
       "      <td>...</td>\n",
       "    </tr>\n",
       "    <tr>\n",
       "      <th>200299</th>\n",
       "      <td>CONT113930</td>\n",
       "      <td>2015-02-29</td>\n",
       "      <td>0.00</td>\n",
       "      <td>0.00</td>\n",
       "      <td>0.0</td>\n",
       "      <td>Active</td>\n",
       "    </tr>\n",
       "    <tr>\n",
       "      <th>200348</th>\n",
       "      <td>CONT113931</td>\n",
       "      <td>2015-02-29</td>\n",
       "      <td>838.03</td>\n",
       "      <td>134.63</td>\n",
       "      <td>0.0</td>\n",
       "      <td>Active</td>\n",
       "    </tr>\n",
       "    <tr>\n",
       "      <th>200386</th>\n",
       "      <td>CONT113932</td>\n",
       "      <td>2015-02-29</td>\n",
       "      <td>843.77</td>\n",
       "      <td>140.38</td>\n",
       "      <td>0.0</td>\n",
       "      <td>Active</td>\n",
       "    </tr>\n",
       "    <tr>\n",
       "      <th>200438</th>\n",
       "      <td>CONT113933</td>\n",
       "      <td>2015-02-29</td>\n",
       "      <td>0.00</td>\n",
       "      <td>0.00</td>\n",
       "      <td>0.0</td>\n",
       "      <td>Active</td>\n",
       "    </tr>\n",
       "    <tr>\n",
       "      <th>200451</th>\n",
       "      <td>CONT113934</td>\n",
       "      <td>2015-02-29</td>\n",
       "      <td>3101.43</td>\n",
       "      <td>115.62</td>\n",
       "      <td>0.0</td>\n",
       "      <td>Active</td>\n",
       "    </tr>\n",
       "  </tbody>\n",
       "</table>\n",
       "<p>84 rows × 6 columns</p>\n",
       "</div>"
      ],
      "text/plain": [
       "       Contract_ID Snapshot Date  Outstanding Amount  Due Amount  \\\n",
       "197024  CONT113851    2015-02-29             2832.12      203.12   \n",
       "197053  CONT113852    2015-02-29                0.00        0.00   \n",
       "197083  CONT113853    2015-02-29              433.25       20.07   \n",
       "197135  CONT113854    2015-02-29             2058.73      169.73   \n",
       "197170  CONT113855    2015-02-29              787.53       84.13   \n",
       "...            ...           ...                 ...         ...   \n",
       "200299  CONT113930    2015-02-29                0.00        0.00   \n",
       "200348  CONT113931    2015-02-29              838.03      134.63   \n",
       "200386  CONT113932    2015-02-29              843.77      140.38   \n",
       "200438  CONT113933    2015-02-29                0.00        0.00   \n",
       "200451  CONT113934    2015-02-29             3101.43      115.62   \n",
       "\n",
       "        Number of Days Past Due Contract Status  \n",
       "197024                      0.0          Active  \n",
       "197053                      0.0          Active  \n",
       "197083                      0.0          Active  \n",
       "197135                      0.0          Active  \n",
       "197170                      0.0          Active  \n",
       "...                         ...             ...  \n",
       "200299                      0.0          Active  \n",
       "200348                      0.0          Active  \n",
       "200386                      0.0          Active  \n",
       "200438                      0.0          Active  \n",
       "200451                      0.0          Active  \n",
       "\n",
       "[84 rows x 6 columns]"
      ]
     },
     "execution_count": 464,
     "metadata": {},
     "output_type": "execute_result"
    }
   ],
   "source": [
    "df_ContractsSnapshotData[df_ContractsSnapshotData.duplicated()]\n"
   ]
  },
  {
   "cell_type": "code",
   "execution_count": 465,
   "metadata": {},
   "outputs": [],
   "source": [
    "# Drop all the duplicates column\n",
    "df_ContractsSnapshotData = df_ContractsSnapshotData.drop_duplicates()"
   ]
  },
  {
   "cell_type": "code",
   "execution_count": 466,
   "metadata": {},
   "outputs": [
    {
     "name": "stdout",
     "output_type": "stream",
     "text": [
      "\n",
      "Duplicate Rows: 0\n"
     ]
    }
   ],
   "source": [
    "# Verify the duplicated have been dropped\n",
    "duplicate_count = df_ContractsSnapshotData.duplicated().sum()\n",
    "print(\"\\nDuplicate Rows:\", duplicate_count)"
   ]
  },
  {
   "cell_type": "markdown",
   "metadata": {},
   "source": [
    "## Creating a Cleaned Dataset for ContractSnapShot"
   ]
  },
  {
   "cell_type": "code",
   "execution_count": 467,
   "metadata": {},
   "outputs": [
    {
     "name": "stdout",
     "output_type": "stream",
     "text": [
      "\n",
      "Data cleaning completed. Cleaned dataset saved as 'Cleaned_ContractSnapshot.csv'.\n"
     ]
    }
   ],
   "source": [
    "df_ContractsSnapshotData.to_csv(\"Cleaned_ContractSnapShop.csv\", index=False)\n",
    "\n",
    "print(\"\\nData cleaning completed. Cleaned dataset saved as 'Cleaned_ContractSnapshot.csv'.\")"
   ]
  },
  {
   "cell_type": "markdown",
   "metadata": {},
   "source": [
    "## Data Preparation and Data Cleaning - CRB Data.csv"
   ]
  },
  {
   "cell_type": "markdown",
   "metadata": {},
   "source": [
    "## Loading the dataset"
   ]
  },
  {
   "cell_type": "code",
   "execution_count": 468,
   "metadata": {},
   "outputs": [],
   "source": [
    "# Load dataset\n",
    "df_CRBData = pd.read_csv(\"CRB Data.csv\")"
   ]
  },
  {
   "cell_type": "code",
   "execution_count": 469,
   "metadata": {},
   "outputs": [
    {
     "data": {
      "text/plain": [
       "(6750, 4)"
      ]
     },
     "execution_count": 469,
     "metadata": {},
     "output_type": "execute_result"
    }
   ],
   "source": [
    "df_CRBData.shape"
   ]
  },
  {
   "cell_type": "markdown",
   "metadata": {},
   "source": [
    "### Comments:- The CRB Data dataset contains 6750 records and 4 columns "
   ]
  },
  {
   "cell_type": "code",
   "execution_count": 470,
   "metadata": {},
   "outputs": [
    {
     "name": "stdout",
     "output_type": "stream",
     "text": [
      "Numeric Columns: ['CRB Score']\n",
      "Categorical Columns: ['Application_ID', 'Application_Date', 'CRB Grade']\n",
      "Unique Values: ['Application_ID', 'Application_Date', 'CRB Grade']\n"
     ]
    }
   ],
   "source": [
    "# Separate numeric and categorical columns\n",
    "numeric_cols = df_CRBData.select_dtypes(include=['number']).columns\n",
    "categorical_cols = df_CRBData.select_dtypes(exclude=['number']).columns\n",
    "\n",
    "# Display unique values count for each categorical column\n",
    "unique_values = {col: df_CRBData[col].nunique() for col in categorical_cols}\n",
    "\n",
    "# Print results\n",
    "print(\"Numeric Columns:\", list(numeric_cols))\n",
    "print(\"Categorical Columns:\", list(categorical_cols))\n",
    "print(\"Unique Values:\", list(unique_values))"
   ]
  },
  {
   "cell_type": "code",
   "execution_count": 471,
   "metadata": {},
   "outputs": [
    {
     "data": {
      "text/html": [
       "<div>\n",
       "<style scoped>\n",
       "    .dataframe tbody tr th:only-of-type {\n",
       "        vertical-align: middle;\n",
       "    }\n",
       "\n",
       "    .dataframe tbody tr th {\n",
       "        vertical-align: top;\n",
       "    }\n",
       "\n",
       "    .dataframe thead th {\n",
       "        text-align: right;\n",
       "    }\n",
       "</style>\n",
       "<table border=\"1\" class=\"dataframe\">\n",
       "  <thead>\n",
       "    <tr style=\"text-align: right;\">\n",
       "      <th></th>\n",
       "      <th>Application_ID</th>\n",
       "      <th>Application_Date</th>\n",
       "      <th>CRB Score</th>\n",
       "      <th>CRB Grade</th>\n",
       "    </tr>\n",
       "  </thead>\n",
       "  <tbody>\n",
       "    <tr>\n",
       "      <th>0</th>\n",
       "      <td>C302102137</td>\n",
       "      <td>2017-09-30</td>\n",
       "      <td>593</td>\n",
       "      <td>D</td>\n",
       "    </tr>\n",
       "    <tr>\n",
       "      <th>1</th>\n",
       "      <td>C302106175</td>\n",
       "      <td>2017-09-30</td>\n",
       "      <td>625</td>\n",
       "      <td>C</td>\n",
       "    </tr>\n",
       "    <tr>\n",
       "      <th>2</th>\n",
       "      <td>C302106175</td>\n",
       "      <td>2018-10-31</td>\n",
       "      <td>616</td>\n",
       "      <td>C</td>\n",
       "    </tr>\n",
       "    <tr>\n",
       "      <th>3</th>\n",
       "      <td>C302103572</td>\n",
       "      <td>2018-02-28</td>\n",
       "      <td>629</td>\n",
       "      <td>C</td>\n",
       "    </tr>\n",
       "    <tr>\n",
       "      <th>4</th>\n",
       "      <td>C302100598</td>\n",
       "      <td>2016-01-31</td>\n",
       "      <td>685</td>\n",
       "      <td>A</td>\n",
       "    </tr>\n",
       "  </tbody>\n",
       "</table>\n",
       "</div>"
      ],
      "text/plain": [
       "  Application_ID Application_Date  CRB Score CRB Grade\n",
       "0     C302102137       2017-09-30        593         D\n",
       "1     C302106175       2017-09-30        625         C\n",
       "2     C302106175       2018-10-31        616         C\n",
       "3     C302103572       2018-02-28        629         C\n",
       "4     C302100598       2016-01-31        685         A"
      ]
     },
     "execution_count": 471,
     "metadata": {},
     "output_type": "execute_result"
    }
   ],
   "source": [
    "df_CRBData.head()"
   ]
  },
  {
   "cell_type": "code",
   "execution_count": 472,
   "metadata": {},
   "outputs": [
    {
     "name": "stdout",
     "output_type": "stream",
     "text": [
      "<class 'pandas.core.frame.DataFrame'>\n",
      "RangeIndex: 6750 entries, 0 to 6749\n",
      "Data columns (total 4 columns):\n",
      " #   Column            Non-Null Count  Dtype \n",
      "---  ------            --------------  ----- \n",
      " 0   Application_ID    6750 non-null   object\n",
      " 1   Application_Date  6750 non-null   object\n",
      " 2   CRB Score         6750 non-null   int64 \n",
      " 3   CRB Grade         6750 non-null   object\n",
      "dtypes: int64(1), object(3)\n",
      "memory usage: 211.1+ KB\n"
     ]
    }
   ],
   "source": [
    "#Identify column data types using \n",
    "df_CRBData.info()\n"
   ]
  },
  {
   "cell_type": "code",
   "execution_count": 473,
   "metadata": {},
   "outputs": [
    {
     "name": "stdout",
     "output_type": "stream",
     "text": [
      "\n",
      "Summary Statistics:\n",
      "         CRB Score\n",
      "count  6750.000000\n",
      "mean    617.440741\n",
      "std     133.150431\n",
      "min     250.000000\n",
      "25%     598.000000\n",
      "50%     631.000000\n",
      "75%     660.000000\n",
      "max     999.000000\n"
     ]
    }
   ],
   "source": [
    "print(\"\\nSummary Statistics:\")\n",
    "print(df_CRBData.describe())"
   ]
  },
  {
   "cell_type": "markdown",
   "metadata": {},
   "source": [
    "## Checking and Handling Missing Values"
   ]
  },
  {
   "cell_type": "code",
   "execution_count": 474,
   "metadata": {},
   "outputs": [
    {
     "name": "stdout",
     "output_type": "stream",
     "text": [
      "Application_ID      0\n",
      "Application_Date    0\n",
      "CRB Score           0\n",
      "CRB Grade           0\n",
      "dtype: int64\n"
     ]
    }
   ],
   "source": [
    "missing_values = df_CRBData.isnull().sum()\n",
    "print(missing_values)"
   ]
  },
  {
   "cell_type": "markdown",
   "metadata": {},
   "source": [
    "### Checking and Handling Duplicate Values"
   ]
  },
  {
   "cell_type": "code",
   "execution_count": 475,
   "metadata": {},
   "outputs": [
    {
     "name": "stdout",
     "output_type": "stream",
     "text": [
      "\n",
      "Duplicate Rows: 0\n"
     ]
    }
   ],
   "source": [
    "# Handling Duplicate Data\n",
    "duplicate_count = df_CRBData.duplicated().sum()\n",
    "print(\"\\nDuplicate Rows:\", duplicate_count)"
   ]
  },
  {
   "cell_type": "markdown",
   "metadata": {},
   "source": [
    "### Creating a new dataset for CRB Data"
   ]
  },
  {
   "cell_type": "code",
   "execution_count": 476,
   "metadata": {},
   "outputs": [
    {
     "name": "stdout",
     "output_type": "stream",
     "text": [
      "\n",
      "Data cleaning completed. Cleaned dataset saved as 'Cleaned_CRBData.csv'.\n"
     ]
    }
   ],
   "source": [
    "df_CRBData.to_csv(\"Cleaned_CRBDATA.csv\", index=False)\n",
    "\n",
    "print(\"\\nData cleaning completed. Cleaned dataset saved as 'Cleaned_CRBData.csv'.\")"
   ]
  },
  {
   "cell_type": "markdown",
   "metadata": {},
   "source": [
    "## Data Preparation and Data Cleaning - Current and Savings Account Data.csv"
   ]
  },
  {
   "cell_type": "code",
   "execution_count": 477,
   "metadata": {},
   "outputs": [],
   "source": [
    "# Load dataset\n",
    "df_CurrentandSavingsAccountData = pd.read_csv(\"Current and Savings Account Data.csv\")"
   ]
  },
  {
   "cell_type": "code",
   "execution_count": 478,
   "metadata": {},
   "outputs": [
    {
     "data": {
      "text/plain": [
       "(857677, 31)"
      ]
     },
     "execution_count": 478,
     "metadata": {},
     "output_type": "execute_result"
    }
   ],
   "source": [
    "df_CurrentandSavingsAccountData.shape"
   ]
  },
  {
   "cell_type": "code",
   "execution_count": 479,
   "metadata": {},
   "outputs": [
    {
     "data": {
      "text/html": [
       "<div>\n",
       "<style scoped>\n",
       "    .dataframe tbody tr th:only-of-type {\n",
       "        vertical-align: middle;\n",
       "    }\n",
       "\n",
       "    .dataframe tbody tr th {\n",
       "        vertical-align: top;\n",
       "    }\n",
       "\n",
       "    .dataframe thead th {\n",
       "        text-align: right;\n",
       "    }\n",
       "</style>\n",
       "<table border=\"1\" class=\"dataframe\">\n",
       "  <thead>\n",
       "    <tr style=\"text-align: right;\">\n",
       "      <th></th>\n",
       "      <th>ID</th>\n",
       "      <th>Account_Number</th>\n",
       "      <th>Application ID</th>\n",
       "      <th>Month (YYYY-MM)</th>\n",
       "      <th>Open Date</th>\n",
       "      <th>Closed Date</th>\n",
       "      <th>Average Balance</th>\n",
       "      <th>Overdraft Limit</th>\n",
       "      <th>Number of Days in Debit during Month</th>\n",
       "      <th>Number of Days in Credit during Month</th>\n",
       "      <th>...</th>\n",
       "      <th>Sum of Bounced Cheque transactions</th>\n",
       "      <th>Number of Bounced Cheques</th>\n",
       "      <th>Sum of Debit Card POS Transactions</th>\n",
       "      <th>Number of Debit Card POS Transactions</th>\n",
       "      <th>Sum of Over the Counter Withdrawals</th>\n",
       "      <th>Number of Over the Counter withdrawals</th>\n",
       "      <th>Account Type</th>\n",
       "      <th>Account Status</th>\n",
       "      <th>Number of Joint Holders</th>\n",
       "      <th>SpshotMonth</th>\n",
       "    </tr>\n",
       "  </thead>\n",
       "  <tbody>\n",
       "    <tr>\n",
       "      <th>0</th>\n",
       "      <td>1</td>\n",
       "      <td>ACC10000001</td>\n",
       "      <td>C302100001</td>\n",
       "      <td>2015-09-01</td>\n",
       "      <td>2015-09-06</td>\n",
       "      <td>NaN</td>\n",
       "      <td>1986.09</td>\n",
       "      <td>0.0</td>\n",
       "      <td>0.0</td>\n",
       "      <td>25.0</td>\n",
       "      <td>...</td>\n",
       "      <td>NaN</td>\n",
       "      <td>0.0</td>\n",
       "      <td>NaN</td>\n",
       "      <td>0.0</td>\n",
       "      <td>NaN</td>\n",
       "      <td>0.0</td>\n",
       "      <td>Savings</td>\n",
       "      <td>Active</td>\n",
       "      <td>0.0</td>\n",
       "      <td>2015-09-01</td>\n",
       "    </tr>\n",
       "    <tr>\n",
       "      <th>1</th>\n",
       "      <td>2</td>\n",
       "      <td>ACC10000002</td>\n",
       "      <td>C302100001</td>\n",
       "      <td>2015-09-01</td>\n",
       "      <td>2015-09-06</td>\n",
       "      <td>2018-10-04</td>\n",
       "      <td>23.45</td>\n",
       "      <td>NaN</td>\n",
       "      <td>0.0</td>\n",
       "      <td>25.0</td>\n",
       "      <td>...</td>\n",
       "      <td>NaN</td>\n",
       "      <td>0.0</td>\n",
       "      <td>NaN</td>\n",
       "      <td>0.0</td>\n",
       "      <td>NaN</td>\n",
       "      <td>0.0</td>\n",
       "      <td>Savings</td>\n",
       "      <td>Closed</td>\n",
       "      <td>0.0</td>\n",
       "      <td>2015-09-01</td>\n",
       "    </tr>\n",
       "    <tr>\n",
       "      <th>2</th>\n",
       "      <td>3</td>\n",
       "      <td>ACC10000001</td>\n",
       "      <td>C302100001</td>\n",
       "      <td>2015-10-01</td>\n",
       "      <td>2015-09-06</td>\n",
       "      <td>NaN</td>\n",
       "      <td>8120.71</td>\n",
       "      <td>0.0</td>\n",
       "      <td>0.0</td>\n",
       "      <td>31.0</td>\n",
       "      <td>...</td>\n",
       "      <td>NaN</td>\n",
       "      <td>0.0</td>\n",
       "      <td>58.62</td>\n",
       "      <td>1.0</td>\n",
       "      <td>NaN</td>\n",
       "      <td>0.0</td>\n",
       "      <td>Savings</td>\n",
       "      <td>Active</td>\n",
       "      <td>0.0</td>\n",
       "      <td>2015-10-01</td>\n",
       "    </tr>\n",
       "    <tr>\n",
       "      <th>3</th>\n",
       "      <td>4</td>\n",
       "      <td>ACC10000002</td>\n",
       "      <td>C302100001</td>\n",
       "      <td>2015-10-01</td>\n",
       "      <td>2015-09-06</td>\n",
       "      <td>2018-10-04</td>\n",
       "      <td>25.26</td>\n",
       "      <td>NaN</td>\n",
       "      <td>0.0</td>\n",
       "      <td>31.0</td>\n",
       "      <td>...</td>\n",
       "      <td>NaN</td>\n",
       "      <td>0.0</td>\n",
       "      <td>NaN</td>\n",
       "      <td>0.0</td>\n",
       "      <td>NaN</td>\n",
       "      <td>0.0</td>\n",
       "      <td>Savings</td>\n",
       "      <td>Closed</td>\n",
       "      <td>0.0</td>\n",
       "      <td>2015-10-01</td>\n",
       "    </tr>\n",
       "    <tr>\n",
       "      <th>4</th>\n",
       "      <td>5</td>\n",
       "      <td>ACC10000001</td>\n",
       "      <td>C302100001</td>\n",
       "      <td>2015-11-01</td>\n",
       "      <td>2015-09-06</td>\n",
       "      <td>NaN</td>\n",
       "      <td>6624.10</td>\n",
       "      <td>0.0</td>\n",
       "      <td>0.0</td>\n",
       "      <td>30.0</td>\n",
       "      <td>...</td>\n",
       "      <td>NaN</td>\n",
       "      <td>0.0</td>\n",
       "      <td>989.57</td>\n",
       "      <td>3.0</td>\n",
       "      <td>NaN</td>\n",
       "      <td>0.0</td>\n",
       "      <td>Savings</td>\n",
       "      <td>Active</td>\n",
       "      <td>0.0</td>\n",
       "      <td>2015-11-01</td>\n",
       "    </tr>\n",
       "  </tbody>\n",
       "</table>\n",
       "<p>5 rows × 31 columns</p>\n",
       "</div>"
      ],
      "text/plain": [
       "   ID Account_Number Application ID Month (YYYY-MM)   Open Date Closed Date  \\\n",
       "0   1    ACC10000001     C302100001      2015-09-01  2015-09-06         NaN   \n",
       "1   2    ACC10000002     C302100001      2015-09-01  2015-09-06  2018-10-04   \n",
       "2   3    ACC10000001     C302100001      2015-10-01  2015-09-06         NaN   \n",
       "3   4    ACC10000002     C302100001      2015-10-01  2015-09-06  2018-10-04   \n",
       "4   5    ACC10000001     C302100001      2015-11-01  2015-09-06         NaN   \n",
       "\n",
       "   Average Balance  Overdraft Limit  Number of Days in Debit during Month  \\\n",
       "0          1986.09              0.0                                   0.0   \n",
       "1            23.45              NaN                                   0.0   \n",
       "2          8120.71              0.0                                   0.0   \n",
       "3            25.26              NaN                                   0.0   \n",
       "4          6624.10              0.0                                   0.0   \n",
       "\n",
       "   Number of Days in Credit during Month  ...  \\\n",
       "0                                   25.0  ...   \n",
       "1                                   25.0  ...   \n",
       "2                                   31.0  ...   \n",
       "3                                   31.0  ...   \n",
       "4                                   30.0  ...   \n",
       "\n",
       "   Sum of Bounced Cheque transactions  Number of Bounced Cheques  \\\n",
       "0                                 NaN                        0.0   \n",
       "1                                 NaN                        0.0   \n",
       "2                                 NaN                        0.0   \n",
       "3                                 NaN                        0.0   \n",
       "4                                 NaN                        0.0   \n",
       "\n",
       "   Sum of Debit Card POS Transactions  Number of Debit Card POS Transactions  \\\n",
       "0                                 NaN                                    0.0   \n",
       "1                                 NaN                                    0.0   \n",
       "2                               58.62                                    1.0   \n",
       "3                                 NaN                                    0.0   \n",
       "4                              989.57                                    3.0   \n",
       "\n",
       "  Sum of Over the Counter Withdrawals  Number of Over the Counter withdrawals  \\\n",
       "0                                 NaN                                     0.0   \n",
       "1                                 NaN                                     0.0   \n",
       "2                                 NaN                                     0.0   \n",
       "3                                 NaN                                     0.0   \n",
       "4                                 NaN                                     0.0   \n",
       "\n",
       "   Account Type  Account Status  Number of Joint Holders  SpshotMonth  \n",
       "0       Savings          Active                      0.0   2015-09-01  \n",
       "1       Savings          Closed                      0.0   2015-09-01  \n",
       "2       Savings          Active                      0.0   2015-10-01  \n",
       "3       Savings          Closed                      0.0   2015-10-01  \n",
       "4       Savings          Active                      0.0   2015-11-01  \n",
       "\n",
       "[5 rows x 31 columns]"
      ]
     },
     "execution_count": 479,
     "metadata": {},
     "output_type": "execute_result"
    }
   ],
   "source": [
    "df_CurrentandSavingsAccountData.head()"
   ]
  },
  {
   "cell_type": "markdown",
   "metadata": {},
   "source": [
    "### Comments:- The Current and Savings Account Data dataset contains 857677 records and 31 columns "
   ]
  },
  {
   "cell_type": "code",
   "execution_count": 480,
   "metadata": {},
   "outputs": [
    {
     "name": "stdout",
     "output_type": "stream",
     "text": [
      "Numeric Columns: ['ID', 'Average Balance', 'Overdraft Limit', 'Number of Days in Debit during Month', 'Number of Days in Credit during Month', 'Maximum End of Day Balance', 'Minimum End of Day Balance', 'Sum of Monthly Debit Transactions', 'Sum of Monthly Credit Transactions', 'Sum of ATM Deposits', 'Number of ATM Deposits', 'Sum of ATM Withdrawals', 'Number of ATM Withdrawals', 'Sum of Cheque Debit Transactions', 'Number of Cheque Debit Transactions', 'Sum of Bounced Cheque transactions', 'Number of Bounced Cheques', 'Sum of Debit Card POS Transactions', 'Number of Debit Card POS Transactions', 'Sum of Over the Counter Withdrawals', 'Number of Over the Counter withdrawals', 'Number of Joint Holders']\n",
      "Categorical Columns: ['Account_Number', 'Application ID', 'Month (YYYY-MM)', 'Open Date', 'Closed Date', 'Last Transaction Date', 'Account Type', 'Account Status', 'SpshotMonth']\n",
      "Unique Values: ['Account_Number', 'Application ID', 'Month (YYYY-MM)', 'Open Date', 'Closed Date', 'Last Transaction Date', 'Account Type', 'Account Status', 'SpshotMonth']\n"
     ]
    }
   ],
   "source": [
    "# Separate numeric and categorical columns\n",
    "numeric_cols = df_CurrentandSavingsAccountData.select_dtypes(include=['number']).columns\n",
    "categorical_cols = df_CurrentandSavingsAccountData.select_dtypes(exclude=['number']).columns\n",
    "\n",
    "# Display unique values count for each categorical column\n",
    "unique_values = {col: df_CurrentandSavingsAccountData[col].nunique() for col in categorical_cols}\n",
    "\n",
    "# Print results\n",
    "print(\"Numeric Columns:\", list(numeric_cols))\n",
    "print(\"Categorical Columns:\", list(categorical_cols))\n",
    "print(\"Unique Values:\", list(unique_values))"
   ]
  },
  {
   "cell_type": "code",
   "execution_count": 481,
   "metadata": {},
   "outputs": [
    {
     "name": "stdout",
     "output_type": "stream",
     "text": [
      "<class 'pandas.core.frame.DataFrame'>\n",
      "RangeIndex: 857677 entries, 0 to 857676\n",
      "Data columns (total 31 columns):\n",
      " #   Column                                  Non-Null Count   Dtype  \n",
      "---  ------                                  --------------   -----  \n",
      " 0   ID                                      857677 non-null  int64  \n",
      " 1   Account_Number                          857677 non-null  object \n",
      " 2   Application ID                          857672 non-null  object \n",
      " 3   Month (YYYY-MM)                         857647 non-null  object \n",
      " 4   Open Date                               857647 non-null  object \n",
      " 5   Closed Date                             161748 non-null  object \n",
      " 6   Average Balance                         857647 non-null  float64\n",
      " 7   Overdraft Limit                         753484 non-null  float64\n",
      " 8   Number of Days in Debit during Month    857647 non-null  float64\n",
      " 9   Number of Days in Credit during Month   857647 non-null  float64\n",
      " 10  Maximum End of Day Balance              857647 non-null  float64\n",
      " 11  Minimum End of Day Balance              857647 non-null  float64\n",
      " 12  Sum of Monthly Debit Transactions       832991 non-null  float64\n",
      " 13  Sum of Monthly Credit Transactions      857529 non-null  float64\n",
      " 14  Last Transaction Date                   525671 non-null  object \n",
      " 15  Sum of ATM Deposits                     14624 non-null   float64\n",
      " 16  Number of ATM Deposits                  857647 non-null  float64\n",
      " 17  Sum of ATM Withdrawals                  188709 non-null  float64\n",
      " 18  Number of ATM Withdrawals               857647 non-null  float64\n",
      " 19  Sum of Cheque Debit Transactions        634 non-null     float64\n",
      " 20  Number of Cheque Debit Transactions     857647 non-null  float64\n",
      " 21  Sum of Bounced Cheque transactions      2 non-null       float64\n",
      " 22  Number of Bounced Cheques               857647 non-null  float64\n",
      " 23  Sum of Debit Card POS Transactions      114682 non-null  float64\n",
      " 24  Number of Debit Card POS Transactions   857647 non-null  float64\n",
      " 25  Sum of Over the Counter Withdrawals     64064 non-null   float64\n",
      " 26  Number of Over the Counter withdrawals  857647 non-null  float64\n",
      " 27  Account Type                            857647 non-null  object \n",
      " 28  Account Status                          857647 non-null  object \n",
      " 29  Number of Joint Holders                 857647 non-null  float64\n",
      " 30  SpshotMonth                             857647 non-null  object \n",
      "dtypes: float64(21), int64(1), object(9)\n",
      "memory usage: 202.9+ MB\n"
     ]
    }
   ],
   "source": [
    "#Identify column data types using \n",
    "df_CurrentandSavingsAccountData.info()"
   ]
  },
  {
   "cell_type": "code",
   "execution_count": 482,
   "metadata": {},
   "outputs": [
    {
     "name": "stdout",
     "output_type": "stream",
     "text": [
      "\n",
      "Summary Statistics:\n",
      "                  ID  Average Balance  Overdraft Limit  \\\n",
      "count  857677.000000    857647.000000         753484.0   \n",
      "mean   428839.000000       758.212527              0.0   \n",
      "std    247590.167751      2829.181786              0.0   \n",
      "min         1.000000    -30735.730000              0.0   \n",
      "25%    214420.000000        11.720000              0.0   \n",
      "50%    428839.000000        79.740000              0.0   \n",
      "75%    643258.000000       552.215000              0.0   \n",
      "max    857677.000000    281359.910000              0.0   \n",
      "\n",
      "       Number of Days in Debit during Month  \\\n",
      "count                         857647.000000   \n",
      "mean                               0.873334   \n",
      "std                                4.972188   \n",
      "min                                0.000000   \n",
      "25%                                0.000000   \n",
      "50%                                0.000000   \n",
      "75%                                0.000000   \n",
      "max                               31.000000   \n",
      "\n",
      "       Number of Days in Credit during Month  Maximum End of Day Balance  \\\n",
      "count                          857647.000000               857647.000000   \n",
      "mean                               28.797508                 1217.922547   \n",
      "std                                 6.299025                 3913.854203   \n",
      "min                                 0.000000               -18929.100000   \n",
      "25%                                30.000000                   11.750000   \n",
      "50%                                31.000000                  160.840000   \n",
      "75%                                31.000000                 1076.735000   \n",
      "max                                60.000000               348322.030000   \n",
      "\n",
      "       Minimum End of Day Balance  Sum of Monthly Debit Transactions  \\\n",
      "count               857647.000000                      832991.000000   \n",
      "mean                   529.432118                         864.919383   \n",
      "std                   2421.874519                        3373.647733   \n",
      "min                 -59639.620000                           0.000000   \n",
      "25%                      4.930000                           0.000000   \n",
      "50%                     18.200000                           0.010000   \n",
      "75%                    218.820000                         586.400000   \n",
      "max                 211019.930000                      336718.490000   \n",
      "\n",
      "       Sum of Monthly Credit Transactions  Sum of ATM Deposits  ...  \\\n",
      "count                       857529.000000         14624.000000  ...   \n",
      "mean                           858.311773           739.770090  ...   \n",
      "std                           3532.513718          1397.177372  ...   \n",
      "min                              0.000000             0.000000  ...   \n",
      "25%                              0.000000           117.230000  ...   \n",
      "50%                              0.000000           351.700000  ...   \n",
      "75%                            521.660000           820.630000  ...   \n",
      "max                         336844.080000         70339.980000  ...   \n",
      "\n",
      "       Number of ATM Withdrawals  Sum of Cheque Debit Transactions  \\\n",
      "count              857647.000000                        634.000000   \n",
      "mean                    1.199945                       6918.301767   \n",
      "std                     3.346468                      17881.429838   \n",
      "min                     0.000000                          7.030000   \n",
      "25%                     0.000000                        393.900000   \n",
      "50%                     0.000000                       1406.800000   \n",
      "75%                     0.000000                       4140.472500   \n",
      "max                    71.000000                     134024.040000   \n",
      "\n",
      "       Number of Cheque Debit Transactions  \\\n",
      "count                        857647.000000   \n",
      "mean                              0.001909   \n",
      "std                               0.095646   \n",
      "min                               0.000000   \n",
      "25%                               0.000000   \n",
      "50%                               0.000000   \n",
      "75%                               0.000000   \n",
      "max                              20.000000   \n",
      "\n",
      "       Sum of Bounced Cheque transactions  Number of Bounced Cheques  \\\n",
      "count                            2.000000              857647.000000   \n",
      "mean                          1232.205000                   0.000002   \n",
      "std                           1573.263091                   0.001527   \n",
      "min                            119.740000                   0.000000   \n",
      "25%                            675.972500                   0.000000   \n",
      "50%                           1232.205000                   0.000000   \n",
      "75%                           1788.437500                   0.000000   \n",
      "max                           2344.670000                   1.000000   \n",
      "\n",
      "       Sum of Debit Card POS Transactions  \\\n",
      "count                       114682.000000   \n",
      "mean                           603.597073   \n",
      "std                           1010.416773   \n",
      "min                              0.000000   \n",
      "25%                             89.570000   \n",
      "50%                            260.695000   \n",
      "75%                            702.177500   \n",
      "max                          38452.520000   \n",
      "\n",
      "       Number of Debit Card POS Transactions  \\\n",
      "count                          857647.000000   \n",
      "mean                                0.656150   \n",
      "std                                 2.611211   \n",
      "min                                 0.000000   \n",
      "25%                                 0.000000   \n",
      "50%                                 0.000000   \n",
      "75%                                 0.000000   \n",
      "max                                95.000000   \n",
      "\n",
      "       Sum of Over the Counter Withdrawals  \\\n",
      "count                         64064.000000   \n",
      "mean                           3033.397373   \n",
      "std                            7918.782906   \n",
      "min                               0.000000   \n",
      "25%                              49.210000   \n",
      "50%                             474.440000   \n",
      "75%                            2344.670000   \n",
      "max                          335832.200000   \n",
      "\n",
      "       Number of Over the Counter withdrawals  Number of Joint Holders  \n",
      "count                           857647.000000            857647.000000  \n",
      "mean                                 0.171874                 0.254720  \n",
      "std                                  0.832202                 0.526414  \n",
      "min                                  0.000000                 0.000000  \n",
      "25%                                  0.000000                 0.000000  \n",
      "50%                                  0.000000                 0.000000  \n",
      "75%                                  0.000000                 0.000000  \n",
      "max                                 34.000000                 4.000000  \n",
      "\n",
      "[8 rows x 22 columns]\n"
     ]
    }
   ],
   "source": [
    "print(\"\\nSummary Statistics:\")\n",
    "print(df_CurrentandSavingsAccountData.describe())"
   ]
  },
  {
   "cell_type": "markdown",
   "metadata": {},
   "source": [
    "### Checking and handling missing values"
   ]
  },
  {
   "cell_type": "code",
   "execution_count": 483,
   "metadata": {},
   "outputs": [
    {
     "name": "stdout",
     "output_type": "stream",
     "text": [
      "ID                                             0\n",
      "Account_Number                                 0\n",
      "Application ID                                 5\n",
      "Month (YYYY-MM)                               30\n",
      "Open Date                                     30\n",
      "Closed Date                               695929\n",
      "Average Balance                               30\n",
      "Overdraft Limit                           104193\n",
      "Number of Days in Debit during Month          30\n",
      "Number of Days in Credit during Month         30\n",
      "Maximum End of Day Balance                    30\n",
      "Minimum End of Day Balance                    30\n",
      "Sum of Monthly Debit Transactions          24686\n",
      "Sum of Monthly Credit Transactions           148\n",
      "Last Transaction Date                     332006\n",
      "Sum of ATM Deposits                       843053\n",
      "Number of ATM Deposits                        30\n",
      "Sum of ATM Withdrawals                    668968\n",
      "Number of ATM Withdrawals                     30\n",
      "Sum of Cheque Debit Transactions          857043\n",
      "Number of Cheque Debit Transactions           30\n",
      "Sum of Bounced Cheque transactions        857675\n",
      "Number of Bounced Cheques                     30\n",
      "Sum of Debit Card POS Transactions        742995\n",
      "Number of Debit Card POS Transactions         30\n",
      "Sum of Over the Counter Withdrawals       793613\n",
      "Number of Over the Counter withdrawals        30\n",
      "Account Type                                  30\n",
      "Account Status                                30\n",
      "Number of Joint Holders                       30\n",
      "SpshotMonth                                   30\n",
      "dtype: int64\n"
     ]
    }
   ],
   "source": [
    "missing_values = df_CurrentandSavingsAccountData.isnull().sum()\n",
    "print(missing_values)"
   ]
  },
  {
   "cell_type": "code",
   "execution_count": 484,
   "metadata": {},
   "outputs": [
    {
     "name": "stdout",
     "output_type": "stream",
     "text": [
      "Missing Values Percentage:\n",
      " Application ID                             0.000583\n",
      "Month (YYYY-MM)                            0.003498\n",
      "Open Date                                  0.003498\n",
      "Closed Date                               81.141152\n",
      "Average Balance                            0.003498\n",
      "Overdraft Limit                           12.148280\n",
      "Number of Days in Debit during Month       0.003498\n",
      "Number of Days in Credit during Month      0.003498\n",
      "Maximum End of Day Balance                 0.003498\n",
      "Minimum End of Day Balance                 0.003498\n",
      "Sum of Monthly Debit Transactions          2.878240\n",
      "Sum of Monthly Credit Transactions         0.017256\n",
      "Last Transaction Date                     38.709911\n",
      "Sum of ATM Deposits                       98.294929\n",
      "Number of ATM Deposits                     0.003498\n",
      "Sum of ATM Withdrawals                    77.997661\n",
      "Number of ATM Withdrawals                  0.003498\n",
      "Sum of Cheque Debit Transactions          99.926079\n",
      "Number of Cheque Debit Transactions        0.003498\n",
      "Sum of Bounced Cheque transactions        99.999767\n",
      "Number of Bounced Cheques                  0.003498\n",
      "Sum of Debit Card POS Transactions        86.628766\n",
      "Number of Debit Card POS Transactions      0.003498\n",
      "Sum of Over the Counter Withdrawals       92.530521\n",
      "Number of Over the Counter withdrawals     0.003498\n",
      "Account Type                               0.003498\n",
      "Account Status                             0.003498\n",
      "Number of Joint Holders                    0.003498\n",
      "SpshotMonth                                0.003498\n",
      "dtype: float64\n"
     ]
    }
   ],
   "source": [
    "# Checking percentage of missing values\n",
    "missing_values = df_CurrentandSavingsAccountData.isnull().sum() / len(df_CurrentandSavingsAccountData) * 100\n",
    "print(\"Missing Values Percentage:\\n\", missing_values[missing_values > 0])"
   ]
  },
  {
   "cell_type": "code",
   "execution_count": 485,
   "metadata": {},
   "outputs": [
    {
     "name": "stdout",
     "output_type": "stream",
     "text": [
      "Application ID                             0.000583\n",
      "Account Status                             0.003498\n",
      "Account Type                               0.003498\n",
      "Number of Over the Counter withdrawals     0.003498\n",
      "Number of Debit Card POS Transactions      0.003498\n",
      "Number of Bounced Cheques                  0.003498\n",
      "Number of Cheque Debit Transactions        0.003498\n",
      "Number of ATM Withdrawals                  0.003498\n",
      "Number of Joint Holders                    0.003498\n",
      "Number of ATM Deposits                     0.003498\n",
      "SpshotMonth                                0.003498\n",
      "Month (YYYY-MM)                            0.003498\n",
      "Open Date                                  0.003498\n",
      "Maximum End of Day Balance                 0.003498\n",
      "Average Balance                            0.003498\n",
      "Number of Days in Credit during Month      0.003498\n",
      "Minimum End of Day Balance                 0.003498\n",
      "Number of Days in Debit during Month       0.003498\n",
      "Sum of Monthly Credit Transactions         0.017256\n",
      "Sum of Monthly Debit Transactions          2.878240\n",
      "Overdraft Limit                           12.148280\n",
      "Last Transaction Date                     38.709911\n",
      "Sum of ATM Withdrawals                    77.997661\n",
      "Closed Date                               81.141152\n",
      "Sum of Debit Card POS Transactions        86.628766\n",
      "Sum of Over the Counter Withdrawals       92.530521\n",
      "Sum of ATM Deposits                       98.294929\n",
      "Sum of Cheque Debit Transactions          99.926079\n",
      "Sum of Bounced Cheque transactions        99.999767\n",
      "dtype: float64\n"
     ]
    }
   ],
   "source": [
    "missing_percentages_sorted = missing_values[missing_values > 0].sort_values()\n",
    "print(missing_percentages_sorted)\n"
   ]
  },
  {
   "cell_type": "code",
   "execution_count": 486,
   "metadata": {},
   "outputs": [],
   "source": [
    "#Identify columns with missing values above 30%\n",
    "# Set threshold percentage\n",
    "threshold = 30  \n",
    "# Calculate missing %\n",
    "missing_values = (df_CurrentandSavingsAccountData.isnull().sum() / len(df_CurrentandSavingsAccountData)) * 100  \n",
    "# Select columns to drop\n",
    "cols_to_drop = missing_values[missing_values > threshold].index  "
   ]
  },
  {
   "cell_type": "code",
   "execution_count": 487,
   "metadata": {},
   "outputs": [],
   "source": [
    "df_CurrentandSavingsAccountData = df_CurrentandSavingsAccountData.drop(columns=cols_to_drop)"
   ]
  },
  {
   "cell_type": "code",
   "execution_count": 488,
   "metadata": {},
   "outputs": [
    {
     "name": "stdout",
     "output_type": "stream",
     "text": [
      "Remaining columns: 23\n",
      "Dropped columns: ['Closed Date', 'Last Transaction Date', 'Sum of ATM Deposits', 'Sum of ATM Withdrawals', 'Sum of Cheque Debit Transactions', 'Sum of Bounced Cheque transactions', 'Sum of Debit Card POS Transactions', 'Sum of Over the Counter Withdrawals']\n"
     ]
    }
   ],
   "source": [
    "print(f\"Remaining columns: {df_CurrentandSavingsAccountData.shape[1]}\")\n",
    "print(f\"Dropped columns: {list(cols_to_drop)}\")"
   ]
  },
  {
   "cell_type": "code",
   "execution_count": 489,
   "metadata": {},
   "outputs": [
    {
     "name": "stdout",
     "output_type": "stream",
     "text": [
      "Application ID                             0.000583\n",
      "Account Status                             0.003498\n",
      "Account Type                               0.003498\n",
      "Number of Over the Counter withdrawals     0.003498\n",
      "Number of Debit Card POS Transactions      0.003498\n",
      "Number of Bounced Cheques                  0.003498\n",
      "Number of Cheque Debit Transactions        0.003498\n",
      "Number of ATM Withdrawals                  0.003498\n",
      "Number of Joint Holders                    0.003498\n",
      "Number of ATM Deposits                     0.003498\n",
      "SpshotMonth                                0.003498\n",
      "Month (YYYY-MM)                            0.003498\n",
      "Open Date                                  0.003498\n",
      "Maximum End of Day Balance                 0.003498\n",
      "Average Balance                            0.003498\n",
      "Number of Days in Credit during Month      0.003498\n",
      "Minimum End of Day Balance                 0.003498\n",
      "Number of Days in Debit during Month       0.003498\n",
      "Sum of Monthly Credit Transactions         0.017256\n",
      "Sum of Monthly Debit Transactions          2.878240\n",
      "Overdraft Limit                           12.148280\n",
      "Last Transaction Date                     38.709911\n",
      "Sum of ATM Withdrawals                    77.997661\n",
      "Closed Date                               81.141152\n",
      "Sum of Debit Card POS Transactions        86.628766\n",
      "Sum of Over the Counter Withdrawals       92.530521\n",
      "Sum of ATM Deposits                       98.294929\n",
      "Sum of Cheque Debit Transactions          99.926079\n",
      "Sum of Bounced Cheque transactions        99.999767\n",
      "dtype: float64\n"
     ]
    }
   ],
   "source": [
    "missing_percentages_sorted = missing_values[missing_values > 0].sort_values()\n",
    "print(missing_percentages_sorted)"
   ]
  },
  {
   "cell_type": "code",
   "execution_count": 490,
   "metadata": {},
   "outputs": [
    {
     "data": {
      "text/plain": [
       "(857677, 23)"
      ]
     },
     "execution_count": 490,
     "metadata": {},
     "output_type": "execute_result"
    }
   ],
   "source": [
    "df_CurrentandSavingsAccountData.shape"
   ]
  },
  {
   "cell_type": "code",
   "execution_count": 491,
   "metadata": {},
   "outputs": [
    {
     "name": "stdout",
     "output_type": "stream",
     "text": [
      "['ID', 'Account_Number', 'Application ID', 'Month (YYYY-MM)', 'Open Date', 'Average Balance', 'Overdraft Limit', 'Number of Days in Debit during Month', 'Number of Days in Credit during Month', 'Maximum End of Day Balance', 'Minimum End of Day Balance', 'Sum of Monthly Debit Transactions', 'Sum of Monthly Credit Transactions', 'Number of ATM Deposits', 'Number of ATM Withdrawals', 'Number of Cheque Debit Transactions', 'Number of Bounced Cheques', 'Number of Debit Card POS Transactions', 'Number of Over the Counter withdrawals', 'Account Type', 'Account Status', 'Number of Joint Holders', 'SpshotMonth']\n"
     ]
    }
   ],
   "source": [
    "print(df_CurrentandSavingsAccountData.columns.tolist())\n"
   ]
  },
  {
   "cell_type": "code",
   "execution_count": 492,
   "metadata": {},
   "outputs": [
    {
     "data": {
      "text/html": [
       "<div>\n",
       "<style scoped>\n",
       "    .dataframe tbody tr th:only-of-type {\n",
       "        vertical-align: middle;\n",
       "    }\n",
       "\n",
       "    .dataframe tbody tr th {\n",
       "        vertical-align: top;\n",
       "    }\n",
       "\n",
       "    .dataframe thead th {\n",
       "        text-align: right;\n",
       "    }\n",
       "</style>\n",
       "<table border=\"1\" class=\"dataframe\">\n",
       "  <thead>\n",
       "    <tr style=\"text-align: right;\">\n",
       "      <th></th>\n",
       "      <th>ID</th>\n",
       "      <th>Account_Number</th>\n",
       "      <th>Application ID</th>\n",
       "      <th>Month (YYYY-MM)</th>\n",
       "      <th>Open Date</th>\n",
       "      <th>Average Balance</th>\n",
       "      <th>Overdraft Limit</th>\n",
       "      <th>Number of Days in Debit during Month</th>\n",
       "      <th>Number of Days in Credit during Month</th>\n",
       "      <th>Maximum End of Day Balance</th>\n",
       "      <th>...</th>\n",
       "      <th>Number of ATM Deposits</th>\n",
       "      <th>Number of ATM Withdrawals</th>\n",
       "      <th>Number of Cheque Debit Transactions</th>\n",
       "      <th>Number of Bounced Cheques</th>\n",
       "      <th>Number of Debit Card POS Transactions</th>\n",
       "      <th>Number of Over the Counter withdrawals</th>\n",
       "      <th>Account Type</th>\n",
       "      <th>Account Status</th>\n",
       "      <th>Number of Joint Holders</th>\n",
       "      <th>SpshotMonth</th>\n",
       "    </tr>\n",
       "  </thead>\n",
       "  <tbody>\n",
       "    <tr>\n",
       "      <th>857672</th>\n",
       "      <td>857673</td>\n",
       "      <td>ACC10360920</td>\n",
       "      <td>NaN</td>\n",
       "      <td>NaN</td>\n",
       "      <td>NaN</td>\n",
       "      <td>NaN</td>\n",
       "      <td>NaN</td>\n",
       "      <td>NaN</td>\n",
       "      <td>NaN</td>\n",
       "      <td>NaN</td>\n",
       "      <td>...</td>\n",
       "      <td>NaN</td>\n",
       "      <td>NaN</td>\n",
       "      <td>NaN</td>\n",
       "      <td>NaN</td>\n",
       "      <td>NaN</td>\n",
       "      <td>NaN</td>\n",
       "      <td>NaN</td>\n",
       "      <td>NaN</td>\n",
       "      <td>NaN</td>\n",
       "      <td>NaN</td>\n",
       "    </tr>\n",
       "    <tr>\n",
       "      <th>857673</th>\n",
       "      <td>857674</td>\n",
       "      <td>ACC10360920</td>\n",
       "      <td>NaN</td>\n",
       "      <td>NaN</td>\n",
       "      <td>NaN</td>\n",
       "      <td>NaN</td>\n",
       "      <td>NaN</td>\n",
       "      <td>NaN</td>\n",
       "      <td>NaN</td>\n",
       "      <td>NaN</td>\n",
       "      <td>...</td>\n",
       "      <td>NaN</td>\n",
       "      <td>NaN</td>\n",
       "      <td>NaN</td>\n",
       "      <td>NaN</td>\n",
       "      <td>NaN</td>\n",
       "      <td>NaN</td>\n",
       "      <td>NaN</td>\n",
       "      <td>NaN</td>\n",
       "      <td>NaN</td>\n",
       "      <td>NaN</td>\n",
       "    </tr>\n",
       "    <tr>\n",
       "      <th>857674</th>\n",
       "      <td>857675</td>\n",
       "      <td>ACC10360920</td>\n",
       "      <td>NaN</td>\n",
       "      <td>NaN</td>\n",
       "      <td>NaN</td>\n",
       "      <td>NaN</td>\n",
       "      <td>NaN</td>\n",
       "      <td>NaN</td>\n",
       "      <td>NaN</td>\n",
       "      <td>NaN</td>\n",
       "      <td>...</td>\n",
       "      <td>NaN</td>\n",
       "      <td>NaN</td>\n",
       "      <td>NaN</td>\n",
       "      <td>NaN</td>\n",
       "      <td>NaN</td>\n",
       "      <td>NaN</td>\n",
       "      <td>NaN</td>\n",
       "      <td>NaN</td>\n",
       "      <td>NaN</td>\n",
       "      <td>NaN</td>\n",
       "    </tr>\n",
       "    <tr>\n",
       "      <th>857675</th>\n",
       "      <td>857676</td>\n",
       "      <td>ACC10360920</td>\n",
       "      <td>NaN</td>\n",
       "      <td>NaN</td>\n",
       "      <td>NaN</td>\n",
       "      <td>NaN</td>\n",
       "      <td>NaN</td>\n",
       "      <td>NaN</td>\n",
       "      <td>NaN</td>\n",
       "      <td>NaN</td>\n",
       "      <td>...</td>\n",
       "      <td>NaN</td>\n",
       "      <td>NaN</td>\n",
       "      <td>NaN</td>\n",
       "      <td>NaN</td>\n",
       "      <td>NaN</td>\n",
       "      <td>NaN</td>\n",
       "      <td>NaN</td>\n",
       "      <td>NaN</td>\n",
       "      <td>NaN</td>\n",
       "      <td>NaN</td>\n",
       "    </tr>\n",
       "    <tr>\n",
       "      <th>857676</th>\n",
       "      <td>857677</td>\n",
       "      <td>ACC10360920</td>\n",
       "      <td>NaN</td>\n",
       "      <td>NaN</td>\n",
       "      <td>NaN</td>\n",
       "      <td>NaN</td>\n",
       "      <td>NaN</td>\n",
       "      <td>NaN</td>\n",
       "      <td>NaN</td>\n",
       "      <td>NaN</td>\n",
       "      <td>...</td>\n",
       "      <td>NaN</td>\n",
       "      <td>NaN</td>\n",
       "      <td>NaN</td>\n",
       "      <td>NaN</td>\n",
       "      <td>NaN</td>\n",
       "      <td>NaN</td>\n",
       "      <td>NaN</td>\n",
       "      <td>NaN</td>\n",
       "      <td>NaN</td>\n",
       "      <td>NaN</td>\n",
       "    </tr>\n",
       "  </tbody>\n",
       "</table>\n",
       "<p>5 rows × 23 columns</p>\n",
       "</div>"
      ],
      "text/plain": [
       "            ID Account_Number Application ID Month (YYYY-MM) Open Date  \\\n",
       "857672  857673    ACC10360920            NaN             NaN       NaN   \n",
       "857673  857674    ACC10360920            NaN             NaN       NaN   \n",
       "857674  857675    ACC10360920            NaN             NaN       NaN   \n",
       "857675  857676    ACC10360920            NaN             NaN       NaN   \n",
       "857676  857677    ACC10360920            NaN             NaN       NaN   \n",
       "\n",
       "        Average Balance  Overdraft Limit  \\\n",
       "857672              NaN              NaN   \n",
       "857673              NaN              NaN   \n",
       "857674              NaN              NaN   \n",
       "857675              NaN              NaN   \n",
       "857676              NaN              NaN   \n",
       "\n",
       "        Number of Days in Debit during Month  \\\n",
       "857672                                   NaN   \n",
       "857673                                   NaN   \n",
       "857674                                   NaN   \n",
       "857675                                   NaN   \n",
       "857676                                   NaN   \n",
       "\n",
       "        Number of Days in Credit during Month  Maximum End of Day Balance  \\\n",
       "857672                                    NaN                         NaN   \n",
       "857673                                    NaN                         NaN   \n",
       "857674                                    NaN                         NaN   \n",
       "857675                                    NaN                         NaN   \n",
       "857676                                    NaN                         NaN   \n",
       "\n",
       "        ...  Number of ATM Deposits  Number of ATM Withdrawals  \\\n",
       "857672  ...                     NaN                        NaN   \n",
       "857673  ...                     NaN                        NaN   \n",
       "857674  ...                     NaN                        NaN   \n",
       "857675  ...                     NaN                        NaN   \n",
       "857676  ...                     NaN                        NaN   \n",
       "\n",
       "        Number of Cheque Debit Transactions  Number of Bounced Cheques  \\\n",
       "857672                                  NaN                        NaN   \n",
       "857673                                  NaN                        NaN   \n",
       "857674                                  NaN                        NaN   \n",
       "857675                                  NaN                        NaN   \n",
       "857676                                  NaN                        NaN   \n",
       "\n",
       "        Number of Debit Card POS Transactions  \\\n",
       "857672                                    NaN   \n",
       "857673                                    NaN   \n",
       "857674                                    NaN   \n",
       "857675                                    NaN   \n",
       "857676                                    NaN   \n",
       "\n",
       "        Number of Over the Counter withdrawals  Account Type  Account Status  \\\n",
       "857672                                     NaN           NaN             NaN   \n",
       "857673                                     NaN           NaN             NaN   \n",
       "857674                                     NaN           NaN             NaN   \n",
       "857675                                     NaN           NaN             NaN   \n",
       "857676                                     NaN           NaN             NaN   \n",
       "\n",
       "        Number of Joint Holders SpshotMonth  \n",
       "857672                      NaN         NaN  \n",
       "857673                      NaN         NaN  \n",
       "857674                      NaN         NaN  \n",
       "857675                      NaN         NaN  \n",
       "857676                      NaN         NaN  \n",
       "\n",
       "[5 rows x 23 columns]"
      ]
     },
     "execution_count": 492,
     "metadata": {},
     "output_type": "execute_result"
    }
   ],
   "source": [
    "df_CurrentandSavingsAccountData.tail()"
   ]
  },
  {
   "cell_type": "markdown",
   "metadata": {},
   "source": [
    "### Dropping the first column which is \"unnamed\""
   ]
  },
  {
   "cell_type": "code",
   "execution_count": 493,
   "metadata": {},
   "outputs": [],
   "source": [
    "df_CurrentandSavingsAccountData = df_CurrentandSavingsAccountData.drop(df_CurrentandSavingsAccountData.columns[0], axis=1)\n"
   ]
  },
  {
   "cell_type": "markdown",
   "metadata": {},
   "source": [
    "### Handling leading/trailing spaces"
   ]
  },
  {
   "cell_type": "code",
   "execution_count": 494,
   "metadata": {},
   "outputs": [],
   "source": [
    "df_CurrentandSavingsAccountData.columns = df_CurrentandSavingsAccountData.columns.str.strip()\n"
   ]
  },
  {
   "cell_type": "markdown",
   "metadata": {},
   "source": [
    "### Checking for correct case"
   ]
  },
  {
   "cell_type": "code",
   "execution_count": 495,
   "metadata": {},
   "outputs": [],
   "source": [
    "df_CurrentandSavingsAccountData.columns = df_CurrentandSavingsAccountData.columns.str.lower()\n"
   ]
  },
  {
   "cell_type": "markdown",
   "metadata": {},
   "source": [
    "### Checking for Special Characters"
   ]
  },
  {
   "cell_type": "code",
   "execution_count": 496,
   "metadata": {},
   "outputs": [],
   "source": [
    "df_CurrentandSavingsAccountData.columns = df_CurrentandSavingsAccountData.columns.str.replace(r'[^a-zA-Z0-9_ ]', '', regex=True)\n"
   ]
  },
  {
   "cell_type": "code",
   "execution_count": 497,
   "metadata": {},
   "outputs": [
    {
     "name": "stdout",
     "output_type": "stream",
     "text": [
      "Column not found!\n"
     ]
    }
   ],
   "source": [
    "if 'Sum of ATM Deposits' in df_CurrentandSavingsAccountData.columns:\n",
    "    df_CurrentandSavingsAccountData['Sum of ATM Deposits'].fillna(df_CurrentandSavingsAccountData['Sum of ATM Deposits'].median(), inplace=True)\n",
    "else:\n",
    "    print(\"Column not found!\")"
   ]
  },
  {
   "cell_type": "code",
   "execution_count": 508,
   "metadata": {},
   "outputs": [
    {
     "name": "stdout",
     "output_type": "stream",
     "text": [
      "Column 'ID' not found in dataset!\n"
     ]
    }
   ],
   "source": [
    "if 'ID' in df_CurrentandSavingsAccountData.columns:\n",
    "    df_CurrentandSavingsAccountData['ID'].fillna(df_CurrentandSavingsAccountData['ID'].median(), inplace=True)\n",
    "else:\n",
    "    print(\"Column 'ID' not found in dataset!\")"
   ]
  },
  {
   "cell_type": "markdown",
   "metadata": {},
   "source": [
    "### Cleaning the columns for spaces, to convert to lower case and remove special characters"
   ]
  },
  {
   "cell_type": "code",
   "execution_count": 499,
   "metadata": {},
   "outputs": [],
   "source": [
    "# df_CurrentandSavingsAccountData.columns = df_CurrentandSavingsAccountData.columns.str.strip()  # Remove spaces\n",
    "# df_CurrentandSavingsAccountData.columns = df_CurrentandSavingsAccountData.columns.str.lower()  # Convert to lowercase\n",
    "# df_CurrentandSavingsAccountData.columns = df_CurrentandSavingsAccountData.columns.str.replace(r'[^a-zA-Z0-9_]', '', regex=True)  # Remove special characters\n",
    "\n",
    "# print(df_CurrentandSavingsAccountData.columns.tolist())  # Check again after cleaning\n"
   ]
  },
  {
   "cell_type": "markdown",
   "metadata": {},
   "source": [
    "## Checking and handling Duplicates"
   ]
  },
  {
   "cell_type": "code",
   "execution_count": null,
   "metadata": {},
   "outputs": [
    {
     "name": "stdout",
     "output_type": "stream",
     "text": [
      "Duplicate Rows: 0\n"
     ]
    }
   ],
   "source": [
    "# Check duplicate count\n",
    "print(f\"Duplicate Rows: {df_CurrentandSavingsAccountData.duplicated().sum()}\")\n",
    "\n",
    "# Remove duplicates\n",
    "df_CurrentandSavingsAccountData = df_CurrentandSavingsAccountData.drop_duplicates()"
   ]
  },
  {
   "cell_type": "markdown",
   "metadata": {},
   "source": [
    "## Checking Anomolies"
   ]
  },
  {
   "cell_type": "code",
   "execution_count": 507,
   "metadata": {},
   "outputs": [
    {
     "ename": "KeyError",
     "evalue": "'ID'",
     "output_type": "error",
     "traceback": [
      "\u001b[1;31m---------------------------------------------------------------------------\u001b[0m",
      "\u001b[1;31mKeyError\u001b[0m                                  Traceback (most recent call last)",
      "\u001b[1;32mc:\\Users\\ELITEBOOK\\anaconda3\\envs\\learn-env\\lib\\site-packages\\pandas\\core\\indexes\\base.py\u001b[0m in \u001b[0;36mget_loc\u001b[1;34m(self, key, method, tolerance)\u001b[0m\n\u001b[0;32m   2894\u001b[0m             \u001b[1;32mtry\u001b[0m\u001b[1;33m:\u001b[0m\u001b[1;33m\u001b[0m\u001b[1;33m\u001b[0m\u001b[0m\n\u001b[1;32m-> 2895\u001b[1;33m                 \u001b[1;32mreturn\u001b[0m \u001b[0mself\u001b[0m\u001b[1;33m.\u001b[0m\u001b[0m_engine\u001b[0m\u001b[1;33m.\u001b[0m\u001b[0mget_loc\u001b[0m\u001b[1;33m(\u001b[0m\u001b[0mcasted_key\u001b[0m\u001b[1;33m)\u001b[0m\u001b[1;33m\u001b[0m\u001b[1;33m\u001b[0m\u001b[0m\n\u001b[0m\u001b[0;32m   2896\u001b[0m             \u001b[1;32mexcept\u001b[0m \u001b[0mKeyError\u001b[0m \u001b[1;32mas\u001b[0m \u001b[0merr\u001b[0m\u001b[1;33m:\u001b[0m\u001b[1;33m\u001b[0m\u001b[1;33m\u001b[0m\u001b[0m\n",
      "\u001b[1;32mpandas\\_libs\\index.pyx\u001b[0m in \u001b[0;36mpandas._libs.index.IndexEngine.get_loc\u001b[1;34m()\u001b[0m\n",
      "\u001b[1;32mpandas\\_libs\\index.pyx\u001b[0m in \u001b[0;36mpandas._libs.index.IndexEngine.get_loc\u001b[1;34m()\u001b[0m\n",
      "\u001b[1;32mpandas\\_libs\\hashtable_class_helper.pxi\u001b[0m in \u001b[0;36mpandas._libs.hashtable.PyObjectHashTable.get_item\u001b[1;34m()\u001b[0m\n",
      "\u001b[1;32mpandas\\_libs\\hashtable_class_helper.pxi\u001b[0m in \u001b[0;36mpandas._libs.hashtable.PyObjectHashTable.get_item\u001b[1;34m()\u001b[0m\n",
      "\u001b[1;31mKeyError\u001b[0m: 'ID'",
      "\nThe above exception was the direct cause of the following exception:\n",
      "\u001b[1;31mKeyError\u001b[0m                                  Traceback (most recent call last)",
      "\u001b[1;32m<ipython-input-507-841e7509d424>\u001b[0m in \u001b[0;36m<module>\u001b[1;34m\u001b[0m\n\u001b[0;32m      1\u001b[0m \u001b[1;31m# Removing outliers using IQR method\u001b[0m\u001b[1;33m\u001b[0m\u001b[1;33m\u001b[0m\u001b[1;33m\u001b[0m\u001b[0m\n\u001b[0;32m      2\u001b[0m \u001b[1;32mfor\u001b[0m \u001b[0mcol\u001b[0m \u001b[1;32min\u001b[0m \u001b[0mnumeric_cols\u001b[0m\u001b[1;33m:\u001b[0m\u001b[1;33m\u001b[0m\u001b[1;33m\u001b[0m\u001b[0m\n\u001b[1;32m----> 3\u001b[1;33m     \u001b[0mQ1\u001b[0m \u001b[1;33m=\u001b[0m \u001b[0mdf_CurrentandSavingsAccountData\u001b[0m\u001b[1;33m[\u001b[0m\u001b[0mcol\u001b[0m\u001b[1;33m]\u001b[0m\u001b[1;33m.\u001b[0m\u001b[0mquantile\u001b[0m\u001b[1;33m(\u001b[0m\u001b[1;36m0.25\u001b[0m\u001b[1;33m)\u001b[0m\u001b[1;33m\u001b[0m\u001b[1;33m\u001b[0m\u001b[0m\n\u001b[0m\u001b[0;32m      4\u001b[0m     \u001b[0mQ3\u001b[0m \u001b[1;33m=\u001b[0m \u001b[0mdf_CurrentandSavingsAccountData\u001b[0m\u001b[1;33m[\u001b[0m\u001b[0mcol\u001b[0m\u001b[1;33m]\u001b[0m\u001b[1;33m.\u001b[0m\u001b[0mquantile\u001b[0m\u001b[1;33m(\u001b[0m\u001b[1;36m0.75\u001b[0m\u001b[1;33m)\u001b[0m\u001b[1;33m\u001b[0m\u001b[1;33m\u001b[0m\u001b[0m\n\u001b[0;32m      5\u001b[0m     \u001b[0mIQR\u001b[0m \u001b[1;33m=\u001b[0m \u001b[0mQ3\u001b[0m \u001b[1;33m-\u001b[0m \u001b[0mQ1\u001b[0m\u001b[1;33m\u001b[0m\u001b[1;33m\u001b[0m\u001b[0m\n",
      "\u001b[1;32mc:\\Users\\ELITEBOOK\\anaconda3\\envs\\learn-env\\lib\\site-packages\\pandas\\core\\frame.py\u001b[0m in \u001b[0;36m__getitem__\u001b[1;34m(self, key)\u001b[0m\n\u001b[0;32m   2900\u001b[0m             \u001b[1;32mif\u001b[0m \u001b[0mself\u001b[0m\u001b[1;33m.\u001b[0m\u001b[0mcolumns\u001b[0m\u001b[1;33m.\u001b[0m\u001b[0mnlevels\u001b[0m \u001b[1;33m>\u001b[0m \u001b[1;36m1\u001b[0m\u001b[1;33m:\u001b[0m\u001b[1;33m\u001b[0m\u001b[1;33m\u001b[0m\u001b[0m\n\u001b[0;32m   2901\u001b[0m                 \u001b[1;32mreturn\u001b[0m \u001b[0mself\u001b[0m\u001b[1;33m.\u001b[0m\u001b[0m_getitem_multilevel\u001b[0m\u001b[1;33m(\u001b[0m\u001b[0mkey\u001b[0m\u001b[1;33m)\u001b[0m\u001b[1;33m\u001b[0m\u001b[1;33m\u001b[0m\u001b[0m\n\u001b[1;32m-> 2902\u001b[1;33m             \u001b[0mindexer\u001b[0m \u001b[1;33m=\u001b[0m \u001b[0mself\u001b[0m\u001b[1;33m.\u001b[0m\u001b[0mcolumns\u001b[0m\u001b[1;33m.\u001b[0m\u001b[0mget_loc\u001b[0m\u001b[1;33m(\u001b[0m\u001b[0mkey\u001b[0m\u001b[1;33m)\u001b[0m\u001b[1;33m\u001b[0m\u001b[1;33m\u001b[0m\u001b[0m\n\u001b[0m\u001b[0;32m   2903\u001b[0m             \u001b[1;32mif\u001b[0m \u001b[0mis_integer\u001b[0m\u001b[1;33m(\u001b[0m\u001b[0mindexer\u001b[0m\u001b[1;33m)\u001b[0m\u001b[1;33m:\u001b[0m\u001b[1;33m\u001b[0m\u001b[1;33m\u001b[0m\u001b[0m\n\u001b[0;32m   2904\u001b[0m                 \u001b[0mindexer\u001b[0m \u001b[1;33m=\u001b[0m \u001b[1;33m[\u001b[0m\u001b[0mindexer\u001b[0m\u001b[1;33m]\u001b[0m\u001b[1;33m\u001b[0m\u001b[1;33m\u001b[0m\u001b[0m\n",
      "\u001b[1;32mc:\\Users\\ELITEBOOK\\anaconda3\\envs\\learn-env\\lib\\site-packages\\pandas\\core\\indexes\\base.py\u001b[0m in \u001b[0;36mget_loc\u001b[1;34m(self, key, method, tolerance)\u001b[0m\n\u001b[0;32m   2895\u001b[0m                 \u001b[1;32mreturn\u001b[0m \u001b[0mself\u001b[0m\u001b[1;33m.\u001b[0m\u001b[0m_engine\u001b[0m\u001b[1;33m.\u001b[0m\u001b[0mget_loc\u001b[0m\u001b[1;33m(\u001b[0m\u001b[0mcasted_key\u001b[0m\u001b[1;33m)\u001b[0m\u001b[1;33m\u001b[0m\u001b[1;33m\u001b[0m\u001b[0m\n\u001b[0;32m   2896\u001b[0m             \u001b[1;32mexcept\u001b[0m \u001b[0mKeyError\u001b[0m \u001b[1;32mas\u001b[0m \u001b[0merr\u001b[0m\u001b[1;33m:\u001b[0m\u001b[1;33m\u001b[0m\u001b[1;33m\u001b[0m\u001b[0m\n\u001b[1;32m-> 2897\u001b[1;33m                 \u001b[1;32mraise\u001b[0m \u001b[0mKeyError\u001b[0m\u001b[1;33m(\u001b[0m\u001b[0mkey\u001b[0m\u001b[1;33m)\u001b[0m \u001b[1;32mfrom\u001b[0m \u001b[0merr\u001b[0m\u001b[1;33m\u001b[0m\u001b[1;33m\u001b[0m\u001b[0m\n\u001b[0m\u001b[0;32m   2898\u001b[0m \u001b[1;33m\u001b[0m\u001b[0m\n\u001b[0;32m   2899\u001b[0m         \u001b[1;32mif\u001b[0m \u001b[0mtolerance\u001b[0m \u001b[1;32mis\u001b[0m \u001b[1;32mnot\u001b[0m \u001b[1;32mNone\u001b[0m\u001b[1;33m:\u001b[0m\u001b[1;33m\u001b[0m\u001b[1;33m\u001b[0m\u001b[0m\n",
      "\u001b[1;31mKeyError\u001b[0m: 'ID'"
     ]
    }
   ],
   "source": [
    "# Removing outliers using IQR method\n",
    "for col in numeric_cols:\n",
    "    Q1 = df_CurrentandSavingsAccountData[col].quantile(0.25)\n",
    "    Q3 = df_CurrentandSavingsAccountData[col].quantile(0.75)\n",
    "    IQR = Q3 - Q1\n",
    "    lower_bound = Q1 - 1.5 * IQR\n",
    "    upper_bound = Q3 + 1.5 * IQR\n",
    "    df_CurrentandSavingsAccountData = df_CurrentandSavingsAccountData[(df_CurrentandSavingsAccountData[col] >= lower_bound) & (df_CurrentandSavingsAccountData[col] <= upper_bound)]\n"
   ]
  }
 ],
 "metadata": {
  "kernelspec": {
   "display_name": "learn-env",
   "language": "python",
   "name": "python3"
  },
  "language_info": {
   "codemirror_mode": {
    "name": "ipython",
    "version": 3
   },
   "file_extension": ".py",
   "mimetype": "text/x-python",
   "name": "python",
   "nbconvert_exporter": "python",
   "pygments_lexer": "ipython3",
   "version": "3.8.5"
  }
 },
 "nbformat": 4,
 "nbformat_minor": 2
}
