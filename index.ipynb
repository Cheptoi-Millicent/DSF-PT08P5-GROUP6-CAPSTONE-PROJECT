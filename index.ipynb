{
 "cells": [
  {
   "cell_type": "markdown",
   "metadata": {},
   "source": [
    "# Business Understanding\n",
    "\n",
    "## Overview"
   ]
  },
  {
   "cell_type": "markdown",
   "metadata": {},
   "source": []
  },
  {
   "cell_type": "markdown",
   "metadata": {},
   "source": [
    "# Data Understanding"
   ]
  },
  {
   "cell_type": "markdown",
   "metadata": {},
   "source": [
    "The data being used is from a Credit Bereau. and it consists of:\n",
    "\n",
    "**Application Data:**\n",
    "* **Application_ID**: Unique Application Number\n",
    "* **Application_Date**: Date of application\n",
    "* **Loan_Approval_Status**: Approval status of loan\n",
    "* **Age_at_Application**: Age in Years at point of application\n",
    "* **Marital_Status**: Marital status at point of application\n",
    "* **Gender**: Sex\n",
    "* **Own_Rent_Home**: Residential status of home ownership\n",
    "* **Occupation_Professional_Category**: Proffessional Category\n",
    "* **Type_of_Business_Industry_of_Employment**: Industry of Employment\n",
    "* **Employment_Status**: Employment status\n",
    "* **Time_at_Current_Employment_(Months)**: Time at current employment in months\n",
    "* **Time_Employed_with_Previous_Employer_(Months)**: Time at previous employment in months\n",
    "* **Number_of_Dependents**: Number of dependents\n",
    "* **Loan_Purpose**: Purpose of Loan Applied\n",
    "* **Monthly_Income**: Monthly Income in KES\n",
    "* **Government_Employee**: Flag if government employee\n",
    "\n",
    "**Contracts Data:**\n",
    "* **Contract_ID**:\tLoan Account Number\n",
    "* **Application_ID**\tApplication Number related to the loan opened\n",
    "* **Key**:\tNumber of Open Contracts related to the loan application Number\n",
    "* **Loan_Type**:\tType of loan facility\n",
    "* **Contract_Start_Date**:\tDate of start for Loan facility\n",
    "* **Expected_Contract_End_Date**:\tExpected date of loan maturity\n",
    "* **Actual_Contract_End_Date**:\tActual date when the contrcat was closed\n",
    "* **Loan_Term**:\tTenure of loan in months\n",
    "* **Total_Loan_Amount**:\tLoan amount approved\n",
    "\n",
    "**Contracts Snapshop data:**\n",
    "* **Contract Id**:\tLoan Account Number*\n",
    "* **Snapshot Date**:\tThe End of Month when the data was reported\n",
    "* **Outstanding Amount**:\tThe outstanding balance as at the reporting date\n",
    "* **Due Amount**:\tThe amount unpaid as at the reporting date\n",
    "* **Number of Days Past Due**:\tThe number of days past due as at that reporting date\n",
    "* **Contract Status**:\tThe status of the contract\n",
    "\n",
    "**CRB Data:**\n",
    "* **Application_ID**:\tApplication Number related to the loan opened\n",
    "* **Application_Date**:\tDate of application\n",
    "* **CRB Score**:\tCredit Bureau Risk Score\n",
    "* **CRB Grade**:\tCredit Bureau Risk Grade\n",
    "\n",
    "**Current and Savings Account Data:**\n",
    "* **Account Number**:\tApplication Number related to the loan opened\n",
    "* **Application ID**:\tApplication Number related to the loan opened\n",
    "* **Month (YYYY-MM)**:\tThe reporting month when the data was calculated\n",
    "* **Open Date**:\tThe date when the account was openned\n",
    "* **Closed Date**:\tThe date when the account was closed\n",
    "* **Average Balance**:\tThe monthly average balance\n",
    "* **Overdraft Limit**:\tOverdraft Limit\n",
    "* **Number of Days in Debit during Month**:\tNumber of Days in Debit during Month\n",
    "* **Number of Days in Credit during Month**: Number of Days in Credit during Month\n",
    "* **Maximum End of Day Balance**:\tMaximum End of Day Balance\n",
    "* **Minimum End of Day Balance**:\tMinimum End of Day Balance\n",
    "* **Sum of Monthly Debit Transactions**: Sum of Monthly Debit Transactions\n",
    "* **Sum of Monthly Credit Transactions**:\tSum of Monthly Credit Transactions\n",
    "* **Last Transaction Date**:\tLast Transaction Date\n",
    "* **Sum of ATM Deposits**:\tSum of ATM Deposits\n",
    "* **Number of ATM Deposits**:\tNumber of ATM Deposits\n",
    "* **Sum of ATM Withdrawals**:\tSum of ATM Withdrawals\n",
    "* **Number of ATM Withdrawals**:\tNumber of ATM Withdrawals\n",
    "* **Sum of Cheque Debit Transactions**:\tSum of Cheque Debit Transactions\n",
    "* **Number of Cheque Debit Transactions**:\tNumber of Cheque Debit Transactions\n",
    "* **Sum of Bounced Cheque transactions**:\tSum of Bounced Cheque transactions\n",
    "* **Number of Bounced Cheques**:\tNumber of Bounced Cheques\n",
    "* **Sum of Debit Card POS Transactions**:\tSum of Debit Card POS Transactions\n",
    "* **Number of Debit Card POS Transactions**:\tNumber of Debit Card POS Transactions\n",
    "* **Sum of Over the Counter Withdrawals**:\tSum of Over the Counter Withdrawals\n",
    "* **Number of Over the Counter withdrawals**:\tNumber of Over the Counter withdrawals\n",
    "* **Account Type**:\tType of account\n",
    "* **Account Status**:\tLatest status of the account\n",
    "* **Number of Joint Holders**:\tNumber of Persons owning the account\n",
    "* **SnapshotMonth**:\tThe reporting month when the data was calculated\n",
    "\n",
    "![image.png](..\\creditdata\\images\\erpdiagram.png)\n"
   ]
  },
  {
   "cell_type": "code",
   "execution_count": 768,
   "metadata": {},
   "outputs": [],
   "source": [
    "# Loading the relevant libraries\n",
    "\n",
    "# Data pre-processsing libraries\n",
    "import pandas as pd\n",
    "import numpy as np\n",
    "import re\n",
    "\n",
    "# Metrics libraries\n",
    "\n",
    "# Data modeling libraries\n",
    "\n",
    "# "
   ]
  },
  {
   "cell_type": "markdown",
   "metadata": {},
   "source": [
    "### Application Data"
   ]
  },
  {
   "cell_type": "code",
   "execution_count": 769,
   "metadata": {},
   "outputs": [
    {
     "data": {
      "text/html": [
       "<div>\n",
       "<style scoped>\n",
       "    .dataframe tbody tr th:only-of-type {\n",
       "        vertical-align: middle;\n",
       "    }\n",
       "\n",
       "    .dataframe tbody tr th {\n",
       "        vertical-align: top;\n",
       "    }\n",
       "\n",
       "    .dataframe thead th {\n",
       "        text-align: right;\n",
       "    }\n",
       "</style>\n",
       "<table border=\"1\" class=\"dataframe\">\n",
       "  <thead>\n",
       "    <tr style=\"text-align: right;\">\n",
       "      <th></th>\n",
       "      <th>Application_ID</th>\n",
       "      <th>Application_Date</th>\n",
       "      <th>Loan_Approval_Status</th>\n",
       "      <th>Age_at_Application</th>\n",
       "      <th>Marital_Status</th>\n",
       "      <th>Gender</th>\n",
       "      <th>Own_Rent_Home</th>\n",
       "      <th>Occupation_Professional_Category</th>\n",
       "      <th>Type_of_Business_Industry_of_Employment</th>\n",
       "      <th>Employment_Status</th>\n",
       "      <th>Time_at_Current_Employment_(Months)</th>\n",
       "      <th>Time_Employed_with_Previous_Employer_(Months)</th>\n",
       "      <th>Number_of_Dependents</th>\n",
       "      <th>Loan_Purpose</th>\n",
       "      <th>Monthly_Income</th>\n",
       "      <th>Government_Employee</th>\n",
       "    </tr>\n",
       "  </thead>\n",
       "  <tbody>\n",
       "    <tr>\n",
       "      <th>0</th>\n",
       "      <td>C302100001</td>\n",
       "      <td>2015-09-15</td>\n",
       "      <td>Approved</td>\n",
       "      <td>39.0</td>\n",
       "      <td>Unmarried</td>\n",
       "      <td>Female</td>\n",
       "      <td>Own</td>\n",
       "      <td>NaN</td>\n",
       "      <td>Other</td>\n",
       "      <td>Full-Time</td>\n",
       "      <td>6.0</td>\n",
       "      <td>NaN</td>\n",
       "      <td>2.0</td>\n",
       "      <td>Home Improvement</td>\n",
       "      <td>1500.59</td>\n",
       "      <td>NaN</td>\n",
       "    </tr>\n",
       "    <tr>\n",
       "      <th>1</th>\n",
       "      <td>C302100002</td>\n",
       "      <td>2015-08-31</td>\n",
       "      <td>Approved</td>\n",
       "      <td>29.0</td>\n",
       "      <td>Unmarried</td>\n",
       "      <td>Female</td>\n",
       "      <td>Family</td>\n",
       "      <td>NaN</td>\n",
       "      <td>NaN</td>\n",
       "      <td>Full-Time</td>\n",
       "      <td>25.0</td>\n",
       "      <td>NaN</td>\n",
       "      <td>0.0</td>\n",
       "      <td>Debt Consolidation</td>\n",
       "      <td>3769.36</td>\n",
       "      <td>NaN</td>\n",
       "    </tr>\n",
       "  </tbody>\n",
       "</table>\n",
       "</div>"
      ],
      "text/plain": [
       "  Application_ID Application_Date Loan_Approval_Status  Age_at_Application  \\\n",
       "0     C302100001       2015-09-15             Approved                39.0   \n",
       "1     C302100002       2015-08-31             Approved                29.0   \n",
       "\n",
       "  Marital_Status  Gender Own_Rent_Home Occupation_Professional_Category  \\\n",
       "0      Unmarried  Female           Own                              NaN   \n",
       "1      Unmarried  Female        Family                              NaN   \n",
       "\n",
       "  Type_of_Business_Industry_of_Employment Employment_Status  \\\n",
       "0                                   Other         Full-Time   \n",
       "1                                     NaN         Full-Time   \n",
       "\n",
       "   Time_at_Current_Employment_(Months)  \\\n",
       "0                                  6.0   \n",
       "1                                 25.0   \n",
       "\n",
       "   Time_Employed_with_Previous_Employer_(Months)  Number_of_Dependents  \\\n",
       "0                                            NaN                   2.0   \n",
       "1                                            NaN                   0.0   \n",
       "\n",
       "         Loan_Purpose  Monthly_Income Government_Employee  \n",
       "0    Home Improvement         1500.59                 NaN  \n",
       "1  Debt Consolidation         3769.36                 NaN  "
      ]
     },
     "execution_count": 769,
     "metadata": {},
     "output_type": "execute_result"
    }
   ],
   "source": [
    "# Load data\n",
    "app_data = pd.read_csv(\"../creditdata/1. ApplicationData.csv\")\n",
    "\n",
    "# Check 2 top rows\n",
    "app_data.head(2)"
   ]
  },
  {
   "cell_type": "code",
   "execution_count": 770,
   "metadata": {},
   "outputs": [
    {
     "name": "stdout",
     "output_type": "stream",
     "text": [
      "<class 'pandas.core.frame.DataFrame'>\n",
      "RangeIndex: 9492 entries, 0 to 9491\n",
      "Data columns (total 16 columns):\n",
      " #   Column                                         Non-Null Count  Dtype  \n",
      "---  ------                                         --------------  -----  \n",
      " 0   Application_ID                                 9492 non-null   object \n",
      " 1   Application_Date                               9492 non-null   object \n",
      " 2   Loan_Approval_Status                           9354 non-null   object \n",
      " 3   Age_at_Application                             9471 non-null   float64\n",
      " 4   Marital_Status                                 7712 non-null   object \n",
      " 5   Gender                                         9488 non-null   object \n",
      " 6   Own_Rent_Home                                  8188 non-null   object \n",
      " 7   Occupation_Professional_Category               9361 non-null   object \n",
      " 8   Type_of_Business_Industry_of_Employment        7210 non-null   object \n",
      " 9   Employment_Status                              9357 non-null   object \n",
      " 10  Time_at_Current_Employment_(Months)            9260 non-null   float64\n",
      " 11  Time_Employed_with_Previous_Employer_(Months)  298 non-null    float64\n",
      " 12  Number_of_Dependents                           7678 non-null   float64\n",
      " 13  Loan_Purpose                                   9450 non-null   object \n",
      " 14  Monthly_Income                                 9492 non-null   float64\n",
      " 15  Government_Employee                            9311 non-null   object \n",
      "dtypes: float64(5), object(11)\n",
      "memory usage: 1.2+ MB\n"
     ]
    }
   ],
   "source": [
    "# Get data summary\n",
    "app_data.info()"
   ]
  },
  {
   "cell_type": "code",
   "execution_count": 771,
   "metadata": {},
   "outputs": [
    {
     "data": {
      "text/plain": [
       "(9492, 16)"
      ]
     },
     "execution_count": 771,
     "metadata": {},
     "output_type": "execute_result"
    }
   ],
   "source": [
    "# Check Shape\n",
    "app_data.shape"
   ]
  },
  {
   "cell_type": "code",
   "execution_count": 772,
   "metadata": {},
   "outputs": [
    {
     "data": {
      "text/plain": [
       "Application_ID                                      0\n",
       "Application_Date                                    0\n",
       "Loan_Approval_Status                              138\n",
       "Age_at_Application                                 21\n",
       "Marital_Status                                   1780\n",
       "Gender                                              4\n",
       "Own_Rent_Home                                    1304\n",
       "Occupation_Professional_Category                  131\n",
       "Type_of_Business_Industry_of_Employment          2282\n",
       "Employment_Status                                 135\n",
       "Time_at_Current_Employment_(Months)               232\n",
       "Time_Employed_with_Previous_Employer_(Months)    9194\n",
       "Number_of_Dependents                             1814\n",
       "Loan_Purpose                                       42\n",
       "Monthly_Income                                      0\n",
       "Government_Employee                               181\n",
       "dtype: int64"
      ]
     },
     "execution_count": 772,
     "metadata": {},
     "output_type": "execute_result"
    }
   ],
   "source": [
    "# Check null values\n",
    "app_data.isnull().sum()"
   ]
  },
  {
   "cell_type": "markdown",
   "metadata": {},
   "source": [
    "*Observation*\n",
    "\n",
    "* The ApplicationData has $9,492$ records under $16$ columns.\n",
    "* All the columns have null values apart from the *'Application_ID'*, *'Application_Date'*, and *'Monthly_Income'* columns.\n",
    "* The 'Application_Date' column is  an object dtype. thiss needs to be changed to 'date' datatype"
   ]
  },
  {
   "cell_type": "code",
   "execution_count": 773,
   "metadata": {},
   "outputs": [],
   "source": [
    "# app_data.Loan_Approval_Status.value_counts()"
   ]
  },
  {
   "cell_type": "markdown",
   "metadata": {},
   "source": [
    "### Contracts Data"
   ]
  },
  {
   "cell_type": "code",
   "execution_count": 774,
   "metadata": {},
   "outputs": [
    {
     "data": {
      "text/html": [
       "<div>\n",
       "<style scoped>\n",
       "    .dataframe tbody tr th:only-of-type {\n",
       "        vertical-align: middle;\n",
       "    }\n",
       "\n",
       "    .dataframe tbody tr th {\n",
       "        vertical-align: top;\n",
       "    }\n",
       "\n",
       "    .dataframe thead th {\n",
       "        text-align: right;\n",
       "    }\n",
       "</style>\n",
       "<table border=\"1\" class=\"dataframe\">\n",
       "  <thead>\n",
       "    <tr style=\"text-align: right;\">\n",
       "      <th></th>\n",
       "      <th>Contract_ID</th>\n",
       "      <th>Application_ID</th>\n",
       "      <th>Key</th>\n",
       "      <th>Loan_Type</th>\n",
       "      <th>Contract_Start_Date</th>\n",
       "      <th>Expected_Contract_End_Date</th>\n",
       "      <th>Actual_Contract_End_Date</th>\n",
       "      <th>Loan_Term</th>\n",
       "      <th>Total_Loan_Amount</th>\n",
       "    </tr>\n",
       "  </thead>\n",
       "  <tbody>\n",
       "    <tr>\n",
       "      <th>0</th>\n",
       "      <td>CONT100001</td>\n",
       "      <td>C302103426</td>\n",
       "      <td>1</td>\n",
       "      <td>Unsecured Personal Loan</td>\n",
       "      <td>2018-04-12</td>\n",
       "      <td>2023-04-12</td>\n",
       "      <td>NaN</td>\n",
       "      <td>60 - Month(s)</td>\n",
       "      <td>24529.89</td>\n",
       "    </tr>\n",
       "    <tr>\n",
       "      <th>1</th>\n",
       "      <td>CONT100002</td>\n",
       "      <td>C302103426</td>\n",
       "      <td>2</td>\n",
       "      <td>Unsecured Personal Loan</td>\n",
       "      <td>2018-04-12</td>\n",
       "      <td>2023-04-12</td>\n",
       "      <td>NaN</td>\n",
       "      <td>60 - Month(s)</td>\n",
       "      <td>35085.79</td>\n",
       "    </tr>\n",
       "  </tbody>\n",
       "</table>\n",
       "</div>"
      ],
      "text/plain": [
       "  Contract_ID Application_ID  Key                Loan_Type  \\\n",
       "0  CONT100001     C302103426    1  Unsecured Personal Loan   \n",
       "1  CONT100002     C302103426    2  Unsecured Personal Loan   \n",
       "\n",
       "  Contract_Start_Date Expected_Contract_End_Date Actual_Contract_End_Date  \\\n",
       "0          2018-04-12                 2023-04-12                      NaN   \n",
       "1          2018-04-12                 2023-04-12                      NaN   \n",
       "\n",
       "       Loan_Term  Total_Loan_Amount  \n",
       "0  60 - Month(s)           24529.89  \n",
       "1  60 - Month(s)           35085.79  "
      ]
     },
     "execution_count": 774,
     "metadata": {},
     "output_type": "execute_result"
    }
   ],
   "source": [
    "# Load data\n",
    "contract_data = pd.read_csv(\"../creditdata/2. ContractsData.csv\")\n",
    "\n",
    "# Check 2 top rows\n",
    "contract_data.head(2)"
   ]
  },
  {
   "cell_type": "code",
   "execution_count": 775,
   "metadata": {},
   "outputs": [
    {
     "name": "stdout",
     "output_type": "stream",
     "text": [
      "<class 'pandas.core.frame.DataFrame'>\n",
      "RangeIndex: 9374 entries, 0 to 9373\n",
      "Data columns (total 9 columns):\n",
      " #   Column                      Non-Null Count  Dtype  \n",
      "---  ------                      --------------  -----  \n",
      " 0   Contract_ID                 9374 non-null   object \n",
      " 1   Application_ID              7598 non-null   object \n",
      " 2   Key                         9374 non-null   int64  \n",
      " 3   Loan_Type                   9374 non-null   object \n",
      " 4   Contract_Start_Date         9374 non-null   object \n",
      " 5   Expected_Contract_End_Date  9374 non-null   object \n",
      " 6   Actual_Contract_End_Date    2593 non-null   object \n",
      " 7   Loan_Term                   9374 non-null   object \n",
      " 8   Total_Loan_Amount           9374 non-null   float64\n",
      "dtypes: float64(1), int64(1), object(7)\n",
      "memory usage: 659.2+ KB\n"
     ]
    }
   ],
   "source": [
    "# show data summary\n",
    "contract_data.info()"
   ]
  },
  {
   "cell_type": "code",
   "execution_count": 776,
   "metadata": {},
   "outputs": [
    {
     "data": {
      "text/plain": [
       "(9374, 9)"
      ]
     },
     "execution_count": 776,
     "metadata": {},
     "output_type": "execute_result"
    }
   ],
   "source": [
    "# Check shape\n",
    "contract_data.shape"
   ]
  },
  {
   "cell_type": "code",
   "execution_count": 777,
   "metadata": {},
   "outputs": [
    {
     "data": {
      "text/plain": [
       "Contract_ID                      0\n",
       "Application_ID                1776\n",
       "Key                              0\n",
       "Loan_Type                        0\n",
       "Contract_Start_Date              0\n",
       "Expected_Contract_End_Date       0\n",
       "Actual_Contract_End_Date      6781\n",
       "Loan_Term                        0\n",
       "Total_Loan_Amount                0\n",
       "dtype: int64"
      ]
     },
     "execution_count": 777,
     "metadata": {},
     "output_type": "execute_result"
    }
   ],
   "source": [
    "# Check null values\n",
    "contract_data.isnull().sum()"
   ]
  },
  {
   "cell_type": "markdown",
   "metadata": {},
   "source": [
    "*Observation*\n",
    "* The contract data is of $9$ columns with $9,374$ records\n",
    "* The dates are in the object dtype, will need to be changed to date format\n",
    "* The contracts data has null values on the *'Application_ID'* and *'Actual_Contract_End_Date'* columns.\n"
   ]
  },
  {
   "cell_type": "markdown",
   "metadata": {},
   "source": [
    "### Contracts Snapshot data"
   ]
  },
  {
   "cell_type": "code",
   "execution_count": 778,
   "metadata": {},
   "outputs": [
    {
     "data": {
      "text/html": [
       "<div>\n",
       "<style scoped>\n",
       "    .dataframe tbody tr th:only-of-type {\n",
       "        vertical-align: middle;\n",
       "    }\n",
       "\n",
       "    .dataframe tbody tr th {\n",
       "        vertical-align: top;\n",
       "    }\n",
       "\n",
       "    .dataframe thead th {\n",
       "        text-align: right;\n",
       "    }\n",
       "</style>\n",
       "<table border=\"1\" class=\"dataframe\">\n",
       "  <thead>\n",
       "    <tr style=\"text-align: right;\">\n",
       "      <th></th>\n",
       "      <th>Contract_ID</th>\n",
       "      <th>Snapshot Date</th>\n",
       "      <th>Outstanding Amount</th>\n",
       "      <th>Due Amount</th>\n",
       "      <th>Number of Days Past Due</th>\n",
       "      <th>Contract Status</th>\n",
       "    </tr>\n",
       "  </thead>\n",
       "  <tbody>\n",
       "    <tr>\n",
       "      <th>0</th>\n",
       "      <td>CONT109375</td>\n",
       "      <td>2018-12-31</td>\n",
       "      <td>0.00</td>\n",
       "      <td>0.0</td>\n",
       "      <td>NaN</td>\n",
       "      <td>Closed</td>\n",
       "    </tr>\n",
       "    <tr>\n",
       "      <th>1</th>\n",
       "      <td>CONT109376</td>\n",
       "      <td>2006-08-31</td>\n",
       "      <td>215.08</td>\n",
       "      <td>0.0</td>\n",
       "      <td>NaN</td>\n",
       "      <td>Active</td>\n",
       "    </tr>\n",
       "  </tbody>\n",
       "</table>\n",
       "</div>"
      ],
      "text/plain": [
       "  Contract_ID Snapshot Date  Outstanding Amount  Due Amount  \\\n",
       "0  CONT109375    2018-12-31                0.00         0.0   \n",
       "1  CONT109376    2006-08-31              215.08         0.0   \n",
       "\n",
       "   Number of Days Past Due Contract Status  \n",
       "0                      NaN          Closed  \n",
       "1                      NaN          Active  "
      ]
     },
     "execution_count": 778,
     "metadata": {},
     "output_type": "execute_result"
    }
   ],
   "source": [
    "# Load the dataset\n",
    "ContractsSnapshot_data = pd.read_csv(\"../creditdata/3. ContractsSnapshotData.csv\")\n",
    "\n",
    "# Check top 2 rows\n",
    "ContractsSnapshot_data.head(2)"
   ]
  },
  {
   "cell_type": "code",
   "execution_count": 779,
   "metadata": {},
   "outputs": [
    {
     "data": {
      "text/plain": [
       "(274371, 6)"
      ]
     },
     "execution_count": 779,
     "metadata": {},
     "output_type": "execute_result"
    }
   ],
   "source": [
    "# Check Data size\n",
    "ContractsSnapshot_data.shape"
   ]
  },
  {
   "cell_type": "code",
   "execution_count": 780,
   "metadata": {},
   "outputs": [
    {
     "name": "stdout",
     "output_type": "stream",
     "text": [
      "<class 'pandas.core.frame.DataFrame'>\n",
      "RangeIndex: 274371 entries, 0 to 274370\n",
      "Data columns (total 6 columns):\n",
      " #   Column                   Non-Null Count   Dtype  \n",
      "---  ------                   --------------   -----  \n",
      " 0   Contract_ID              274371 non-null  object \n",
      " 1   Snapshot Date            274371 non-null  object \n",
      " 2   Outstanding Amount       274371 non-null  float64\n",
      " 3   Due Amount               274371 non-null  float64\n",
      " 4   Number of Days Past Due  79158 non-null   float64\n",
      " 5   Contract Status          274371 non-null  object \n",
      "dtypes: float64(3), object(3)\n",
      "memory usage: 12.6+ MB\n"
     ]
    }
   ],
   "source": [
    "# Data summary\n",
    "ContractsSnapshot_data.info()"
   ]
  },
  {
   "cell_type": "code",
   "execution_count": 781,
   "metadata": {},
   "outputs": [
    {
     "data": {
      "text/plain": [
       "Contract_ID                     0\n",
       "Snapshot Date                   0\n",
       "Outstanding Amount              0\n",
       "Due Amount                      0\n",
       "Number of Days Past Due    195213\n",
       "Contract Status                 0\n",
       "dtype: int64"
      ]
     },
     "execution_count": 781,
     "metadata": {},
     "output_type": "execute_result"
    }
   ],
   "source": [
    "# Check null values\n",
    "ContractsSnapshot_data.isnull().sum()"
   ]
  },
  {
   "cell_type": "code",
   "execution_count": 782,
   "metadata": {},
   "outputs": [
    {
     "data": {
      "text/html": [
       "<div>\n",
       "<style scoped>\n",
       "    .dataframe tbody tr th:only-of-type {\n",
       "        vertical-align: middle;\n",
       "    }\n",
       "\n",
       "    .dataframe tbody tr th {\n",
       "        vertical-align: top;\n",
       "    }\n",
       "\n",
       "    .dataframe thead th {\n",
       "        text-align: right;\n",
       "    }\n",
       "</style>\n",
       "<table border=\"1\" class=\"dataframe\">\n",
       "  <thead>\n",
       "    <tr style=\"text-align: right;\">\n",
       "      <th></th>\n",
       "      <th>Contract_ID</th>\n",
       "      <th>Snapshot Date</th>\n",
       "      <th>Outstanding Amount</th>\n",
       "      <th>Due Amount</th>\n",
       "      <th>Number of Days Past Due</th>\n",
       "      <th>Contract Status</th>\n",
       "    </tr>\n",
       "  </thead>\n",
       "  <tbody>\n",
       "    <tr>\n",
       "      <th>10</th>\n",
       "      <td>CONT109376</td>\n",
       "      <td>2007-05-31</td>\n",
       "      <td>64.15</td>\n",
       "      <td>0.00</td>\n",
       "      <td>NaN</td>\n",
       "      <td>Active</td>\n",
       "    </tr>\n",
       "    <tr>\n",
       "      <th>11</th>\n",
       "      <td>CONT109376</td>\n",
       "      <td>2007-06-30</td>\n",
       "      <td>64.15</td>\n",
       "      <td>22.37</td>\n",
       "      <td>3.0</td>\n",
       "      <td>Active</td>\n",
       "    </tr>\n",
       "    <tr>\n",
       "      <th>12</th>\n",
       "      <td>CONT109376</td>\n",
       "      <td>2007-07-31</td>\n",
       "      <td>64.15</td>\n",
       "      <td>49.61</td>\n",
       "      <td>34.0</td>\n",
       "      <td>Active</td>\n",
       "    </tr>\n",
       "    <tr>\n",
       "      <th>13</th>\n",
       "      <td>CONT109376</td>\n",
       "      <td>2007-08-31</td>\n",
       "      <td>17.58</td>\n",
       "      <td>18.12</td>\n",
       "      <td>35.0</td>\n",
       "      <td>Active</td>\n",
       "    </tr>\n",
       "    <tr>\n",
       "      <th>14</th>\n",
       "      <td>CONT109376</td>\n",
       "      <td>2007-09-30</td>\n",
       "      <td>0.00</td>\n",
       "      <td>18.12</td>\n",
       "      <td>65.0</td>\n",
       "      <td>Closed</td>\n",
       "    </tr>\n",
       "    <tr>\n",
       "      <th>15</th>\n",
       "      <td>CONT109377</td>\n",
       "      <td>2006-08-31</td>\n",
       "      <td>601.92</td>\n",
       "      <td>0.00</td>\n",
       "      <td>NaN</td>\n",
       "      <td>Active</td>\n",
       "    </tr>\n",
       "    <tr>\n",
       "      <th>16</th>\n",
       "      <td>CONT109377</td>\n",
       "      <td>2006-09-30</td>\n",
       "      <td>601.92</td>\n",
       "      <td>0.00</td>\n",
       "      <td>NaN</td>\n",
       "      <td>Active</td>\n",
       "    </tr>\n",
       "    <tr>\n",
       "      <th>17</th>\n",
       "      <td>CONT109377</td>\n",
       "      <td>2006-10-31</td>\n",
       "      <td>601.92</td>\n",
       "      <td>38.17</td>\n",
       "      <td>26.0</td>\n",
       "      <td>Active</td>\n",
       "    </tr>\n",
       "    <tr>\n",
       "      <th>18</th>\n",
       "      <td>CONT109377</td>\n",
       "      <td>2006-11-30</td>\n",
       "      <td>536.04</td>\n",
       "      <td>0.00</td>\n",
       "      <td>NaN</td>\n",
       "      <td>Active</td>\n",
       "    </tr>\n",
       "    <tr>\n",
       "      <th>19</th>\n",
       "      <td>CONT109377</td>\n",
       "      <td>2006-12-31</td>\n",
       "      <td>469.38</td>\n",
       "      <td>0.00</td>\n",
       "      <td>NaN</td>\n",
       "      <td>Active</td>\n",
       "    </tr>\n",
       "  </tbody>\n",
       "</table>\n",
       "</div>"
      ],
      "text/plain": [
       "   Contract_ID Snapshot Date  Outstanding Amount  Due Amount  \\\n",
       "10  CONT109376    2007-05-31               64.15        0.00   \n",
       "11  CONT109376    2007-06-30               64.15       22.37   \n",
       "12  CONT109376    2007-07-31               64.15       49.61   \n",
       "13  CONT109376    2007-08-31               17.58       18.12   \n",
       "14  CONT109376    2007-09-30                0.00       18.12   \n",
       "15  CONT109377    2006-08-31              601.92        0.00   \n",
       "16  CONT109377    2006-09-30              601.92        0.00   \n",
       "17  CONT109377    2006-10-31              601.92       38.17   \n",
       "18  CONT109377    2006-11-30              536.04        0.00   \n",
       "19  CONT109377    2006-12-31              469.38        0.00   \n",
       "\n",
       "    Number of Days Past Due Contract Status  \n",
       "10                      NaN          Active  \n",
       "11                      3.0          Active  \n",
       "12                     34.0          Active  \n",
       "13                     35.0          Active  \n",
       "14                     65.0          Closed  \n",
       "15                      NaN          Active  \n",
       "16                      NaN          Active  \n",
       "17                     26.0          Active  \n",
       "18                      NaN          Active  \n",
       "19                      NaN          Active  "
      ]
     },
     "execution_count": 782,
     "metadata": {},
     "output_type": "execute_result"
    }
   ],
   "source": [
    "# Check data\n",
    "ContractsSnapshot_data[10:20]"
   ]
  },
  {
   "cell_type": "markdown",
   "metadata": {},
   "source": [
    "*Observation*\n",
    "* Tha contractsSnapshot data has $6$ columns with $274,371$ rows.\n",
    "* the date column is of object dtype. Will be changed to date dtype\n",
    "* It has null values on the *'Number of Days Past Due'* column. On further checking, the null values are present on records that do not have *'Due Amount'*."
   ]
  },
  {
   "cell_type": "markdown",
   "metadata": {},
   "source": [
    "### CRB Data"
   ]
  },
  {
   "cell_type": "code",
   "execution_count": 783,
   "metadata": {},
   "outputs": [
    {
     "data": {
      "text/html": [
       "<div>\n",
       "<style scoped>\n",
       "    .dataframe tbody tr th:only-of-type {\n",
       "        vertical-align: middle;\n",
       "    }\n",
       "\n",
       "    .dataframe tbody tr th {\n",
       "        vertical-align: top;\n",
       "    }\n",
       "\n",
       "    .dataframe thead th {\n",
       "        text-align: right;\n",
       "    }\n",
       "</style>\n",
       "<table border=\"1\" class=\"dataframe\">\n",
       "  <thead>\n",
       "    <tr style=\"text-align: right;\">\n",
       "      <th></th>\n",
       "      <th>Application_ID</th>\n",
       "      <th>Application_Date</th>\n",
       "      <th>CRB Score</th>\n",
       "      <th>CRB Grade</th>\n",
       "    </tr>\n",
       "  </thead>\n",
       "  <tbody>\n",
       "    <tr>\n",
       "      <th>0</th>\n",
       "      <td>C302102137</td>\n",
       "      <td>2017-09-30</td>\n",
       "      <td>593</td>\n",
       "      <td>D</td>\n",
       "    </tr>\n",
       "    <tr>\n",
       "      <th>1</th>\n",
       "      <td>C302106175</td>\n",
       "      <td>2017-09-30</td>\n",
       "      <td>625</td>\n",
       "      <td>C</td>\n",
       "    </tr>\n",
       "  </tbody>\n",
       "</table>\n",
       "</div>"
      ],
      "text/plain": [
       "  Application_ID Application_Date  CRB Score CRB Grade\n",
       "0     C302102137       2017-09-30        593         D\n",
       "1     C302106175       2017-09-30        625         C"
      ]
     },
     "execution_count": 783,
     "metadata": {},
     "output_type": "execute_result"
    }
   ],
   "source": [
    "# Load data\n",
    "crb_data = pd.read_csv(\"../creditdata/4. CRB Data.csv\")\n",
    "\n",
    "# Check top 2 rows\n",
    "crb_data.head(2)"
   ]
  },
  {
   "cell_type": "code",
   "execution_count": 784,
   "metadata": {},
   "outputs": [
    {
     "name": "stdout",
     "output_type": "stream",
     "text": [
      "<class 'pandas.core.frame.DataFrame'>\n",
      "RangeIndex: 6750 entries, 0 to 6749\n",
      "Data columns (total 4 columns):\n",
      " #   Column            Non-Null Count  Dtype \n",
      "---  ------            --------------  ----- \n",
      " 0   Application_ID    6750 non-null   object\n",
      " 1   Application_Date  6750 non-null   object\n",
      " 2   CRB Score         6750 non-null   int64 \n",
      " 3   CRB Grade         6750 non-null   object\n",
      "dtypes: int64(1), object(3)\n",
      "memory usage: 211.1+ KB\n"
     ]
    }
   ],
   "source": [
    "# Data summary\n",
    "crb_data.info()"
   ]
  },
  {
   "cell_type": "code",
   "execution_count": 785,
   "metadata": {},
   "outputs": [
    {
     "data": {
      "text/plain": [
       "Application_ID      0\n",
       "Application_Date    0\n",
       "CRB Score           0\n",
       "CRB Grade           0\n",
       "dtype: int64"
      ]
     },
     "execution_count": 785,
     "metadata": {},
     "output_type": "execute_result"
    }
   ],
   "source": [
    "# Check null values\n",
    "crb_data.isnull().sum()"
   ]
  },
  {
   "cell_type": "code",
   "execution_count": 786,
   "metadata": {},
   "outputs": [
    {
     "data": {
      "text/plain": [
       "(6750, 4)"
      ]
     },
     "execution_count": 786,
     "metadata": {},
     "output_type": "execute_result"
    }
   ],
   "source": [
    "# Check size\n",
    "crb_data.shape"
   ]
  },
  {
   "cell_type": "markdown",
   "metadata": {},
   "source": [
    "*Observation*\n",
    "* CRB Data has $4$ columns with $6,750$ records.\n",
    "* The CRB Data has no null values.\n",
    "* The *'Application_Date'* column is of object dtype, to be changed to date dtype."
   ]
  },
  {
   "cell_type": "code",
   "execution_count": 787,
   "metadata": {},
   "outputs": [],
   "source": [
    "#crb_data[\"CRB Grade\"].value_counts()"
   ]
  },
  {
   "cell_type": "markdown",
   "metadata": {},
   "source": [
    "### Current_and_Savings Data"
   ]
  },
  {
   "cell_type": "code",
   "execution_count": 788,
   "metadata": {},
   "outputs": [
    {
     "data": {
      "text/html": [
       "<div>\n",
       "<style scoped>\n",
       "    .dataframe tbody tr th:only-of-type {\n",
       "        vertical-align: middle;\n",
       "    }\n",
       "\n",
       "    .dataframe tbody tr th {\n",
       "        vertical-align: top;\n",
       "    }\n",
       "\n",
       "    .dataframe thead th {\n",
       "        text-align: right;\n",
       "    }\n",
       "</style>\n",
       "<table border=\"1\" class=\"dataframe\">\n",
       "  <thead>\n",
       "    <tr style=\"text-align: right;\">\n",
       "      <th></th>\n",
       "      <th>ID</th>\n",
       "      <th>Account_Number</th>\n",
       "      <th>Application ID</th>\n",
       "      <th>Month (YYYY-MM)</th>\n",
       "      <th>Open Date</th>\n",
       "      <th>Closed Date</th>\n",
       "      <th>Average Balance</th>\n",
       "      <th>Overdraft Limit</th>\n",
       "      <th>Number of Days in Debit during Month</th>\n",
       "      <th>Number of Days in Credit during Month</th>\n",
       "      <th>...</th>\n",
       "      <th>Sum of Bounced Cheque transactions</th>\n",
       "      <th>Number of Bounced Cheques</th>\n",
       "      <th>Sum of Debit Card POS Transactions</th>\n",
       "      <th>Number of Debit Card POS Transactions</th>\n",
       "      <th>Sum of Over the Counter Withdrawals</th>\n",
       "      <th>Number of Over the Counter withdrawals</th>\n",
       "      <th>Account Type</th>\n",
       "      <th>Account Status</th>\n",
       "      <th>Number of Joint Holders</th>\n",
       "      <th>SpshotMonth</th>\n",
       "    </tr>\n",
       "  </thead>\n",
       "  <tbody>\n",
       "    <tr>\n",
       "      <th>0</th>\n",
       "      <td>1</td>\n",
       "      <td>ACC10000001</td>\n",
       "      <td>C302100001</td>\n",
       "      <td>2015-09-01</td>\n",
       "      <td>2015-09-06</td>\n",
       "      <td>NaN</td>\n",
       "      <td>1986.09</td>\n",
       "      <td>0.0</td>\n",
       "      <td>0.0</td>\n",
       "      <td>25.0</td>\n",
       "      <td>...</td>\n",
       "      <td>NaN</td>\n",
       "      <td>0.0</td>\n",
       "      <td>NaN</td>\n",
       "      <td>0.0</td>\n",
       "      <td>NaN</td>\n",
       "      <td>0.0</td>\n",
       "      <td>Savings</td>\n",
       "      <td>Active</td>\n",
       "      <td>0.0</td>\n",
       "      <td>2015-09-01</td>\n",
       "    </tr>\n",
       "    <tr>\n",
       "      <th>1</th>\n",
       "      <td>2</td>\n",
       "      <td>ACC10000002</td>\n",
       "      <td>C302100001</td>\n",
       "      <td>2015-09-01</td>\n",
       "      <td>2015-09-06</td>\n",
       "      <td>2018-10-04</td>\n",
       "      <td>23.45</td>\n",
       "      <td>NaN</td>\n",
       "      <td>0.0</td>\n",
       "      <td>25.0</td>\n",
       "      <td>...</td>\n",
       "      <td>NaN</td>\n",
       "      <td>0.0</td>\n",
       "      <td>NaN</td>\n",
       "      <td>0.0</td>\n",
       "      <td>NaN</td>\n",
       "      <td>0.0</td>\n",
       "      <td>Savings</td>\n",
       "      <td>Closed</td>\n",
       "      <td>0.0</td>\n",
       "      <td>2015-09-01</td>\n",
       "    </tr>\n",
       "  </tbody>\n",
       "</table>\n",
       "<p>2 rows × 31 columns</p>\n",
       "</div>"
      ],
      "text/plain": [
       "   ID Account_Number Application ID Month (YYYY-MM)   Open Date Closed Date  \\\n",
       "0   1    ACC10000001     C302100001      2015-09-01  2015-09-06         NaN   \n",
       "1   2    ACC10000002     C302100001      2015-09-01  2015-09-06  2018-10-04   \n",
       "\n",
       "   Average Balance  Overdraft Limit  Number of Days in Debit during Month  \\\n",
       "0          1986.09              0.0                                   0.0   \n",
       "1            23.45              NaN                                   0.0   \n",
       "\n",
       "   Number of Days in Credit during Month  ...  \\\n",
       "0                                   25.0  ...   \n",
       "1                                   25.0  ...   \n",
       "\n",
       "   Sum of Bounced Cheque transactions  Number of Bounced Cheques  \\\n",
       "0                                 NaN                        0.0   \n",
       "1                                 NaN                        0.0   \n",
       "\n",
       "   Sum of Debit Card POS Transactions  Number of Debit Card POS Transactions  \\\n",
       "0                                 NaN                                    0.0   \n",
       "1                                 NaN                                    0.0   \n",
       "\n",
       "  Sum of Over the Counter Withdrawals  Number of Over the Counter withdrawals  \\\n",
       "0                                 NaN                                     0.0   \n",
       "1                                 NaN                                     0.0   \n",
       "\n",
       "   Account Type  Account Status  Number of Joint Holders  SpshotMonth  \n",
       "0       Savings          Active                      0.0   2015-09-01  \n",
       "1       Savings          Closed                      0.0   2015-09-01  \n",
       "\n",
       "[2 rows x 31 columns]"
      ]
     },
     "execution_count": 788,
     "metadata": {},
     "output_type": "execute_result"
    }
   ],
   "source": [
    "# load data\n",
    "curr_savings_data = pd.read_csv(\"../creditdata/5. Current and Savings Account Data.csv\")\n",
    "\n",
    "# Check top 2 rows\n",
    "curr_savings_data.head(2)"
   ]
  },
  {
   "cell_type": "code",
   "execution_count": 789,
   "metadata": {},
   "outputs": [
    {
     "name": "stdout",
     "output_type": "stream",
     "text": [
      "<class 'pandas.core.frame.DataFrame'>\n",
      "RangeIndex: 857677 entries, 0 to 857676\n",
      "Data columns (total 31 columns):\n",
      " #   Column                                  Non-Null Count   Dtype  \n",
      "---  ------                                  --------------   -----  \n",
      " 0   ID                                      857677 non-null  int64  \n",
      " 1   Account_Number                          857677 non-null  object \n",
      " 2   Application ID                          857672 non-null  object \n",
      " 3   Month (YYYY-MM)                         857647 non-null  object \n",
      " 4   Open Date                               857647 non-null  object \n",
      " 5   Closed Date                             161748 non-null  object \n",
      " 6   Average Balance                         857647 non-null  float64\n",
      " 7   Overdraft Limit                         753484 non-null  float64\n",
      " 8   Number of Days in Debit during Month    857647 non-null  float64\n",
      " 9   Number of Days in Credit during Month   857647 non-null  float64\n",
      " 10  Maximum End of Day Balance              857647 non-null  float64\n",
      " 11  Minimum End of Day Balance              857647 non-null  float64\n",
      " 12  Sum of Monthly Debit Transactions       832991 non-null  float64\n",
      " 13  Sum of Monthly Credit Transactions      857529 non-null  float64\n",
      " 14  Last Transaction Date                   525671 non-null  object \n",
      " 15  Sum of ATM Deposits                     14624 non-null   float64\n",
      " 16  Number of ATM Deposits                  857647 non-null  float64\n",
      " 17  Sum of ATM Withdrawals                  188709 non-null  float64\n",
      " 18  Number of ATM Withdrawals               857647 non-null  float64\n",
      " 19  Sum of Cheque Debit Transactions        634 non-null     float64\n",
      " 20  Number of Cheque Debit Transactions     857647 non-null  float64\n",
      " 21  Sum of Bounced Cheque transactions      2 non-null       float64\n",
      " 22  Number of Bounced Cheques               857647 non-null  float64\n",
      " 23  Sum of Debit Card POS Transactions      114682 non-null  float64\n",
      " 24  Number of Debit Card POS Transactions   857647 non-null  float64\n",
      " 25  Sum of Over the Counter Withdrawals     64064 non-null   float64\n",
      " 26  Number of Over the Counter withdrawals  857647 non-null  float64\n",
      " 27  Account Type                            857647 non-null  object \n",
      " 28  Account Status                          857647 non-null  object \n",
      " 29  Number of Joint Holders                 857647 non-null  float64\n",
      " 30  SpshotMonth                             857647 non-null  object \n",
      "dtypes: float64(21), int64(1), object(9)\n",
      "memory usage: 202.9+ MB\n"
     ]
    }
   ],
   "source": [
    "# Dataset summary\n",
    "curr_savings_data.info()"
   ]
  },
  {
   "cell_type": "code",
   "execution_count": 790,
   "metadata": {},
   "outputs": [
    {
     "data": {
      "text/plain": [
       "(857677, 31)"
      ]
     },
     "execution_count": 790,
     "metadata": {},
     "output_type": "execute_result"
    }
   ],
   "source": [
    "# Check size\n",
    "curr_savings_data.shape"
   ]
  },
  {
   "cell_type": "code",
   "execution_count": 791,
   "metadata": {},
   "outputs": [
    {
     "data": {
      "text/plain": [
       "ID                                             0\n",
       "Account_Number                                 0\n",
       "Application ID                                 5\n",
       "Account Status                                30\n",
       "Account Type                                  30\n",
       "Number of Over the Counter withdrawals        30\n",
       "Number of Debit Card POS Transactions         30\n",
       "Number of Bounced Cheques                     30\n",
       "Number of Cheque Debit Transactions           30\n",
       "Number of ATM Withdrawals                     30\n",
       "Number of ATM Deposits                        30\n",
       "Number of Joint Holders                       30\n",
       "SpshotMonth                                   30\n",
       "Minimum End of Day Balance                    30\n",
       "Maximum End of Day Balance                    30\n",
       "Number of Days in Credit during Month         30\n",
       "Month (YYYY-MM)                               30\n",
       "Number of Days in Debit during Month          30\n",
       "Average Balance                               30\n",
       "Open Date                                     30\n",
       "Sum of Monthly Credit Transactions           148\n",
       "Sum of Monthly Debit Transactions          24686\n",
       "Overdraft Limit                           104193\n",
       "Last Transaction Date                     332006\n",
       "Sum of ATM Withdrawals                    668968\n",
       "Closed Date                               695929\n",
       "Sum of Debit Card POS Transactions        742995\n",
       "Sum of Over the Counter Withdrawals       793613\n",
       "Sum of ATM Deposits                       843053\n",
       "Sum of Cheque Debit Transactions          857043\n",
       "Sum of Bounced Cheque transactions        857675\n",
       "dtype: int64"
      ]
     },
     "execution_count": 791,
     "metadata": {},
     "output_type": "execute_result"
    }
   ],
   "source": [
    "# Check null values\n",
    "# ~\n",
    "curr_savings_data.isnull().sum().sort_values()"
   ]
  },
  {
   "cell_type": "markdown",
   "metadata": {},
   "source": [
    "*Observation*\n",
    "* The Current & Savings data has $31$ columns with $857,677$ records\n",
    "* This data has null values on all the columns apart from the *'ID'* and *'Account_Number'* columns\n",
    "* The date columns are also of object dtype. To be changed to date dtype"
   ]
  },
  {
   "cell_type": "code",
   "execution_count": 792,
   "metadata": {},
   "outputs": [
    {
     "data": {
      "text/plain": [
       "C302102519    860\n",
       "C302100587    860\n",
       "C302103114    760\n",
       "C302102862    745\n",
       "C302103983    725\n",
       "             ... \n",
       "C302109122      1\n",
       "C302109064      1\n",
       "C302108690      1\n",
       "C302108802      1\n",
       "C302109322      1\n",
       "Name: Application ID, Length: 9492, dtype: int64"
      ]
     },
     "execution_count": 792,
     "metadata": {},
     "output_type": "execute_result"
    }
   ],
   "source": [
    "curr_savings_data['Application ID'].value_counts()"
   ]
  },
  {
   "cell_type": "code",
   "execution_count": null,
   "metadata": {},
   "outputs": [],
   "source": []
  },
  {
   "cell_type": "markdown",
   "metadata": {},
   "source": [
    "* **ApplicationData.csv**: Loan_Approval_Status, Monthly_Income, Number_of_Dependents, Time_at_Current_Employment_(Months), Employment_Status\n",
    "* **ContractsData.csv**: Loan_Type, Loan_Term, Total_Loan_Amount\n",
    "* **ContractsSnapshotData.csv**: Outstanding Amount, Number of Days Past Due, Contract Status\n",
    "* **CRB Data.csv**: CRB Score, CRB Grade\n",
    "* **Current and Savings Account Data.csv**: Average Balance, Overdraft Limit, Sum of Monthly Credit Transactions, Number of Bounced Cheques\n"
   ]
  },
  {
   "cell_type": "code",
   "execution_count": null,
   "metadata": {},
   "outputs": [],
   "source": []
  },
  {
   "cell_type": "markdown",
   "metadata": {},
   "source": [
    "## Otheer"
   ]
  },
  {
   "cell_type": "code",
   "execution_count": 793,
   "metadata": {},
   "outputs": [
    {
     "data": {
      "text/plain": [
       "Index(['Application_ID', 'Application_Date', 'Loan_Approval_Status',\n",
       "       'Age_at_Application', 'Marital_Status', 'Gender', 'Own_Rent_Home',\n",
       "       'Occupation_Professional_Category',\n",
       "       'Type_of_Business_Industry_of_Employment', 'Employment_Status',\n",
       "       'Time_at_Current_Employment_(Months)',\n",
       "       'Time_Employed_with_Previous_Employer_(Months)', 'Number_of_Dependents',\n",
       "       'Loan_Purpose', 'Monthly_Income', 'Government_Employee'],\n",
       "      dtype='object')"
      ]
     },
     "execution_count": 793,
     "metadata": {},
     "output_type": "execute_result"
    }
   ],
   "source": [
    "app_data.columns"
   ]
  },
  {
   "cell_type": "code",
   "execution_count": 794,
   "metadata": {},
   "outputs": [],
   "source": [
    "rel_app_data = app_data[[\"Loan_Approval_Status\", \"Monthly_Income\", \"Number_of_Dependents\", \"Time_at_Current_Employment_(Months)\", \"Employment_Status\"]]"
   ]
  },
  {
   "cell_type": "code",
   "execution_count": null,
   "metadata": {},
   "outputs": [],
   "source": []
  },
  {
   "cell_type": "markdown",
   "metadata": {},
   "source": [
    "### Basic Overview - data EDA"
   ]
  },
  {
   "cell_type": "code",
   "execution_count": 795,
   "metadata": {},
   "outputs": [],
   "source": [
    "# Check dataset shape (df.shape)\n"
   ]
  },
  {
   "cell_type": "code",
   "execution_count": 796,
   "metadata": {},
   "outputs": [],
   "source": [
    "# Check data types (df.dtypes)\n"
   ]
  },
  {
   "cell_type": "code",
   "execution_count": 797,
   "metadata": {},
   "outputs": [],
   "source": [
    "#Identify unique values in categorical columns (df.nunique())\n"
   ]
  },
  {
   "cell_type": "markdown",
   "metadata": {},
   "source": [
    "### Summary statistics"
   ]
  },
  {
   "cell_type": "code",
   "execution_count": 798,
   "metadata": {},
   "outputs": [],
   "source": [
    "# Numerical Data: Check for mean, median, min, max, and standard deviation .describe()"
   ]
  },
  {
   "cell_type": "code",
   "execution_count": 799,
   "metadata": {},
   "outputs": [],
   "source": [
    "# Numerical: Check skewness df.skew()"
   ]
  },
  {
   "cell_type": "code",
   "execution_count": 800,
   "metadata": {},
   "outputs": [],
   "source": [
    "# Categorical data: Frequency distribution (df[\"colomn\"].value_counts())"
   ]
  },
  {
   "cell_type": "markdown",
   "metadata": {},
   "source": [
    "# Data Cleaning / Preparation"
   ]
  },
  {
   "cell_type": "markdown",
   "metadata": {},
   "source": [
    "Understand the data\n",
    "1. Drop irrelevant columns\n",
    "2. Handle duplicates\n",
    "3. Handle missing data\n",
    "4. Convert data types (e.g., datetime, categorical)\n",
    "5. Normalize/encode data\n",
    "6. Merge datasets (if applicable)\n",
    "7. Feature engineering"
   ]
  },
  {
   "cell_type": "markdown",
   "metadata": {},
   "source": [
    "## Having the right Data type\n",
    "Let us change the dates on all the datasets to be of type datetime. But before that, i noticed some dates are not correctly recorded e.g. '*202-1-03-06*' which i think should be '*2021-03-06*'.\n",
    "So we will format it too."
   ]
  },
  {
   "cell_type": "code",
   "execution_count": 801,
   "metadata": {},
   "outputs": [
    {
     "data": {
      "text/html": [
       "<div>\n",
       "<style scoped>\n",
       "    .dataframe tbody tr th:only-of-type {\n",
       "        vertical-align: middle;\n",
       "    }\n",
       "\n",
       "    .dataframe tbody tr th {\n",
       "        vertical-align: top;\n",
       "    }\n",
       "\n",
       "    .dataframe thead th {\n",
       "        text-align: right;\n",
       "    }\n",
       "</style>\n",
       "<table border=\"1\" class=\"dataframe\">\n",
       "  <thead>\n",
       "    <tr style=\"text-align: right;\">\n",
       "      <th></th>\n",
       "      <th>Application_ID</th>\n",
       "      <th>Application_Date</th>\n",
       "      <th>Loan_Approval_Status</th>\n",
       "      <th>Age_at_Application</th>\n",
       "      <th>Marital_Status</th>\n",
       "      <th>Gender</th>\n",
       "      <th>Own_Rent_Home</th>\n",
       "      <th>Occupation_Professional_Category</th>\n",
       "      <th>Type_of_Business_Industry_of_Employment</th>\n",
       "      <th>Employment_Status</th>\n",
       "      <th>Time_at_Current_Employment_(Months)</th>\n",
       "      <th>Time_Employed_with_Previous_Employer_(Months)</th>\n",
       "      <th>Number_of_Dependents</th>\n",
       "      <th>Loan_Purpose</th>\n",
       "      <th>Monthly_Income</th>\n",
       "      <th>Government_Employee</th>\n",
       "    </tr>\n",
       "  </thead>\n",
       "  <tbody>\n",
       "    <tr>\n",
       "      <th>9446</th>\n",
       "      <td>C302109447</td>\n",
       "      <td>202-1-03-06</td>\n",
       "      <td>NaN</td>\n",
       "      <td>22.0</td>\n",
       "      <td>NaN</td>\n",
       "      <td>Female</td>\n",
       "      <td>NaN</td>\n",
       "      <td>Elementary Occupation</td>\n",
       "      <td>NaN</td>\n",
       "      <td>Contract</td>\n",
       "      <td>NaN</td>\n",
       "      <td>NaN</td>\n",
       "      <td>NaN</td>\n",
       "      <td>Other</td>\n",
       "      <td>1463.56</td>\n",
       "      <td>False</td>\n",
       "    </tr>\n",
       "    <tr>\n",
       "      <th>9447</th>\n",
       "      <td>C302109448</td>\n",
       "      <td>2018-07-05</td>\n",
       "      <td>Decline</td>\n",
       "      <td>31.0</td>\n",
       "      <td>NaN</td>\n",
       "      <td>Male</td>\n",
       "      <td>NaN</td>\n",
       "      <td>Officer</td>\n",
       "      <td>NaN</td>\n",
       "      <td>Full-Time</td>\n",
       "      <td>115.0</td>\n",
       "      <td>NaN</td>\n",
       "      <td>NaN</td>\n",
       "      <td>Other</td>\n",
       "      <td>3657.43</td>\n",
       "      <td>True</td>\n",
       "    </tr>\n",
       "    <tr>\n",
       "      <th>9448</th>\n",
       "      <td>C302109449</td>\n",
       "      <td>202-1-02-21</td>\n",
       "      <td>Customer Cancellation</td>\n",
       "      <td>24.0</td>\n",
       "      <td>NaN</td>\n",
       "      <td>Male</td>\n",
       "      <td>NaN</td>\n",
       "      <td>Officer</td>\n",
       "      <td>NaN</td>\n",
       "      <td>Full-Time</td>\n",
       "      <td>41.0</td>\n",
       "      <td>NaN</td>\n",
       "      <td>NaN</td>\n",
       "      <td>Other</td>\n",
       "      <td>3296.86</td>\n",
       "      <td>False</td>\n",
       "    </tr>\n",
       "    <tr>\n",
       "      <th>9449</th>\n",
       "      <td>C302109450</td>\n",
       "      <td>2018-08-22</td>\n",
       "      <td>Customer Cancellation</td>\n",
       "      <td>37.0</td>\n",
       "      <td>NaN</td>\n",
       "      <td>Female</td>\n",
       "      <td>NaN</td>\n",
       "      <td>Officer</td>\n",
       "      <td>NaN</td>\n",
       "      <td>Full-Time</td>\n",
       "      <td>134.0</td>\n",
       "      <td>NaN</td>\n",
       "      <td>NaN</td>\n",
       "      <td>Other</td>\n",
       "      <td>3749.84</td>\n",
       "      <td>True</td>\n",
       "    </tr>\n",
       "    <tr>\n",
       "      <th>9450</th>\n",
       "      <td>C302109451</td>\n",
       "      <td>2018-09-19</td>\n",
       "      <td>Customer Cancellation</td>\n",
       "      <td>27.0</td>\n",
       "      <td>NaN</td>\n",
       "      <td>Male</td>\n",
       "      <td>NaN</td>\n",
       "      <td>Semi-Professional</td>\n",
       "      <td>NaN</td>\n",
       "      <td>Full-Time</td>\n",
       "      <td>13.0</td>\n",
       "      <td>NaN</td>\n",
       "      <td>NaN</td>\n",
       "      <td>Other</td>\n",
       "      <td>6065.62</td>\n",
       "      <td>False</td>\n",
       "    </tr>\n",
       "    <tr>\n",
       "      <th>9451</th>\n",
       "      <td>C302109452</td>\n",
       "      <td>202-1-02-27</td>\n",
       "      <td>NaN</td>\n",
       "      <td>39.0</td>\n",
       "      <td>NaN</td>\n",
       "      <td>Female</td>\n",
       "      <td>NaN</td>\n",
       "      <td>Service and Sales Worker</td>\n",
       "      <td>NaN</td>\n",
       "      <td>Full-Time</td>\n",
       "      <td>48.0</td>\n",
       "      <td>NaN</td>\n",
       "      <td>NaN</td>\n",
       "      <td>Other</td>\n",
       "      <td>2032.04</td>\n",
       "      <td>False</td>\n",
       "    </tr>\n",
       "    <tr>\n",
       "      <th>9452</th>\n",
       "      <td>C302109453</td>\n",
       "      <td>2018-06-17</td>\n",
       "      <td>Customer Cancellation</td>\n",
       "      <td>29.0</td>\n",
       "      <td>NaN</td>\n",
       "      <td>Male</td>\n",
       "      <td>NaN</td>\n",
       "      <td>Service and Sales Worker</td>\n",
       "      <td>NaN</td>\n",
       "      <td>Full-Time</td>\n",
       "      <td>90.0</td>\n",
       "      <td>NaN</td>\n",
       "      <td>NaN</td>\n",
       "      <td>Other</td>\n",
       "      <td>3425.56</td>\n",
       "      <td>False</td>\n",
       "    </tr>\n",
       "    <tr>\n",
       "      <th>9453</th>\n",
       "      <td>C302109454</td>\n",
       "      <td>2018-11-25</td>\n",
       "      <td>Decline</td>\n",
       "      <td>37.0</td>\n",
       "      <td>NaN</td>\n",
       "      <td>Male</td>\n",
       "      <td>NaN</td>\n",
       "      <td>Elementary Occupation</td>\n",
       "      <td>NaN</td>\n",
       "      <td>Contract</td>\n",
       "      <td>146.0</td>\n",
       "      <td>NaN</td>\n",
       "      <td>NaN</td>\n",
       "      <td>Other</td>\n",
       "      <td>3172.90</td>\n",
       "      <td>False</td>\n",
       "    </tr>\n",
       "    <tr>\n",
       "      <th>9454</th>\n",
       "      <td>C302109455</td>\n",
       "      <td>2017-04-22</td>\n",
       "      <td>Customer Cancellation</td>\n",
       "      <td>22.0</td>\n",
       "      <td>NaN</td>\n",
       "      <td>Male</td>\n",
       "      <td>NaN</td>\n",
       "      <td>Elementary Occupation</td>\n",
       "      <td>NaN</td>\n",
       "      <td>Contract</td>\n",
       "      <td>12.0</td>\n",
       "      <td>NaN</td>\n",
       "      <td>NaN</td>\n",
       "      <td>Other</td>\n",
       "      <td>1695.99</td>\n",
       "      <td>False</td>\n",
       "    </tr>\n",
       "    <tr>\n",
       "      <th>9455</th>\n",
       "      <td>C302109456</td>\n",
       "      <td>202-1-08-12</td>\n",
       "      <td>NaN</td>\n",
       "      <td>22.0</td>\n",
       "      <td>NaN</td>\n",
       "      <td>Male</td>\n",
       "      <td>NaN</td>\n",
       "      <td>Employee</td>\n",
       "      <td>NaN</td>\n",
       "      <td>Full-Time</td>\n",
       "      <td>31.0</td>\n",
       "      <td>NaN</td>\n",
       "      <td>NaN</td>\n",
       "      <td>Other</td>\n",
       "      <td>805.41</td>\n",
       "      <td>False</td>\n",
       "    </tr>\n",
       "  </tbody>\n",
       "</table>\n",
       "</div>"
      ],
      "text/plain": [
       "     Application_ID Application_Date   Loan_Approval_Status  \\\n",
       "9446     C302109447      202-1-03-06                    NaN   \n",
       "9447     C302109448       2018-07-05                Decline   \n",
       "9448     C302109449      202-1-02-21  Customer Cancellation   \n",
       "9449     C302109450       2018-08-22  Customer Cancellation   \n",
       "9450     C302109451       2018-09-19  Customer Cancellation   \n",
       "9451     C302109452      202-1-02-27                    NaN   \n",
       "9452     C302109453       2018-06-17  Customer Cancellation   \n",
       "9453     C302109454       2018-11-25                Decline   \n",
       "9454     C302109455       2017-04-22  Customer Cancellation   \n",
       "9455     C302109456      202-1-08-12                    NaN   \n",
       "\n",
       "      Age_at_Application Marital_Status  Gender Own_Rent_Home  \\\n",
       "9446                22.0            NaN  Female           NaN   \n",
       "9447                31.0            NaN    Male           NaN   \n",
       "9448                24.0            NaN    Male           NaN   \n",
       "9449                37.0            NaN  Female           NaN   \n",
       "9450                27.0            NaN    Male           NaN   \n",
       "9451                39.0            NaN  Female           NaN   \n",
       "9452                29.0            NaN    Male           NaN   \n",
       "9453                37.0            NaN    Male           NaN   \n",
       "9454                22.0            NaN    Male           NaN   \n",
       "9455                22.0            NaN    Male           NaN   \n",
       "\n",
       "     Occupation_Professional_Category Type_of_Business_Industry_of_Employment  \\\n",
       "9446            Elementary Occupation                                     NaN   \n",
       "9447                          Officer                                     NaN   \n",
       "9448                          Officer                                     NaN   \n",
       "9449                          Officer                                     NaN   \n",
       "9450                Semi-Professional                                     NaN   \n",
       "9451         Service and Sales Worker                                     NaN   \n",
       "9452         Service and Sales Worker                                     NaN   \n",
       "9453            Elementary Occupation                                     NaN   \n",
       "9454            Elementary Occupation                                     NaN   \n",
       "9455                         Employee                                     NaN   \n",
       "\n",
       "     Employment_Status  Time_at_Current_Employment_(Months)  \\\n",
       "9446          Contract                                  NaN   \n",
       "9447         Full-Time                                115.0   \n",
       "9448         Full-Time                                 41.0   \n",
       "9449         Full-Time                                134.0   \n",
       "9450         Full-Time                                 13.0   \n",
       "9451         Full-Time                                 48.0   \n",
       "9452         Full-Time                                 90.0   \n",
       "9453          Contract                                146.0   \n",
       "9454          Contract                                 12.0   \n",
       "9455         Full-Time                                 31.0   \n",
       "\n",
       "      Time_Employed_with_Previous_Employer_(Months)  Number_of_Dependents  \\\n",
       "9446                                            NaN                   NaN   \n",
       "9447                                            NaN                   NaN   \n",
       "9448                                            NaN                   NaN   \n",
       "9449                                            NaN                   NaN   \n",
       "9450                                            NaN                   NaN   \n",
       "9451                                            NaN                   NaN   \n",
       "9452                                            NaN                   NaN   \n",
       "9453                                            NaN                   NaN   \n",
       "9454                                            NaN                   NaN   \n",
       "9455                                            NaN                   NaN   \n",
       "\n",
       "     Loan_Purpose  Monthly_Income Government_Employee  \n",
       "9446        Other         1463.56               False  \n",
       "9447        Other         3657.43                True  \n",
       "9448        Other         3296.86               False  \n",
       "9449        Other         3749.84                True  \n",
       "9450        Other         6065.62               False  \n",
       "9451        Other         2032.04               False  \n",
       "9452        Other         3425.56               False  \n",
       "9453        Other         3172.90               False  \n",
       "9454        Other         1695.99               False  \n",
       "9455        Other          805.41               False  "
      ]
     },
     "execution_count": 801,
     "metadata": {},
     "output_type": "execute_result"
    }
   ],
   "source": [
    "app_data[9446:9456]"
   ]
  },
  {
   "cell_type": "code",
   "execution_count": 802,
   "metadata": {},
   "outputs": [
    {
     "data": {
      "text/html": [
       "<div>\n",
       "<style scoped>\n",
       "    .dataframe tbody tr th:only-of-type {\n",
       "        vertical-align: middle;\n",
       "    }\n",
       "\n",
       "    .dataframe tbody tr th {\n",
       "        vertical-align: top;\n",
       "    }\n",
       "\n",
       "    .dataframe thead th {\n",
       "        text-align: right;\n",
       "    }\n",
       "</style>\n",
       "<table border=\"1\" class=\"dataframe\">\n",
       "  <thead>\n",
       "    <tr style=\"text-align: right;\">\n",
       "      <th></th>\n",
       "      <th>Application_ID</th>\n",
       "      <th>Application_Date</th>\n",
       "      <th>Loan_Approval_Status</th>\n",
       "      <th>Age_at_Application</th>\n",
       "      <th>Marital_Status</th>\n",
       "      <th>Gender</th>\n",
       "      <th>Own_Rent_Home</th>\n",
       "      <th>Occupation_Professional_Category</th>\n",
       "      <th>Type_of_Business_Industry_of_Employment</th>\n",
       "      <th>Employment_Status</th>\n",
       "      <th>Time_at_Current_Employment_(Months)</th>\n",
       "      <th>Time_Employed_with_Previous_Employer_(Months)</th>\n",
       "      <th>Number_of_Dependents</th>\n",
       "      <th>Loan_Purpose</th>\n",
       "      <th>Monthly_Income</th>\n",
       "      <th>Government_Employee</th>\n",
       "    </tr>\n",
       "  </thead>\n",
       "  <tbody>\n",
       "    <tr>\n",
       "      <th>9446</th>\n",
       "      <td>C302109447</td>\n",
       "      <td>2021-03-06</td>\n",
       "      <td>NaN</td>\n",
       "      <td>22.0</td>\n",
       "      <td>NaN</td>\n",
       "      <td>Female</td>\n",
       "      <td>NaN</td>\n",
       "      <td>Elementary Occupation</td>\n",
       "      <td>NaN</td>\n",
       "      <td>Contract</td>\n",
       "      <td>NaN</td>\n",
       "      <td>NaN</td>\n",
       "      <td>NaN</td>\n",
       "      <td>Other</td>\n",
       "      <td>1463.56</td>\n",
       "      <td>False</td>\n",
       "    </tr>\n",
       "    <tr>\n",
       "      <th>9447</th>\n",
       "      <td>C302109448</td>\n",
       "      <td>2018-07-05</td>\n",
       "      <td>Decline</td>\n",
       "      <td>31.0</td>\n",
       "      <td>NaN</td>\n",
       "      <td>Male</td>\n",
       "      <td>NaN</td>\n",
       "      <td>Officer</td>\n",
       "      <td>NaN</td>\n",
       "      <td>Full-Time</td>\n",
       "      <td>115.0</td>\n",
       "      <td>NaN</td>\n",
       "      <td>NaN</td>\n",
       "      <td>Other</td>\n",
       "      <td>3657.43</td>\n",
       "      <td>True</td>\n",
       "    </tr>\n",
       "    <tr>\n",
       "      <th>9448</th>\n",
       "      <td>C302109449</td>\n",
       "      <td>2021-02-21</td>\n",
       "      <td>Customer Cancellation</td>\n",
       "      <td>24.0</td>\n",
       "      <td>NaN</td>\n",
       "      <td>Male</td>\n",
       "      <td>NaN</td>\n",
       "      <td>Officer</td>\n",
       "      <td>NaN</td>\n",
       "      <td>Full-Time</td>\n",
       "      <td>41.0</td>\n",
       "      <td>NaN</td>\n",
       "      <td>NaN</td>\n",
       "      <td>Other</td>\n",
       "      <td>3296.86</td>\n",
       "      <td>False</td>\n",
       "    </tr>\n",
       "    <tr>\n",
       "      <th>9449</th>\n",
       "      <td>C302109450</td>\n",
       "      <td>2018-08-22</td>\n",
       "      <td>Customer Cancellation</td>\n",
       "      <td>37.0</td>\n",
       "      <td>NaN</td>\n",
       "      <td>Female</td>\n",
       "      <td>NaN</td>\n",
       "      <td>Officer</td>\n",
       "      <td>NaN</td>\n",
       "      <td>Full-Time</td>\n",
       "      <td>134.0</td>\n",
       "      <td>NaN</td>\n",
       "      <td>NaN</td>\n",
       "      <td>Other</td>\n",
       "      <td>3749.84</td>\n",
       "      <td>True</td>\n",
       "    </tr>\n",
       "    <tr>\n",
       "      <th>9450</th>\n",
       "      <td>C302109451</td>\n",
       "      <td>2018-09-19</td>\n",
       "      <td>Customer Cancellation</td>\n",
       "      <td>27.0</td>\n",
       "      <td>NaN</td>\n",
       "      <td>Male</td>\n",
       "      <td>NaN</td>\n",
       "      <td>Semi-Professional</td>\n",
       "      <td>NaN</td>\n",
       "      <td>Full-Time</td>\n",
       "      <td>13.0</td>\n",
       "      <td>NaN</td>\n",
       "      <td>NaN</td>\n",
       "      <td>Other</td>\n",
       "      <td>6065.62</td>\n",
       "      <td>False</td>\n",
       "    </tr>\n",
       "    <tr>\n",
       "      <th>9451</th>\n",
       "      <td>C302109452</td>\n",
       "      <td>2021-02-27</td>\n",
       "      <td>NaN</td>\n",
       "      <td>39.0</td>\n",
       "      <td>NaN</td>\n",
       "      <td>Female</td>\n",
       "      <td>NaN</td>\n",
       "      <td>Service and Sales Worker</td>\n",
       "      <td>NaN</td>\n",
       "      <td>Full-Time</td>\n",
       "      <td>48.0</td>\n",
       "      <td>NaN</td>\n",
       "      <td>NaN</td>\n",
       "      <td>Other</td>\n",
       "      <td>2032.04</td>\n",
       "      <td>False</td>\n",
       "    </tr>\n",
       "    <tr>\n",
       "      <th>9452</th>\n",
       "      <td>C302109453</td>\n",
       "      <td>2018-06-17</td>\n",
       "      <td>Customer Cancellation</td>\n",
       "      <td>29.0</td>\n",
       "      <td>NaN</td>\n",
       "      <td>Male</td>\n",
       "      <td>NaN</td>\n",
       "      <td>Service and Sales Worker</td>\n",
       "      <td>NaN</td>\n",
       "      <td>Full-Time</td>\n",
       "      <td>90.0</td>\n",
       "      <td>NaN</td>\n",
       "      <td>NaN</td>\n",
       "      <td>Other</td>\n",
       "      <td>3425.56</td>\n",
       "      <td>False</td>\n",
       "    </tr>\n",
       "    <tr>\n",
       "      <th>9453</th>\n",
       "      <td>C302109454</td>\n",
       "      <td>2018-11-25</td>\n",
       "      <td>Decline</td>\n",
       "      <td>37.0</td>\n",
       "      <td>NaN</td>\n",
       "      <td>Male</td>\n",
       "      <td>NaN</td>\n",
       "      <td>Elementary Occupation</td>\n",
       "      <td>NaN</td>\n",
       "      <td>Contract</td>\n",
       "      <td>146.0</td>\n",
       "      <td>NaN</td>\n",
       "      <td>NaN</td>\n",
       "      <td>Other</td>\n",
       "      <td>3172.90</td>\n",
       "      <td>False</td>\n",
       "    </tr>\n",
       "    <tr>\n",
       "      <th>9454</th>\n",
       "      <td>C302109455</td>\n",
       "      <td>2017-04-22</td>\n",
       "      <td>Customer Cancellation</td>\n",
       "      <td>22.0</td>\n",
       "      <td>NaN</td>\n",
       "      <td>Male</td>\n",
       "      <td>NaN</td>\n",
       "      <td>Elementary Occupation</td>\n",
       "      <td>NaN</td>\n",
       "      <td>Contract</td>\n",
       "      <td>12.0</td>\n",
       "      <td>NaN</td>\n",
       "      <td>NaN</td>\n",
       "      <td>Other</td>\n",
       "      <td>1695.99</td>\n",
       "      <td>False</td>\n",
       "    </tr>\n",
       "    <tr>\n",
       "      <th>9455</th>\n",
       "      <td>C302109456</td>\n",
       "      <td>2021-08-12</td>\n",
       "      <td>NaN</td>\n",
       "      <td>22.0</td>\n",
       "      <td>NaN</td>\n",
       "      <td>Male</td>\n",
       "      <td>NaN</td>\n",
       "      <td>Employee</td>\n",
       "      <td>NaN</td>\n",
       "      <td>Full-Time</td>\n",
       "      <td>31.0</td>\n",
       "      <td>NaN</td>\n",
       "      <td>NaN</td>\n",
       "      <td>Other</td>\n",
       "      <td>805.41</td>\n",
       "      <td>False</td>\n",
       "    </tr>\n",
       "  </tbody>\n",
       "</table>\n",
       "</div>"
      ],
      "text/plain": [
       "     Application_ID Application_Date   Loan_Approval_Status  \\\n",
       "9446     C302109447       2021-03-06                    NaN   \n",
       "9447     C302109448       2018-07-05                Decline   \n",
       "9448     C302109449       2021-02-21  Customer Cancellation   \n",
       "9449     C302109450       2018-08-22  Customer Cancellation   \n",
       "9450     C302109451       2018-09-19  Customer Cancellation   \n",
       "9451     C302109452       2021-02-27                    NaN   \n",
       "9452     C302109453       2018-06-17  Customer Cancellation   \n",
       "9453     C302109454       2018-11-25                Decline   \n",
       "9454     C302109455       2017-04-22  Customer Cancellation   \n",
       "9455     C302109456       2021-08-12                    NaN   \n",
       "\n",
       "      Age_at_Application Marital_Status  Gender Own_Rent_Home  \\\n",
       "9446                22.0            NaN  Female           NaN   \n",
       "9447                31.0            NaN    Male           NaN   \n",
       "9448                24.0            NaN    Male           NaN   \n",
       "9449                37.0            NaN  Female           NaN   \n",
       "9450                27.0            NaN    Male           NaN   \n",
       "9451                39.0            NaN  Female           NaN   \n",
       "9452                29.0            NaN    Male           NaN   \n",
       "9453                37.0            NaN    Male           NaN   \n",
       "9454                22.0            NaN    Male           NaN   \n",
       "9455                22.0            NaN    Male           NaN   \n",
       "\n",
       "     Occupation_Professional_Category Type_of_Business_Industry_of_Employment  \\\n",
       "9446            Elementary Occupation                                     NaN   \n",
       "9447                          Officer                                     NaN   \n",
       "9448                          Officer                                     NaN   \n",
       "9449                          Officer                                     NaN   \n",
       "9450                Semi-Professional                                     NaN   \n",
       "9451         Service and Sales Worker                                     NaN   \n",
       "9452         Service and Sales Worker                                     NaN   \n",
       "9453            Elementary Occupation                                     NaN   \n",
       "9454            Elementary Occupation                                     NaN   \n",
       "9455                         Employee                                     NaN   \n",
       "\n",
       "     Employment_Status  Time_at_Current_Employment_(Months)  \\\n",
       "9446          Contract                                  NaN   \n",
       "9447         Full-Time                                115.0   \n",
       "9448         Full-Time                                 41.0   \n",
       "9449         Full-Time                                134.0   \n",
       "9450         Full-Time                                 13.0   \n",
       "9451         Full-Time                                 48.0   \n",
       "9452         Full-Time                                 90.0   \n",
       "9453          Contract                                146.0   \n",
       "9454          Contract                                 12.0   \n",
       "9455         Full-Time                                 31.0   \n",
       "\n",
       "      Time_Employed_with_Previous_Employer_(Months)  Number_of_Dependents  \\\n",
       "9446                                            NaN                   NaN   \n",
       "9447                                            NaN                   NaN   \n",
       "9448                                            NaN                   NaN   \n",
       "9449                                            NaN                   NaN   \n",
       "9450                                            NaN                   NaN   \n",
       "9451                                            NaN                   NaN   \n",
       "9452                                            NaN                   NaN   \n",
       "9453                                            NaN                   NaN   \n",
       "9454                                            NaN                   NaN   \n",
       "9455                                            NaN                   NaN   \n",
       "\n",
       "     Loan_Purpose  Monthly_Income Government_Employee  \n",
       "9446        Other         1463.56               False  \n",
       "9447        Other         3657.43                True  \n",
       "9448        Other         3296.86               False  \n",
       "9449        Other         3749.84                True  \n",
       "9450        Other         6065.62               False  \n",
       "9451        Other         2032.04               False  \n",
       "9452        Other         3425.56               False  \n",
       "9453        Other         3172.90               False  \n",
       "9454        Other         1695.99               False  \n",
       "9455        Other          805.41               False  "
      ]
     },
     "execution_count": 802,
     "metadata": {},
     "output_type": "execute_result"
    }
   ],
   "source": [
    "\n",
    "\n",
    "# Create function to fix dates\n",
    "def fix_date_format(date_str):\n",
    "    # Check 4th character, if '-' remove it, otherwise return original string\n",
    "    return re.sub(r'^(...)-', r'\\1', date_str)\n",
    "\n",
    "# Apply the function to fix the date column\n",
    "app_data['Application_Date'] = app_data['Application_Date'].apply(fix_date_format)\n",
    "\n",
    "app_data[9446:9456]"
   ]
  },
  {
   "cell_type": "code",
   "execution_count": 803,
   "metadata": {},
   "outputs": [
    {
     "name": "stdout",
     "output_type": "stream",
     "text": [
      "<class 'pandas.core.frame.DataFrame'>\n",
      "RangeIndex: 9492 entries, 0 to 9491\n",
      "Data columns (total 16 columns):\n",
      " #   Column                                         Non-Null Count  Dtype         \n",
      "---  ------                                         --------------  -----         \n",
      " 0   Application_ID                                 9492 non-null   object        \n",
      " 1   Application_Date                               9492 non-null   datetime64[ns]\n",
      " 2   Loan_Approval_Status                           9354 non-null   object        \n",
      " 3   Age_at_Application                             9471 non-null   float64       \n",
      " 4   Marital_Status                                 7712 non-null   object        \n",
      " 5   Gender                                         9488 non-null   object        \n",
      " 6   Own_Rent_Home                                  8188 non-null   object        \n",
      " 7   Occupation_Professional_Category               9361 non-null   object        \n",
      " 8   Type_of_Business_Industry_of_Employment        7210 non-null   object        \n",
      " 9   Employment_Status                              9357 non-null   object        \n",
      " 10  Time_at_Current_Employment_(Months)            9260 non-null   float64       \n",
      " 11  Time_Employed_with_Previous_Employer_(Months)  298 non-null    float64       \n",
      " 12  Number_of_Dependents                           7678 non-null   float64       \n",
      " 13  Loan_Purpose                                   9450 non-null   object        \n",
      " 14  Monthly_Income                                 9492 non-null   float64       \n",
      " 15  Government_Employee                            9311 non-null   object        \n",
      "dtypes: datetime64[ns](1), float64(5), object(10)\n",
      "memory usage: 1.2+ MB\n"
     ]
    }
   ],
   "source": [
    "\n",
    "def change_to_date(df, date_cols):\n",
    "    \n",
    "    # Loop through list to change column dtype to datetime\n",
    "    for col in date_cols:\n",
    "        df[col] = pd.to_datetime(df[col])\n",
    "\n",
    "\n",
    "# list of date_cols \n",
    "app_data_date_cols = ['Application_Date']\n",
    "\n",
    "#Call function\n",
    "change_to_date(app_data, app_data_date_cols)\n",
    "\n",
    "# Confirm     \n",
    "app_data['Application_Date'].dtype\n",
    "app_data.info()"
   ]
  },
  {
   "cell_type": "code",
   "execution_count": 804,
   "metadata": {},
   "outputs": [
    {
     "name": "stdout",
     "output_type": "stream",
     "text": [
      "<class 'pandas.core.frame.DataFrame'>\n",
      "RangeIndex: 9374 entries, 0 to 9373\n",
      "Data columns (total 9 columns):\n",
      " #   Column                      Non-Null Count  Dtype  \n",
      "---  ------                      --------------  -----  \n",
      " 0   Contract_ID                 9374 non-null   object \n",
      " 1   Application_ID              7598 non-null   object \n",
      " 2   Key                         9374 non-null   int64  \n",
      " 3   Loan_Type                   9374 non-null   object \n",
      " 4   Contract_Start_Date         9374 non-null   object \n",
      " 5   Expected_Contract_End_Date  9374 non-null   object \n",
      " 6   Actual_Contract_End_Date    2593 non-null   object \n",
      " 7   Loan_Term                   9374 non-null   object \n",
      " 8   Total_Loan_Amount           9374 non-null   float64\n",
      "dtypes: float64(1), int64(1), object(7)\n",
      "memory usage: 659.2+ KB\n"
     ]
    }
   ],
   "source": [
    "contract_data.info()\n",
    "contract_data_date_cols = [\"Contract_Start_Date\", \"Expected_Contract_End_Date\", \"Actual_Contract_End_Date\"]"
   ]
  },
  {
   "cell_type": "code",
   "execution_count": 805,
   "metadata": {},
   "outputs": [
    {
     "data": {
      "text/html": [
       "<div>\n",
       "<style scoped>\n",
       "    .dataframe tbody tr th:only-of-type {\n",
       "        vertical-align: middle;\n",
       "    }\n",
       "\n",
       "    .dataframe tbody tr th {\n",
       "        vertical-align: top;\n",
       "    }\n",
       "\n",
       "    .dataframe thead th {\n",
       "        text-align: right;\n",
       "    }\n",
       "</style>\n",
       "<table border=\"1\" class=\"dataframe\">\n",
       "  <thead>\n",
       "    <tr style=\"text-align: right;\">\n",
       "      <th></th>\n",
       "      <th>Contract_ID</th>\n",
       "      <th>Application_ID</th>\n",
       "      <th>Key</th>\n",
       "      <th>Loan_Type</th>\n",
       "      <th>Contract_Start_Date</th>\n",
       "      <th>Expected_Contract_End_Date</th>\n",
       "      <th>Actual_Contract_End_Date</th>\n",
       "      <th>Loan_Term</th>\n",
       "      <th>Total_Loan_Amount</th>\n",
       "    </tr>\n",
       "  </thead>\n",
       "  <tbody>\n",
       "    <tr>\n",
       "      <th>5891</th>\n",
       "      <td>CONT105892</td>\n",
       "      <td>C302101952</td>\n",
       "      <td>1</td>\n",
       "      <td>Unsecured Personal Loan</td>\n",
       "      <td>2017-10-02</td>\n",
       "      <td>2020-10-02</td>\n",
       "      <td>202-1-08-31</td>\n",
       "      <td>36 - Month(s)</td>\n",
       "      <td>8440.80</td>\n",
       "    </tr>\n",
       "    <tr>\n",
       "      <th>8608</th>\n",
       "      <td>CONT108609</td>\n",
       "      <td>NaN</td>\n",
       "      <td>3</td>\n",
       "      <td>Unsecured Personal Loan</td>\n",
       "      <td>2018-12-18</td>\n",
       "      <td>2020-12-31</td>\n",
       "      <td>202-1-08-31</td>\n",
       "      <td>24 - Month(s)</td>\n",
       "      <td>2813.60</td>\n",
       "    </tr>\n",
       "    <tr>\n",
       "      <th>8609</th>\n",
       "      <td>CONT108610</td>\n",
       "      <td>NaN</td>\n",
       "      <td>2</td>\n",
       "      <td>Unsecured Personal Loan</td>\n",
       "      <td>202-1-03-19</td>\n",
       "      <td>2020-03-31</td>\n",
       "      <td>202-1-08-31</td>\n",
       "      <td>12 - Month(s)</td>\n",
       "      <td>1172.33</td>\n",
       "    </tr>\n",
       "  </tbody>\n",
       "</table>\n",
       "</div>"
      ],
      "text/plain": [
       "     Contract_ID Application_ID  Key                Loan_Type  \\\n",
       "5891  CONT105892     C302101952    1  Unsecured Personal Loan   \n",
       "8608  CONT108609            NaN    3  Unsecured Personal Loan   \n",
       "8609  CONT108610            NaN    2  Unsecured Personal Loan   \n",
       "\n",
       "     Contract_Start_Date Expected_Contract_End_Date Actual_Contract_End_Date  \\\n",
       "5891          2017-10-02                 2020-10-02              202-1-08-31   \n",
       "8608          2018-12-18                 2020-12-31              202-1-08-31   \n",
       "8609         202-1-03-19                 2020-03-31              202-1-08-31   \n",
       "\n",
       "          Loan_Term  Total_Loan_Amount  \n",
       "5891  36 - Month(s)            8440.80  \n",
       "8608  24 - Month(s)            2813.60  \n",
       "8609  12 - Month(s)            1172.33  "
      ]
     },
     "execution_count": 805,
     "metadata": {},
     "output_type": "execute_result"
    }
   ],
   "source": [
    "# contract_data[contract_data['Contract_Start_Date']== \"202-1-08-31\"]\n",
    "contract_data[contract_data['Actual_Contract_End_Date']== \"202-1-08-31\"]\n",
    "# contract_data[5890:5892]"
   ]
  },
  {
   "cell_type": "code",
   "execution_count": null,
   "metadata": {},
   "outputs": [
    {
     "data": {
      "text/html": [
       "<div>\n",
       "<style scoped>\n",
       "    .dataframe tbody tr th:only-of-type {\n",
       "        vertical-align: middle;\n",
       "    }\n",
       "\n",
       "    .dataframe tbody tr th {\n",
       "        vertical-align: top;\n",
       "    }\n",
       "\n",
       "    .dataframe thead th {\n",
       "        text-align: right;\n",
       "    }\n",
       "</style>\n",
       "<table border=\"1\" class=\"dataframe\">\n",
       "  <thead>\n",
       "    <tr style=\"text-align: right;\">\n",
       "      <th></th>\n",
       "      <th>Contract_ID</th>\n",
       "      <th>Application_ID</th>\n",
       "      <th>Key</th>\n",
       "      <th>Loan_Type</th>\n",
       "      <th>Contract_Start_Date</th>\n",
       "      <th>Expected_Contract_End_Date</th>\n",
       "      <th>Actual_Contract_End_Date</th>\n",
       "      <th>Loan_Term</th>\n",
       "      <th>Total_Loan_Amount</th>\n",
       "    </tr>\n",
       "  </thead>\n",
       "  <tbody>\n",
       "    <tr>\n",
       "      <th>5891</th>\n",
       "      <td>CONT105892</td>\n",
       "      <td>C302101952</td>\n",
       "      <td>1</td>\n",
       "      <td>Unsecured Personal Loan</td>\n",
       "      <td>2017-10-02</td>\n",
       "      <td>2020-10-02</td>\n",
       "      <td>202-1-08-31</td>\n",
       "      <td>36 - Month(s)</td>\n",
       "      <td>8440.8</td>\n",
       "    </tr>\n",
       "  </tbody>\n",
       "</table>\n",
       "</div>"
      ],
      "text/plain": [
       "     Contract_ID Application_ID  Key                Loan_Type  \\\n",
       "5891  CONT105892     C302101952    1  Unsecured Personal Loan   \n",
       "\n",
       "     Contract_Start_Date Expected_Contract_End_Date Actual_Contract_End_Date  \\\n",
       "5891          2017-10-02                 2020-10-02              202-1-08-31   \n",
       "\n",
       "          Loan_Term  Total_Loan_Amount  \n",
       "5891  36 - Month(s)             8440.8  "
      ]
     },
     "execution_count": 806,
     "metadata": {},
     "output_type": "execute_result"
    }
   ],
   "source": [
    "# list of date_cols \n",
    "contract_data_date_cols = [\"Contract_Start_Date\", \"Expected_Contract_End_Date\", \"Actual_Contract_End_Date\"]\n",
    "\n",
    "contract_data[\"Contract_Start_Date\"] = contract_data[\"Contract_Start_Date\"].apply(fix_date_format)\n",
    "contract_data[\"Expected_Contract_End_Date\"] = contract_data[\"Expected_Contract_End_Date\"].apply(fix_date_format)\n",
    "# contract_data[\"Actual_Contract_End_Date\"] = contract_data[\"Actual_Contract_End_Date\"].apply(fix_date_format)\n",
    "\n",
    "# Apply the function to fix the date column\n",
    "# for col in contract_data_date_cols:\n",
    "#     contract_data[col] = contract_data[col].apply(fix_date_format)\n",
    "\n",
    "contract_data[5891:5892]\n",
    "# #Call function\n",
    "# change_to_date(contract_data, contract_data_date_cols)\n",
    "\n",
    "# # Confirm     \n",
    "# # app_data['Application_Date'].dtype\n",
    "# contract_data.info()"
   ]
  },
  {
   "cell_type": "code",
   "execution_count": 811,
   "metadata": {},
   "outputs": [
    {
     "data": {
      "text/plain": [
       "Contract_ID                     0\n",
       "Snapshot Date                   0\n",
       "Outstanding Amount              0\n",
       "Due Amount                      0\n",
       "Number of Days Past Due    195213\n",
       "Contract Status                 0\n",
       "latest_snapshot                 0\n",
       "dtype: int64"
      ]
     },
     "execution_count": 811,
     "metadata": {},
     "output_type": "execute_result"
    }
   ],
   "source": [
    "ContractsSnapshot_data.isnull().sum()#['Snapshot Date'].isnull().sum()"
   ]
  },
  {
   "cell_type": "code",
   "execution_count": null,
   "metadata": {},
   "outputs": [
    {
     "data": {
      "text/plain": [
       "0          2018-12-31\n",
       "1          2007-09-30\n",
       "2          2007-09-30\n",
       "3          2007-09-30\n",
       "4          2007-09-30\n",
       "             ...     \n",
       "274366    202-1-08-31\n",
       "274367    202-1-08-31\n",
       "274368    202-1-08-31\n",
       "274369    202-1-08-31\n",
       "274370    202-1-08-31\n",
       "Name: Snapshot Date, Length: 274371, dtype: object"
      ]
     },
     "execution_count": 815,
     "metadata": {},
     "output_type": "execute_result"
    }
   ],
   "source": [
    "# # Get max snapshot date per contract\n",
    "# latest_snapshot = ContractsSnapshot_data.groupby(\"Contract_ID\")[\"Snapshot Date\"].transform('max')\n",
    "# latest_snapshot\n",
    "\n",
    "# # Fill missing Actual_End_Date with the latest snapshot date per Contract_ID\n",
    "# df['Actual_End_Date'] = df['Actual_End_Date'].fillna(latest_snapshot)"
   ]
  },
  {
   "cell_type": "code",
   "execution_count": null,
   "metadata": {},
   "outputs": [
    {
     "data": {
      "text/plain": [
       "0"
      ]
     },
     "execution_count": 818,
     "metadata": {},
     "output_type": "execute_result"
    }
   ],
   "source": [
    "# Merge data\n",
    "merged_contract_data = contract_data.merge(ContractsSnapshot_data, on=\"Contract_ID\")\n",
    "# merged_contract_data.head(2)\n",
    "\n",
    "# Get max snapshot date per contract\n",
    "latest_snapshot = ContractsSnapshot_data.groupby(\"Contract_ID\")[\"Snapshot Date\"].transform('max')\n",
    "latest_snapshot\n",
    "\n",
    "# Fill missing Actual_End_Date with the latest snapshot date per Contract_ID\n",
    "merged_contract_data['Actual_Contract_End_Date'].fillna(latest_snapshot, inplace=True)\n",
    "\n",
    "# Confirm\n",
    "merged_contract_data[\"Actual_Contract_End_Date\"].isnull().sum()"
   ]
  },
  {
   "cell_type": "code",
   "execution_count": 820,
   "metadata": {},
   "outputs": [],
   "source": [
    "merged_contract_data[\"Actual_Contract_End_Date\"] = merged_contract_data[\"Actual_Contract_End_Date\"].apply(fix_date_format)"
   ]
  },
  {
   "cell_type": "code",
   "execution_count": 821,
   "metadata": {},
   "outputs": [
    {
     "name": "stdout",
     "output_type": "stream",
     "text": [
      "<class 'pandas.core.frame.DataFrame'>\n",
      "Int64Index: 152869 entries, 0 to 152868\n",
      "Data columns (total 15 columns):\n",
      " #   Column                      Non-Null Count   Dtype  \n",
      "---  ------                      --------------   -----  \n",
      " 0   Contract_ID                 152869 non-null  object \n",
      " 1   Application_ID              121952 non-null  object \n",
      " 2   Key                         152869 non-null  int64  \n",
      " 3   Loan_Type                   152869 non-null  object \n",
      " 4   Contract_Start_Date         152869 non-null  object \n",
      " 5   Expected_Contract_End_Date  152869 non-null  object \n",
      " 6   Actual_Contract_End_Date    152869 non-null  object \n",
      " 7   Loan_Term                   152869 non-null  object \n",
      " 8   Total_Loan_Amount           152869 non-null  float64\n",
      " 9   Snapshot Date               152869 non-null  object \n",
      " 10  Outstanding Amount          152869 non-null  float64\n",
      " 11  Due Amount                  152869 non-null  float64\n",
      " 12  Number of Days Past Due     28246 non-null   float64\n",
      " 13  Contract Status             152869 non-null  object \n",
      " 14  latest_snapshot             152869 non-null  object \n",
      "dtypes: float64(4), int64(1), object(10)\n",
      "memory usage: 18.7+ MB\n"
     ]
    }
   ],
   "source": [
    "merged_contract_data.info()"
   ]
  },
  {
   "cell_type": "code",
   "execution_count": 823,
   "metadata": {},
   "outputs": [
    {
     "data": {
      "text/html": [
       "<div>\n",
       "<style scoped>\n",
       "    .dataframe tbody tr th:only-of-type {\n",
       "        vertical-align: middle;\n",
       "    }\n",
       "\n",
       "    .dataframe tbody tr th {\n",
       "        vertical-align: top;\n",
       "    }\n",
       "\n",
       "    .dataframe thead th {\n",
       "        text-align: right;\n",
       "    }\n",
       "</style>\n",
       "<table border=\"1\" class=\"dataframe\">\n",
       "  <thead>\n",
       "    <tr style=\"text-align: right;\">\n",
       "      <th></th>\n",
       "      <th>Contract_ID</th>\n",
       "      <th>Snapshot Date</th>\n",
       "      <th>Outstanding Amount</th>\n",
       "      <th>Due Amount</th>\n",
       "      <th>Number of Days Past Due</th>\n",
       "      <th>Contract Status</th>\n",
       "      <th>latest_snapshot</th>\n",
       "    </tr>\n",
       "  </thead>\n",
       "  <tbody>\n",
       "    <tr>\n",
       "      <th>0</th>\n",
       "      <td>CONT109375</td>\n",
       "      <td>2018-12-31</td>\n",
       "      <td>0.00</td>\n",
       "      <td>0.0</td>\n",
       "      <td>NaN</td>\n",
       "      <td>Closed</td>\n",
       "      <td>202-1-08-31</td>\n",
       "    </tr>\n",
       "    <tr>\n",
       "      <th>1</th>\n",
       "      <td>CONT109376</td>\n",
       "      <td>2006-08-31</td>\n",
       "      <td>215.08</td>\n",
       "      <td>0.0</td>\n",
       "      <td>NaN</td>\n",
       "      <td>Active</td>\n",
       "      <td>202-1-08-31</td>\n",
       "    </tr>\n",
       "    <tr>\n",
       "      <th>2</th>\n",
       "      <td>CONT109376</td>\n",
       "      <td>2006-09-30</td>\n",
       "      <td>215.08</td>\n",
       "      <td>0.0</td>\n",
       "      <td>NaN</td>\n",
       "      <td>Active</td>\n",
       "      <td>202-1-08-31</td>\n",
       "    </tr>\n",
       "    <tr>\n",
       "      <th>3</th>\n",
       "      <td>CONT109376</td>\n",
       "      <td>2006-10-31</td>\n",
       "      <td>215.08</td>\n",
       "      <td>0.0</td>\n",
       "      <td>NaN</td>\n",
       "      <td>Active</td>\n",
       "      <td>202-1-08-31</td>\n",
       "    </tr>\n",
       "    <tr>\n",
       "      <th>4</th>\n",
       "      <td>CONT109376</td>\n",
       "      <td>2006-11-30</td>\n",
       "      <td>215.08</td>\n",
       "      <td>0.0</td>\n",
       "      <td>NaN</td>\n",
       "      <td>Active</td>\n",
       "      <td>202-1-08-31</td>\n",
       "    </tr>\n",
       "    <tr>\n",
       "      <th>...</th>\n",
       "      <td>...</td>\n",
       "      <td>...</td>\n",
       "      <td>...</td>\n",
       "      <td>...</td>\n",
       "      <td>...</td>\n",
       "      <td>...</td>\n",
       "      <td>...</td>\n",
       "    </tr>\n",
       "    <tr>\n",
       "      <th>274366</th>\n",
       "      <td>CONT116311</td>\n",
       "      <td>202-1-08-31</td>\n",
       "      <td>117233.29</td>\n",
       "      <td>0.0</td>\n",
       "      <td>NaN</td>\n",
       "      <td>Active</td>\n",
       "      <td>202-1-08-31</td>\n",
       "    </tr>\n",
       "    <tr>\n",
       "      <th>274367</th>\n",
       "      <td>CONT116312</td>\n",
       "      <td>202-1-08-31</td>\n",
       "      <td>43789.21</td>\n",
       "      <td>0.0</td>\n",
       "      <td>NaN</td>\n",
       "      <td>Active</td>\n",
       "      <td>202-1-08-31</td>\n",
       "    </tr>\n",
       "    <tr>\n",
       "      <th>274368</th>\n",
       "      <td>CONT116313</td>\n",
       "      <td>202-1-08-31</td>\n",
       "      <td>160023.45</td>\n",
       "      <td>0.0</td>\n",
       "      <td>NaN</td>\n",
       "      <td>Active</td>\n",
       "      <td>202-1-08-31</td>\n",
       "    </tr>\n",
       "    <tr>\n",
       "      <th>274369</th>\n",
       "      <td>CONT116314</td>\n",
       "      <td>202-1-08-31</td>\n",
       "      <td>140679.95</td>\n",
       "      <td>0.0</td>\n",
       "      <td>NaN</td>\n",
       "      <td>Active</td>\n",
       "      <td>202-1-08-31</td>\n",
       "    </tr>\n",
       "    <tr>\n",
       "      <th>274370</th>\n",
       "      <td>CONT116315</td>\n",
       "      <td>202-1-08-31</td>\n",
       "      <td>70339.98</td>\n",
       "      <td>0.0</td>\n",
       "      <td>NaN</td>\n",
       "      <td>Active</td>\n",
       "      <td>202-1-08-31</td>\n",
       "    </tr>\n",
       "  </tbody>\n",
       "</table>\n",
       "<p>195213 rows × 7 columns</p>\n",
       "</div>"
      ],
      "text/plain": [
       "       Contract_ID Snapshot Date  Outstanding Amount  Due Amount  \\\n",
       "0       CONT109375    2018-12-31                0.00         0.0   \n",
       "1       CONT109376    2006-08-31              215.08         0.0   \n",
       "2       CONT109376    2006-09-30              215.08         0.0   \n",
       "3       CONT109376    2006-10-31              215.08         0.0   \n",
       "4       CONT109376    2006-11-30              215.08         0.0   \n",
       "...            ...           ...                 ...         ...   \n",
       "274366  CONT116311   202-1-08-31           117233.29         0.0   \n",
       "274367  CONT116312   202-1-08-31            43789.21         0.0   \n",
       "274368  CONT116313   202-1-08-31           160023.45         0.0   \n",
       "274369  CONT116314   202-1-08-31           140679.95         0.0   \n",
       "274370  CONT116315   202-1-08-31            70339.98         0.0   \n",
       "\n",
       "        Number of Days Past Due Contract Status latest_snapshot  \n",
       "0                           NaN          Closed     202-1-08-31  \n",
       "1                           NaN          Active     202-1-08-31  \n",
       "2                           NaN          Active     202-1-08-31  \n",
       "3                           NaN          Active     202-1-08-31  \n",
       "4                           NaN          Active     202-1-08-31  \n",
       "...                         ...             ...             ...  \n",
       "274366                      NaN          Active     202-1-08-31  \n",
       "274367                      NaN          Active     202-1-08-31  \n",
       "274368                      NaN          Active     202-1-08-31  \n",
       "274369                      NaN          Active     202-1-08-31  \n",
       "274370                      NaN          Active     202-1-08-31  \n",
       "\n",
       "[195213 rows x 7 columns]"
      ]
     },
     "execution_count": 823,
     "metadata": {},
     "output_type": "execute_result"
    }
   ],
   "source": [
    "ContractsSnapshot_data[ContractsSnapshot_data['Number of Days Past Due'].isnull()]"
   ]
  },
  {
   "cell_type": "code",
   "execution_count": null,
   "metadata": {},
   "outputs": [],
   "source": [
    "\n",
    "# merged_contract_data[[\"Contract_ID\", \"Expected_Contract_End_Date\", \n",
    "#                       \"Actual_Contract_End_Date\", \"Snapshot Date\" ]]\n",
    "# merged_contract_data[\"Contract_ID\"].duplicated().sum()\n",
    "# pd.to_datetime(merged_contract_data['Actual_Contract_End_Date'])#.datetime()"
   ]
  },
  {
   "cell_type": "markdown",
   "metadata": {},
   "source": [
    "Most values noticed that have null past due days have a balance of 0. so we fill in with $0$."
   ]
  },
  {
   "cell_type": "code",
   "execution_count": 825,
   "metadata": {},
   "outputs": [
    {
     "data": {
      "text/plain": [
       "Contract_ID                       0\n",
       "Application_ID                30917\n",
       "Key                               0\n",
       "Loan_Type                         0\n",
       "Contract_Start_Date               0\n",
       "Expected_Contract_End_Date        0\n",
       "Actual_Contract_End_Date          0\n",
       "Loan_Term                         0\n",
       "Total_Loan_Amount                 0\n",
       "Snapshot Date                     0\n",
       "Outstanding Amount                0\n",
       "Due Amount                        0\n",
       "Number of Days Past Due           0\n",
       "Contract Status                   0\n",
       "latest_snapshot                   0\n",
       "dtype: int64"
      ]
     },
     "execution_count": 825,
     "metadata": {},
     "output_type": "execute_result"
    }
   ],
   "source": [
    "merged_contract_data['Number of Days Past Due'].fillna(0, inplace=True)\n",
    "merged_contract_data.isnull().sum()"
   ]
  },
  {
   "cell_type": "code",
   "execution_count": null,
   "metadata": {},
   "outputs": [],
   "source": []
  },
  {
   "cell_type": "code",
   "execution_count": null,
   "metadata": {},
   "outputs": [],
   "source": []
  },
  {
   "cell_type": "code",
   "execution_count": null,
   "metadata": {},
   "outputs": [],
   "source": []
  },
  {
   "cell_type": "code",
   "execution_count": null,
   "metadata": {},
   "outputs": [],
   "source": []
  },
  {
   "cell_type": "code",
   "execution_count": null,
   "metadata": {},
   "outputs": [],
   "source": []
  },
  {
   "cell_type": "markdown",
   "metadata": {},
   "source": [
    "## Selecting relevant columns/ dropping irrelevant columns\n",
    "The relevant columns for loan default prediction include:\n",
    "\n",
    "Relevant Columns:\n",
    "* ApplicationData.csv: Loan_Approval_Status, Monthly_Income, Number_of_Dependents, Time_at_Current_Employment_(Months), Employment_Status\n",
    "* ContractsData.csv: Loan_Type, Loan_Term, Total_Loan_Amount\n",
    "* ContractsSnapshotData.csv: Outstanding Amount, Number of Days Past Due, Contract Status\n",
    "* CRB Data.csv: CRB Score, CRB Grade\n",
    "* Current and Savings Account Data.csv: Average Balance, Overdraft Limit, Sum of Monthly Credit Transactions, Number of Bounced Cheques\n"
   ]
  },
  {
   "cell_type": "code",
   "execution_count": 494,
   "metadata": {},
   "outputs": [],
   "source": [
    "# Select Relevant columns\n",
    "new_app_data= app_data[[\"Application_ID\", \"Loan_Approval_Status\", \"Monthly_Income\", \n",
    "                        \"Number_of_Dependents\", \"Time_at_Current_Employment_(Months)\", \n",
    "                        \"Employment_Status\", \"Government_Employee\"]]\n",
    "\n",
    "new_contract_data = contract_data[[\"Contract_ID\", \"Application_ID\", \n",
    "                                   \"Contract_Start_Date\", \n",
    "                                   \"Expected_Contract_End_Date\", \"Loan_Type\", \n",
    "                                   \"Loan_Term\", \"Total_Loan_Amount\"]]\n",
    "\n",
    "new_ContractsSnapshot_data = ContractsSnapshot_data[[\"Contract_ID\", \n",
    "                                                     \"Outstanding Amount\", \"Due Amount\",\n",
    "                                                     \"Number of Days Past Due\", \n",
    "                                                     \"Contract Status\"]]\n",
    "\n",
    "new_crb_data = crb_data[[\"Application_ID\", \"CRB Score\", \"CRB Grade\"]]\n",
    "\n",
    "new_curr_savings_data = curr_savings_data[[\"Application ID\", \"Average Balance\", \n",
    "                                           \"Overdraft Limit\", \n",
    "                                           \"Number of Days in Debit during Month\",\n",
    "                                           \"Number of Days in Credit during Month\",\n",
    "                                           \"Sum of Monthly Debit Transactions\",\n",
    "                                           \"Sum of Monthly Credit Transactions\",\n",
    "                                           \"Sum of Bounced Cheque transactions\", \n",
    "                                           \"Number of Bounced Cheques\",\n",
    "                                           \"Sum of Over the Counter Withdrawals\",\n",
    "                                           \"Account Type\"]]"
   ]
  },
  {
   "cell_type": "markdown",
   "metadata": {},
   "source": [
    "## Check duplicates"
   ]
  },
  {
   "cell_type": "code",
   "execution_count": 495,
   "metadata": {},
   "outputs": [
    {
     "data": {
      "text/plain": [
       "0"
      ]
     },
     "execution_count": 495,
     "metadata": {},
     "output_type": "execute_result"
    }
   ],
   "source": [
    "# check duplicates on the datasets\n",
    "# app_data.duplicated().sum()\n",
    "new_app_data.duplicated().sum()"
   ]
  },
  {
   "cell_type": "code",
   "execution_count": 496,
   "metadata": {},
   "outputs": [
    {
     "data": {
      "text/plain": [
       "0"
      ]
     },
     "execution_count": 496,
     "metadata": {},
     "output_type": "execute_result"
    }
   ],
   "source": [
    "# contract_data.duplicated().sum()\n",
    "new_contract_data.duplicated().sum()"
   ]
  },
  {
   "cell_type": "code",
   "execution_count": 497,
   "metadata": {},
   "outputs": [
    {
     "data": {
      "text/plain": [
       "15724"
      ]
     },
     "execution_count": 497,
     "metadata": {},
     "output_type": "execute_result"
    }
   ],
   "source": [
    "ContractsSnapshot_data.duplicated().sum() # 84\n",
    "new_ContractsSnapshot_data.duplicated().sum() # 15724 ??"
   ]
  },
  {
   "cell_type": "code",
   "execution_count": 498,
   "metadata": {},
   "outputs": [
    {
     "data": {
      "text/plain": [
       "75"
      ]
     },
     "execution_count": 498,
     "metadata": {},
     "output_type": "execute_result"
    }
   ],
   "source": [
    "crb_data.duplicated().sum() # 0\n",
    "new_crb_data.duplicated().sum() # 75??"
   ]
  },
  {
   "cell_type": "code",
   "execution_count": 499,
   "metadata": {},
   "outputs": [
    {
     "data": {
      "text/plain": [
       "194048"
      ]
     },
     "execution_count": 499,
     "metadata": {},
     "output_type": "execute_result"
    }
   ],
   "source": [
    "# curr_savings_data.duplicated().sum() # 0\n",
    "new_curr_savings_data.duplicated().sum() # 194,048??"
   ]
  },
  {
   "cell_type": "code",
   "execution_count": 500,
   "metadata": {},
   "outputs": [],
   "source": [
    "# curr_savings_data.info()"
   ]
  },
  {
   "cell_type": "markdown",
   "metadata": {},
   "source": [
    "## Handling missing Values"
   ]
  },
  {
   "cell_type": "code",
   "execution_count": 501,
   "metadata": {},
   "outputs": [
    {
     "data": {
      "text/plain": [
       "Application_ID                                      0\n",
       "Application_Date                                    0\n",
       "Loan_Approval_Status                              138\n",
       "Age_at_Application                                 21\n",
       "Marital_Status                                   1780\n",
       "Gender                                              4\n",
       "Own_Rent_Home                                    1304\n",
       "Occupation_Professional_Category                  131\n",
       "Type_of_Business_Industry_of_Employment          2282\n",
       "Employment_Status                                 135\n",
       "Time_at_Current_Employment_(Months)               232\n",
       "Time_Employed_with_Previous_Employer_(Months)    9194\n",
       "Number_of_Dependents                             1814\n",
       "Loan_Purpose                                       42\n",
       "Monthly_Income                                      0\n",
       "Government_Employee                               181\n",
       "dtype: int64"
      ]
     },
     "execution_count": 501,
     "metadata": {},
     "output_type": "execute_result"
    }
   ],
   "source": [
    "app_data.isnull().sum()"
   ]
  },
  {
   "cell_type": "markdown",
   "metadata": {},
   "source": [
    "### Drop columns with more than 50% missing values"
   ]
  },
  {
   "cell_type": "code",
   "execution_count": 502,
   "metadata": {},
   "outputs": [],
   "source": [
    "def calc_missing_values_percentage(df):\n",
    "    \n",
    "    # Calculate % of missing values\n",
    "    missing_percentage = df.isnull().sum() * 100 / len(df)\n",
    "    \n",
    "    # Filter only columns with  50% missing values\n",
    "    missing_percentage = missing_percentage[missing_percentage > 50] \n",
    "    \n",
    "    # Sort in descending order\n",
    "    missing_percentage = missing_percentage.sort_values(ascending=False)  \n",
    "\n",
    "    return pd.DataFrame({'Column': missing_percentage.index, 'Missing_Percentage': missing_percentage.values})\n"
   ]
  },
  {
   "cell_type": "code",
   "execution_count": 503,
   "metadata": {},
   "outputs": [
    {
     "name": "stdout",
     "output_type": "stream",
     "text": [
      "                                          Column  Missing_Percentage\n",
      "0  Time_Employed_with_Previous_Employer_(Months)           96.860514\n"
     ]
    }
   ],
   "source": [
    "# Get missing values\n",
    "missing_app_data_values = calc_missing_values_percentage(app_data)\n",
    "print(missing_app_data_values)"
   ]
  },
  {
   "cell_type": "code",
   "execution_count": 504,
   "metadata": {},
   "outputs": [],
   "source": [
    "# Drop the column\n",
    "app_data.drop(columns='Time_Employed_with_Previous_Employer_(Months)', inplace=True)"
   ]
  },
  {
   "cell_type": "code",
   "execution_count": 505,
   "metadata": {},
   "outputs": [
    {
     "data": {
      "text/html": [
       "<div>\n",
       "<style scoped>\n",
       "    .dataframe tbody tr th:only-of-type {\n",
       "        vertical-align: middle;\n",
       "    }\n",
       "\n",
       "    .dataframe tbody tr th {\n",
       "        vertical-align: top;\n",
       "    }\n",
       "\n",
       "    .dataframe thead th {\n",
       "        text-align: right;\n",
       "    }\n",
       "</style>\n",
       "<table border=\"1\" class=\"dataframe\">\n",
       "  <thead>\n",
       "    <tr style=\"text-align: right;\">\n",
       "      <th></th>\n",
       "      <th>Application_ID</th>\n",
       "      <th>Application_Date</th>\n",
       "      <th>Loan_Approval_Status</th>\n",
       "      <th>Age_at_Application</th>\n",
       "      <th>Marital_Status</th>\n",
       "      <th>Gender</th>\n",
       "      <th>Own_Rent_Home</th>\n",
       "      <th>Occupation_Professional_Category</th>\n",
       "      <th>Type_of_Business_Industry_of_Employment</th>\n",
       "      <th>Employment_Status</th>\n",
       "      <th>Time_at_Current_Employment_(Months)</th>\n",
       "      <th>Number_of_Dependents</th>\n",
       "      <th>Loan_Purpose</th>\n",
       "      <th>Monthly_Income</th>\n",
       "      <th>Government_Employee</th>\n",
       "    </tr>\n",
       "  </thead>\n",
       "  <tbody>\n",
       "    <tr>\n",
       "      <th>135</th>\n",
       "      <td>C302100136</td>\n",
       "      <td>2018-07-03</td>\n",
       "      <td>NaN</td>\n",
       "      <td>43.0</td>\n",
       "      <td>Married</td>\n",
       "      <td>Female</td>\n",
       "      <td>Family</td>\n",
       "      <td>NaN</td>\n",
       "      <td>Civil Service</td>\n",
       "      <td>Full-Time</td>\n",
       "      <td>108.0</td>\n",
       "      <td>1.0</td>\n",
       "      <td>Debt Consolidation</td>\n",
       "      <td>0.02</td>\n",
       "      <td>False</td>\n",
       "    </tr>\n",
       "    <tr>\n",
       "      <th>144</th>\n",
       "      <td>C302100145</td>\n",
       "      <td>2018-09-06</td>\n",
       "      <td>NaN</td>\n",
       "      <td>47.0</td>\n",
       "      <td>NaN</td>\n",
       "      <td>Male</td>\n",
       "      <td>NaN</td>\n",
       "      <td>NaN</td>\n",
       "      <td>NaN</td>\n",
       "      <td>Full-Time</td>\n",
       "      <td>NaN</td>\n",
       "      <td>NaN</td>\n",
       "      <td>Debt Consolidation</td>\n",
       "      <td>1634.23</td>\n",
       "      <td>False</td>\n",
       "    </tr>\n",
       "    <tr>\n",
       "      <th>7472</th>\n",
       "      <td>C302107473</td>\n",
       "      <td>202-1-04-16</td>\n",
       "      <td>NaN</td>\n",
       "      <td>34.0</td>\n",
       "      <td>Unmarried</td>\n",
       "      <td>Male</td>\n",
       "      <td>Family</td>\n",
       "      <td>Professional</td>\n",
       "      <td>Civil Service</td>\n",
       "      <td>Full-Time</td>\n",
       "      <td>165.0</td>\n",
       "      <td>0.0</td>\n",
       "      <td>Debt Consolidation</td>\n",
       "      <td>9416.45</td>\n",
       "      <td>True</td>\n",
       "    </tr>\n",
       "    <tr>\n",
       "      <th>7482</th>\n",
       "      <td>C302107483</td>\n",
       "      <td>2017-11-23</td>\n",
       "      <td>NaN</td>\n",
       "      <td>28.0</td>\n",
       "      <td>Unmarried</td>\n",
       "      <td>Female</td>\n",
       "      <td>Family</td>\n",
       "      <td>Service and Sales Worker</td>\n",
       "      <td>Business Process Outsourcing</td>\n",
       "      <td>Full-Time</td>\n",
       "      <td>25.0</td>\n",
       "      <td>1.0</td>\n",
       "      <td>Other</td>\n",
       "      <td>1195.58</td>\n",
       "      <td>False</td>\n",
       "    </tr>\n",
       "    <tr>\n",
       "      <th>7517</th>\n",
       "      <td>C302107518</td>\n",
       "      <td>2018-05-24</td>\n",
       "      <td>NaN</td>\n",
       "      <td>32.0</td>\n",
       "      <td>Unmarried</td>\n",
       "      <td>Male</td>\n",
       "      <td>Rent</td>\n",
       "      <td>Professional</td>\n",
       "      <td>Transportation &amp; Communication</td>\n",
       "      <td>Full-Time</td>\n",
       "      <td>108.0</td>\n",
       "      <td>1.0</td>\n",
       "      <td>Debt Consolidation</td>\n",
       "      <td>4277.54</td>\n",
       "      <td>False</td>\n",
       "    </tr>\n",
       "    <tr>\n",
       "      <th>...</th>\n",
       "      <td>...</td>\n",
       "      <td>...</td>\n",
       "      <td>...</td>\n",
       "      <td>...</td>\n",
       "      <td>...</td>\n",
       "      <td>...</td>\n",
       "      <td>...</td>\n",
       "      <td>...</td>\n",
       "      <td>...</td>\n",
       "      <td>...</td>\n",
       "      <td>...</td>\n",
       "      <td>...</td>\n",
       "      <td>...</td>\n",
       "      <td>...</td>\n",
       "      <td>...</td>\n",
       "    </tr>\n",
       "    <tr>\n",
       "      <th>9446</th>\n",
       "      <td>C302109447</td>\n",
       "      <td>202-1-03-06</td>\n",
       "      <td>NaN</td>\n",
       "      <td>22.0</td>\n",
       "      <td>NaN</td>\n",
       "      <td>Female</td>\n",
       "      <td>NaN</td>\n",
       "      <td>Elementary Occupation</td>\n",
       "      <td>NaN</td>\n",
       "      <td>Contract</td>\n",
       "      <td>NaN</td>\n",
       "      <td>NaN</td>\n",
       "      <td>Other</td>\n",
       "      <td>1463.56</td>\n",
       "      <td>False</td>\n",
       "    </tr>\n",
       "    <tr>\n",
       "      <th>9451</th>\n",
       "      <td>C302109452</td>\n",
       "      <td>202-1-02-27</td>\n",
       "      <td>NaN</td>\n",
       "      <td>39.0</td>\n",
       "      <td>NaN</td>\n",
       "      <td>Female</td>\n",
       "      <td>NaN</td>\n",
       "      <td>Service and Sales Worker</td>\n",
       "      <td>NaN</td>\n",
       "      <td>Full-Time</td>\n",
       "      <td>48.0</td>\n",
       "      <td>NaN</td>\n",
       "      <td>Other</td>\n",
       "      <td>2032.04</td>\n",
       "      <td>False</td>\n",
       "    </tr>\n",
       "    <tr>\n",
       "      <th>9455</th>\n",
       "      <td>C302109456</td>\n",
       "      <td>202-1-08-12</td>\n",
       "      <td>NaN</td>\n",
       "      <td>22.0</td>\n",
       "      <td>NaN</td>\n",
       "      <td>Male</td>\n",
       "      <td>NaN</td>\n",
       "      <td>Employee</td>\n",
       "      <td>NaN</td>\n",
       "      <td>Full-Time</td>\n",
       "      <td>31.0</td>\n",
       "      <td>NaN</td>\n",
       "      <td>Other</td>\n",
       "      <td>805.41</td>\n",
       "      <td>False</td>\n",
       "    </tr>\n",
       "    <tr>\n",
       "      <th>9474</th>\n",
       "      <td>C302109475</td>\n",
       "      <td>2018-10-23</td>\n",
       "      <td>NaN</td>\n",
       "      <td>37.0</td>\n",
       "      <td>NaN</td>\n",
       "      <td>Female</td>\n",
       "      <td>NaN</td>\n",
       "      <td>Professional</td>\n",
       "      <td>NaN</td>\n",
       "      <td>NaN</td>\n",
       "      <td>NaN</td>\n",
       "      <td>NaN</td>\n",
       "      <td>NaN</td>\n",
       "      <td>132293.36</td>\n",
       "      <td>False</td>\n",
       "    </tr>\n",
       "    <tr>\n",
       "      <th>9477</th>\n",
       "      <td>C302109478</td>\n",
       "      <td>2018-04-29</td>\n",
       "      <td>NaN</td>\n",
       "      <td>48.0</td>\n",
       "      <td>NaN</td>\n",
       "      <td>Male</td>\n",
       "      <td>NaN</td>\n",
       "      <td>NaN</td>\n",
       "      <td>NaN</td>\n",
       "      <td>NaN</td>\n",
       "      <td>NaN</td>\n",
       "      <td>NaN</td>\n",
       "      <td>NaN</td>\n",
       "      <td>0.02</td>\n",
       "      <td>False</td>\n",
       "    </tr>\n",
       "  </tbody>\n",
       "</table>\n",
       "<p>138 rows × 15 columns</p>\n",
       "</div>"
      ],
      "text/plain": [
       "     Application_ID Application_Date Loan_Approval_Status  Age_at_Application  \\\n",
       "135      C302100136       2018-07-03                  NaN                43.0   \n",
       "144      C302100145       2018-09-06                  NaN                47.0   \n",
       "7472     C302107473      202-1-04-16                  NaN                34.0   \n",
       "7482     C302107483       2017-11-23                  NaN                28.0   \n",
       "7517     C302107518       2018-05-24                  NaN                32.0   \n",
       "...             ...              ...                  ...                 ...   \n",
       "9446     C302109447      202-1-03-06                  NaN                22.0   \n",
       "9451     C302109452      202-1-02-27                  NaN                39.0   \n",
       "9455     C302109456      202-1-08-12                  NaN                22.0   \n",
       "9474     C302109475       2018-10-23                  NaN                37.0   \n",
       "9477     C302109478       2018-04-29                  NaN                48.0   \n",
       "\n",
       "     Marital_Status  Gender Own_Rent_Home Occupation_Professional_Category  \\\n",
       "135         Married  Female        Family                              NaN   \n",
       "144             NaN    Male           NaN                              NaN   \n",
       "7472      Unmarried    Male        Family                     Professional   \n",
       "7482      Unmarried  Female        Family         Service and Sales Worker   \n",
       "7517      Unmarried    Male          Rent                     Professional   \n",
       "...             ...     ...           ...                              ...   \n",
       "9446            NaN  Female           NaN            Elementary Occupation   \n",
       "9451            NaN  Female           NaN         Service and Sales Worker   \n",
       "9455            NaN    Male           NaN                         Employee   \n",
       "9474            NaN  Female           NaN                     Professional   \n",
       "9477            NaN    Male           NaN                              NaN   \n",
       "\n",
       "     Type_of_Business_Industry_of_Employment Employment_Status  \\\n",
       "135                            Civil Service         Full-Time   \n",
       "144                                      NaN         Full-Time   \n",
       "7472                           Civil Service         Full-Time   \n",
       "7482            Business Process Outsourcing         Full-Time   \n",
       "7517          Transportation & Communication         Full-Time   \n",
       "...                                      ...               ...   \n",
       "9446                                     NaN          Contract   \n",
       "9451                                     NaN         Full-Time   \n",
       "9455                                     NaN         Full-Time   \n",
       "9474                                     NaN               NaN   \n",
       "9477                                     NaN               NaN   \n",
       "\n",
       "      Time_at_Current_Employment_(Months)  Number_of_Dependents  \\\n",
       "135                                 108.0                   1.0   \n",
       "144                                   NaN                   NaN   \n",
       "7472                                165.0                   0.0   \n",
       "7482                                 25.0                   1.0   \n",
       "7517                                108.0                   1.0   \n",
       "...                                   ...                   ...   \n",
       "9446                                  NaN                   NaN   \n",
       "9451                                 48.0                   NaN   \n",
       "9455                                 31.0                   NaN   \n",
       "9474                                  NaN                   NaN   \n",
       "9477                                  NaN                   NaN   \n",
       "\n",
       "            Loan_Purpose  Monthly_Income Government_Employee  \n",
       "135   Debt Consolidation            0.02               False  \n",
       "144   Debt Consolidation         1634.23               False  \n",
       "7472  Debt Consolidation         9416.45                True  \n",
       "7482               Other         1195.58               False  \n",
       "7517  Debt Consolidation         4277.54               False  \n",
       "...                  ...             ...                 ...  \n",
       "9446               Other         1463.56               False  \n",
       "9451               Other         2032.04               False  \n",
       "9455               Other          805.41               False  \n",
       "9474                 NaN       132293.36               False  \n",
       "9477                 NaN            0.02               False  \n",
       "\n",
       "[138 rows x 15 columns]"
      ]
     },
     "execution_count": 505,
     "metadata": {},
     "output_type": "execute_result"
    }
   ],
   "source": [
    "app_data[app_data[\"Loan_Approval_Status\"].isnull()]\n"
   ]
  },
  {
   "cell_type": "code",
   "execution_count": null,
   "metadata": {},
   "outputs": [
    {
     "name": "stdout",
     "output_type": "stream",
     "text": [
      "['2021-04-16', '2021-04-16', '2032-12-20']\n"
     ]
    }
   ],
   "source": []
  },
  {
   "cell_type": "code",
   "execution_count": null,
   "metadata": {},
   "outputs": [],
   "source": []
  },
  {
   "cell_type": "code",
   "execution_count": null,
   "metadata": {},
   "outputs": [],
   "source": []
  },
  {
   "cell_type": "code",
   "execution_count": null,
   "metadata": {},
   "outputs": [],
   "source": []
  },
  {
   "cell_type": "code",
   "execution_count": 161,
   "metadata": {},
   "outputs": [
    {
     "name": "stdout",
     "output_type": "stream",
     "text": [
      "                                     Column  Missing_Percentage\n",
      "0   Type_of_Business_Industry_of_Employment           24.041298\n",
      "1                      Number_of_Dependents           19.110830\n",
      "2                            Marital_Status           18.752634\n",
      "3                             Own_Rent_Home           13.737885\n",
      "4       Time_at_Current_Employment_(Months)            2.444164\n",
      "5                       Government_Employee            1.906869\n",
      "6                      Loan_Approval_Status            1.453856\n",
      "7                         Employment_Status            1.422250\n",
      "8          Occupation_Professional_Category            1.380110\n",
      "9                              Loan_Purpose            0.442478\n",
      "10                       Age_at_Application            0.221239\n",
      "11                                   Gender            0.042141\n"
     ]
    }
   ],
   "source": [
    "missing_app_data_values = calc_missing_values_percentage(app_data)\n",
    "print(missing_app_data_values)\n",
    "# app_data.info()"
   ]
  },
  {
   "cell_type": "markdown",
   "metadata": {},
   "source": [
    "Type_of_Business_Industry_of_Employment           24.041298\n",
    "1                      Number_of_Dependents           19.110830\n",
    "2                            Marital_Status           18.752634\n",
    "3                             Own_Rent_Home           13.737885\n",
    "4       Time_at_Current_Employment_(Months)            2.444164\n",
    "5                       Government_Employee            1.906869\n",
    "6                      Loan_Approval_Status            1.453856\n",
    "7                         Employment_Status            1.422250\n",
    "8          Occupation_Professional_Categor"
   ]
  },
  {
   "cell_type": "code",
   "execution_count": 170,
   "metadata": {},
   "outputs": [],
   "source": [
    "def get_numerical_columns(df):\n",
    "    return df.select_dtypes(include=['number']).columns.tolist()\n",
    "\n",
    "def get_categorical_columns(df):\n",
    "    return df.select_dtypes(include=['object', 'category']).columns.tolist()\n"
   ]
  },
  {
   "cell_type": "code",
   "execution_count": 169,
   "metadata": {},
   "outputs": [
    {
     "name": "stdout",
     "output_type": "stream",
     "text": [
      "['Age_at_Application', 'Time_at_Current_Employment_(Months)', 'Number_of_Dependents', 'Monthly_Income']\n"
     ]
    }
   ],
   "source": [
    "# get numerical columns\n",
    "numerical_cols = get_numerical_columns(app_data)\n",
    "print(numerical_cols)"
   ]
  },
  {
   "cell_type": "code",
   "execution_count": 171,
   "metadata": {},
   "outputs": [
    {
     "name": "stdout",
     "output_type": "stream",
     "text": [
      "['Application_ID', 'Application_Date', 'Loan_Approval_Status', 'Marital_Status', 'Gender', 'Own_Rent_Home', 'Occupation_Professional_Category', 'Type_of_Business_Industry_of_Employment', 'Employment_Status', 'Loan_Purpose', 'Government_Employee']\n"
     ]
    }
   ],
   "source": [
    "# Example usage\n",
    "categorical_cols = get_categorical_columns(app_data)\n",
    "print(categorical_cols)"
   ]
  },
  {
   "cell_type": "code",
   "execution_count": null,
   "metadata": {},
   "outputs": [],
   "source": [
    "app_data['Type_of_Business_Industry_of_Employment'].fillna(\"Unknown\", inplace= True)\n",
    "app_data['Number_of_Dependents'].fillna()\n"
   ]
  },
  {
   "cell_type": "code",
   "execution_count": 164,
   "metadata": {},
   "outputs": [
    {
     "data": {
      "text/plain": [
       "0.0     3547\n",
       "1.0     2245\n",
       "2.0     1233\n",
       "3.0      463\n",
       "4.0      133\n",
       "5.0       40\n",
       "6.0       11\n",
       "9.0        2\n",
       "7.0        2\n",
       "13.0       1\n",
       "8.0        1\n",
       "Name: Number_of_Dependents, dtype: int64"
      ]
     },
     "execution_count": 164,
     "metadata": {},
     "output_type": "execute_result"
    }
   ],
   "source": [
    "app_data['Number_of_Dependents'].value_counts()"
   ]
  },
  {
   "cell_type": "code",
   "execution_count": 166,
   "metadata": {},
   "outputs": [],
   "source": [
    "# app_data.info()"
   ]
  },
  {
   "cell_type": "markdown",
   "metadata": {},
   "source": [
    "## Feature transformation - log transformation/OHE/etc."
   ]
  },
  {
   "cell_type": "code",
   "execution_count": null,
   "metadata": {},
   "outputs": [],
   "source": []
  },
  {
   "cell_type": "markdown",
   "metadata": {},
   "source": [
    "## Feature selection - (PCA/LASSO)"
   ]
  },
  {
   "cell_type": "code",
   "execution_count": null,
   "metadata": {},
   "outputs": [],
   "source": []
  },
  {
   "cell_type": "markdown",
   "metadata": {},
   "source": [
    "# Exploration Data Analysis"
   ]
  },
  {
   "cell_type": "markdown",
   "metadata": {},
   "source": []
  },
  {
   "cell_type": "code",
   "execution_count": null,
   "metadata": {},
   "outputs": [],
   "source": []
  },
  {
   "cell_type": "code",
   "execution_count": null,
   "metadata": {},
   "outputs": [],
   "source": []
  },
  {
   "cell_type": "markdown",
   "metadata": {},
   "source": [
    "Univariate Analysis\n",
    "\n",
    "Histograms & KDE Plots: Distribution of numerical features\n",
    "Box Plots: Detect outliers in features like Monthly Income, Loan Amount\n",
    "Bar Charts: Visualize frequency distribution for categorical variables like Loan Type, Contract Status, CRB Grade"
   ]
  },
  {
   "cell_type": "code",
   "execution_count": null,
   "metadata": {},
   "outputs": [],
   "source": []
  },
  {
   "cell_type": "markdown",
   "metadata": {},
   "source": [
    "Bivariate & Multivariate Analysis\n",
    "* Correlation Matrix: Find relationships between features\n",
    "* Use df.corr() & visualize with heatmaps (seaborn.heatmap())\n",
    "* Scatter Plots: Identify linear/non-linear relationships\n",
    "Pair Plots: Detect hidden patterns between numeric features\n",
    "GroupBy Analysis: Compare default rates across different CRB grades\n"
   ]
  }
 ],
 "metadata": {
  "kernelspec": {
   "display_name": "learn-env",
   "language": "python",
   "name": "python3"
  },
  "language_info": {
   "codemirror_mode": {
    "name": "ipython",
    "version": 3
   },
   "file_extension": ".py",
   "mimetype": "text/x-python",
   "name": "python",
   "nbconvert_exporter": "python",
   "pygments_lexer": "ipython3",
   "version": "3.8.5"
  }
 },
 "nbformat": 4,
 "nbformat_minor": 2
}
