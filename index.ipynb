{
 "cells": [
  {
   "cell_type": "markdown",
   "metadata": {},
   "source": [
    "# Business Understanding\n",
    "\n",
    "## Overview"
   ]
  },
  {
   "cell_type": "markdown",
   "metadata": {},
   "source": []
  },
  {
   "cell_type": "markdown",
   "metadata": {},
   "source": [
    "# Data Understanding"
   ]
  },
  {
   "cell_type": "markdown",
   "metadata": {},
   "source": [
    "The data being used is from a Credit Bereau. and it consists of:\n",
    "\n",
    "**Application Data:**\n",
    "* **Application_ID**: Unique Application Number\n",
    "* **Application_Date**: Date of application\n",
    "* **Loan_Approval_Status**: Approval status of loan\n",
    "* **Age_at_Application**: Age in Years at point of application\n",
    "* **Marital_Status**: Marital status at point of application\n",
    "* **Gender**: Sex\n",
    "* **Own_Rent_Home**: Residential status of home ownership\n",
    "* **Occupation_Professional_Category**: Proffessional Category\n",
    "* **Type_of_Business_Industry_of_Employment**: Industry of Employment\n",
    "* **Employment_Status**: Employment status\n",
    "* **Time_at_Current_Employment_(Months)**: Time at current employment in months\n",
    "* **Time_Employed_with_Previous_Employer_(Months)**: Time at previous employment in months\n",
    "* **Number_of_Dependents**: Number of dependents\n",
    "* **Loan_Purpose**: Purpose of Loan Applied\n",
    "* **Monthly_Income**: Monthly Income in KES\n",
    "* **Government_Employee**: Flag if government employee\n",
    "\n",
    "**Contracts Data:**\n",
    "* **Contract_ID**:\tLoan Account Number\n",
    "* **Application_ID**\tApplication Number related to the loan opened\n",
    "* **Key**:\tNumber of Open Contracts related to the loan application Number\n",
    "* **Loan_Type**:\tType of loan facility\n",
    "* **Contract_Start_Date**:\tDate of start for Loan facility\n",
    "* **Expected_Contract_End_Date**:\tExpected date of loan maturity\n",
    "* **Actual_Contract_End_Date**:\tActual date when the contrcat was closed\n",
    "* **Loan_Term**:\tTenure of loan in months\n",
    "* **Total_Loan_Amount**:\tLoan amount approved\n",
    "\n",
    "**Contracts Snapshop data:**\n",
    "* **Contract Id**:\tLoan Account Number*\n",
    "* **Snapshot Date**:\tThe End of Month when the data was reported\n",
    "* **Outstanding Amount**:\tThe outstanding balance as at the reporting date\n",
    "* **Due Amount**:\tThe amount unpaid as at the reporting date\n",
    "* **Number of Days Past Due**:\tThe number of days past due as at that reporting date\n",
    "* **Contract Status**:\tThe status of the contract\n",
    "\n",
    "**CRB Data:**\n",
    "* **Application_ID**:\tApplication Number related to the loan opened\n",
    "* **Application_Date**:\tDate of application\n",
    "* **CRB Score**:\tCredit Bureau Risk Score\n",
    "* **CRB Grade**:\tCredit Bureau Risk Grade\n",
    "\n",
    "**Current and Savings Account Data:**\n",
    "* **Account Number**:\tApplication Number related to the loan opened\n",
    "* **Application ID**:\tApplication Number related to the loan opened\n",
    "* **Month (YYYY-MM)**:\tThe reporting month when the data was calculated\n",
    "* **Open Date**:\tThe date when the account was openned\n",
    "* **Closed Date**:\tThe date when the account was closed\n",
    "* **Average Balance**:\tThe monthly average balance\n",
    "* **Overdraft Limit**:\tOverdraft Limit\n",
    "* **Number of Days in Debit during Month**:\tNumber of Days in Debit during Month\n",
    "* **Number of Days in Credit during Month**: Number of Days in Credit during Month\n",
    "* **Maximum End of Day Balance**:\tMaximum End of Day Balance\n",
    "* **Minimum End of Day Balance**:\tMinimum End of Day Balance\n",
    "* **Sum of Monthly Debit Transactions**: Sum of Monthly Debit Transactions\n",
    "* **Sum of Monthly Credit Transactions**:\tSum of Monthly Credit Transactions\n",
    "* **Last Transaction Date**:\tLast Transaction Date\n",
    "* **Sum of ATM Deposits**:\tSum of ATM Deposits\n",
    "* **Number of ATM Deposits**:\tNumber of ATM Deposits\n",
    "* **Sum of ATM Withdrawals**:\tSum of ATM Withdrawals\n",
    "* **Number of ATM Withdrawals**:\tNumber of ATM Withdrawals\n",
    "* **Sum of Cheque Debit Transactions**:\tSum of Cheque Debit Transactions\n",
    "* **Number of Cheque Debit Transactions**:\tNumber of Cheque Debit Transactions\n",
    "* **Sum of Bounced Cheque transactions**:\tSum of Bounced Cheque transactions\n",
    "* **Number of Bounced Cheques**:\tNumber of Bounced Cheques\n",
    "* **Sum of Debit Card POS Transactions**:\tSum of Debit Card POS Transactions\n",
    "* **Number of Debit Card POS Transactions**:\tNumber of Debit Card POS Transactions\n",
    "* **Sum of Over the Counter Withdrawals**:\tSum of Over the Counter Withdrawals\n",
    "* **Number of Over the Counter withdrawals**:\tNumber of Over the Counter withdrawals\n",
    "* **Account Type**:\tType of account\n",
    "* **Account Status**:\tLatest status of the account\n",
    "* **Number of Joint Holders**:\tNumber of Persons owning the account\n",
    "* **SnapshotMonth**:\tThe reporting month when the data was calculated\n",
    "\n",
    "![image.png](..\\images\\erpdiagram.png)"
   ]
  },
  {
   "cell_type": "code",
   "execution_count": 4,
   "metadata": {},
   "outputs": [],
   "source": [
    "# Loading the relevant libraries\n",
    "\n",
    "# Data pre-processsing libraries\n",
    "import pandas as pd\n",
    "import numpy as np\n",
    "import re\n",
    "\n",
    "# Metrics libraries\n",
    "\n",
    "# Data modeling libraries\n",
    "\n",
    "# "
   ]
  },
  {
   "cell_type": "markdown",
   "metadata": {},
   "source": [
    "### Application Data"
   ]
  },
  {
   "cell_type": "code",
   "execution_count": 5,
   "metadata": {},
   "outputs": [
    {
     "data": {
      "text/html": [
       "<div>\n",
       "<style scoped>\n",
       "    .dataframe tbody tr th:only-of-type {\n",
       "        vertical-align: middle;\n",
       "    }\n",
       "\n",
       "    .dataframe tbody tr th {\n",
       "        vertical-align: top;\n",
       "    }\n",
       "\n",
       "    .dataframe thead th {\n",
       "        text-align: right;\n",
       "    }\n",
       "</style>\n",
       "<table border=\"1\" class=\"dataframe\">\n",
       "  <thead>\n",
       "    <tr style=\"text-align: right;\">\n",
       "      <th></th>\n",
       "      <th>Application_ID</th>\n",
       "      <th>Application_Date</th>\n",
       "      <th>Loan_Approval_Status</th>\n",
       "      <th>Age_at_Application</th>\n",
       "      <th>Marital_Status</th>\n",
       "      <th>Gender</th>\n",
       "      <th>Own_Rent_Home</th>\n",
       "      <th>Occupation_Professional_Category</th>\n",
       "      <th>Type_of_Business_Industry_of_Employment</th>\n",
       "      <th>Employment_Status</th>\n",
       "      <th>Time_at_Current_Employment_(Months)</th>\n",
       "      <th>Time_Employed_with_Previous_Employer_(Months)</th>\n",
       "      <th>Number_of_Dependents</th>\n",
       "      <th>Loan_Purpose</th>\n",
       "      <th>Monthly_Income</th>\n",
       "      <th>Government_Employee</th>\n",
       "    </tr>\n",
       "  </thead>\n",
       "  <tbody>\n",
       "    <tr>\n",
       "      <th>0</th>\n",
       "      <td>C302100001</td>\n",
       "      <td>2015-09-15</td>\n",
       "      <td>Approved</td>\n",
       "      <td>39.0</td>\n",
       "      <td>Unmarried</td>\n",
       "      <td>Female</td>\n",
       "      <td>Own</td>\n",
       "      <td>NaN</td>\n",
       "      <td>Other</td>\n",
       "      <td>Full-Time</td>\n",
       "      <td>6.0</td>\n",
       "      <td>NaN</td>\n",
       "      <td>2.0</td>\n",
       "      <td>Home Improvement</td>\n",
       "      <td>1500.59</td>\n",
       "      <td>NaN</td>\n",
       "    </tr>\n",
       "    <tr>\n",
       "      <th>1</th>\n",
       "      <td>C302100002</td>\n",
       "      <td>2015-08-31</td>\n",
       "      <td>Approved</td>\n",
       "      <td>29.0</td>\n",
       "      <td>Unmarried</td>\n",
       "      <td>Female</td>\n",
       "      <td>Family</td>\n",
       "      <td>NaN</td>\n",
       "      <td>NaN</td>\n",
       "      <td>Full-Time</td>\n",
       "      <td>25.0</td>\n",
       "      <td>NaN</td>\n",
       "      <td>0.0</td>\n",
       "      <td>Debt Consolidation</td>\n",
       "      <td>3769.36</td>\n",
       "      <td>NaN</td>\n",
       "    </tr>\n",
       "  </tbody>\n",
       "</table>\n",
       "</div>"
      ],
      "text/plain": [
       "  Application_ID Application_Date Loan_Approval_Status  Age_at_Application  \\\n",
       "0     C302100001       2015-09-15             Approved                39.0   \n",
       "1     C302100002       2015-08-31             Approved                29.0   \n",
       "\n",
       "  Marital_Status  Gender Own_Rent_Home Occupation_Professional_Category  \\\n",
       "0      Unmarried  Female           Own                              NaN   \n",
       "1      Unmarried  Female        Family                              NaN   \n",
       "\n",
       "  Type_of_Business_Industry_of_Employment Employment_Status  \\\n",
       "0                                   Other         Full-Time   \n",
       "1                                     NaN         Full-Time   \n",
       "\n",
       "   Time_at_Current_Employment_(Months)  \\\n",
       "0                                  6.0   \n",
       "1                                 25.0   \n",
       "\n",
       "   Time_Employed_with_Previous_Employer_(Months)  Number_of_Dependents  \\\n",
       "0                                            NaN                   2.0   \n",
       "1                                            NaN                   0.0   \n",
       "\n",
       "         Loan_Purpose  Monthly_Income Government_Employee  \n",
       "0    Home Improvement         1500.59                 NaN  \n",
       "1  Debt Consolidation         3769.36                 NaN  "
      ]
     },
     "execution_count": 5,
     "metadata": {},
     "output_type": "execute_result"
    }
   ],
   "source": [
    "# Load data\n",
    "app_data = pd.read_csv(\"./data/1. ApplicationData.csv\")\n",
    "\n",
    "# Check 2 top rows\n",
    "app_data.head(2)"
   ]
  },
  {
   "cell_type": "code",
   "execution_count": 6,
   "metadata": {},
   "outputs": [
    {
     "name": "stdout",
     "output_type": "stream",
     "text": [
      "<class 'pandas.core.frame.DataFrame'>\n",
      "RangeIndex: 9492 entries, 0 to 9491\n",
      "Data columns (total 16 columns):\n",
      " #   Column                                         Non-Null Count  Dtype  \n",
      "---  ------                                         --------------  -----  \n",
      " 0   Application_ID                                 9492 non-null   object \n",
      " 1   Application_Date                               9492 non-null   object \n",
      " 2   Loan_Approval_Status                           9354 non-null   object \n",
      " 3   Age_at_Application                             9471 non-null   float64\n",
      " 4   Marital_Status                                 7712 non-null   object \n",
      " 5   Gender                                         9488 non-null   object \n",
      " 6   Own_Rent_Home                                  8188 non-null   object \n",
      " 7   Occupation_Professional_Category               9361 non-null   object \n",
      " 8   Type_of_Business_Industry_of_Employment        7210 non-null   object \n",
      " 9   Employment_Status                              9357 non-null   object \n",
      " 10  Time_at_Current_Employment_(Months)            9260 non-null   float64\n",
      " 11  Time_Employed_with_Previous_Employer_(Months)  298 non-null    float64\n",
      " 12  Number_of_Dependents                           7678 non-null   float64\n",
      " 13  Loan_Purpose                                   9450 non-null   object \n",
      " 14  Monthly_Income                                 9492 non-null   float64\n",
      " 15  Government_Employee                            9311 non-null   object \n",
      "dtypes: float64(5), object(11)\n",
      "memory usage: 1.2+ MB\n"
     ]
    }
   ],
   "source": [
    "# Get data summary\n",
    "app_data.info()"
   ]
  },
  {
   "cell_type": "code",
   "execution_count": 7,
   "metadata": {},
   "outputs": [
    {
     "data": {
      "text/plain": [
       "(9492, 16)"
      ]
     },
     "execution_count": 7,
     "metadata": {},
     "output_type": "execute_result"
    }
   ],
   "source": [
    "# Check Shape\n",
    "app_data.shape"
   ]
  },
  {
   "cell_type": "code",
   "execution_count": 8,
   "metadata": {},
   "outputs": [
    {
     "data": {
      "text/plain": [
       "Application_ID                                      0\n",
       "Application_Date                                    0\n",
       "Loan_Approval_Status                              138\n",
       "Age_at_Application                                 21\n",
       "Marital_Status                                   1780\n",
       "Gender                                              4\n",
       "Own_Rent_Home                                    1304\n",
       "Occupation_Professional_Category                  131\n",
       "Type_of_Business_Industry_of_Employment          2282\n",
       "Employment_Status                                 135\n",
       "Time_at_Current_Employment_(Months)               232\n",
       "Time_Employed_with_Previous_Employer_(Months)    9194\n",
       "Number_of_Dependents                             1814\n",
       "Loan_Purpose                                       42\n",
       "Monthly_Income                                      0\n",
       "Government_Employee                               181\n",
       "dtype: int64"
      ]
     },
     "execution_count": 8,
     "metadata": {},
     "output_type": "execute_result"
    }
   ],
   "source": [
    "# Check null values\n",
    "app_data.isnull().sum()"
   ]
  },
  {
   "cell_type": "markdown",
   "metadata": {},
   "source": [
    "*Observation*\n",
    "\n",
    "* The ApplicationData has $9,492$ records under $16$ columns.\n",
    "* All the columns have null values apart from the *'Application_ID'*, *'Application_Date'*, and *'Monthly_Income'* columns.\n",
    "* The 'Application_Date' column is  an object dtype. thiss needs to be changed to 'date' datatype"
   ]
  },
  {
   "cell_type": "markdown",
   "metadata": {},
   "source": [
    "### Contracts Data"
   ]
  },
  {
   "cell_type": "code",
   "execution_count": 9,
   "metadata": {},
   "outputs": [
    {
     "data": {
      "text/html": [
       "<div>\n",
       "<style scoped>\n",
       "    .dataframe tbody tr th:only-of-type {\n",
       "        vertical-align: middle;\n",
       "    }\n",
       "\n",
       "    .dataframe tbody tr th {\n",
       "        vertical-align: top;\n",
       "    }\n",
       "\n",
       "    .dataframe thead th {\n",
       "        text-align: right;\n",
       "    }\n",
       "</style>\n",
       "<table border=\"1\" class=\"dataframe\">\n",
       "  <thead>\n",
       "    <tr style=\"text-align: right;\">\n",
       "      <th></th>\n",
       "      <th>Contract_ID</th>\n",
       "      <th>Application_ID</th>\n",
       "      <th>Key</th>\n",
       "      <th>Loan_Type</th>\n",
       "      <th>Contract_Start_Date</th>\n",
       "      <th>Expected_Contract_End_Date</th>\n",
       "      <th>Actual_Contract_End_Date</th>\n",
       "      <th>Loan_Term</th>\n",
       "      <th>Total_Loan_Amount</th>\n",
       "    </tr>\n",
       "  </thead>\n",
       "  <tbody>\n",
       "    <tr>\n",
       "      <th>0</th>\n",
       "      <td>CONT100001</td>\n",
       "      <td>C302103426</td>\n",
       "      <td>1</td>\n",
       "      <td>Unsecured Personal Loan</td>\n",
       "      <td>2018-04-12</td>\n",
       "      <td>2023-04-12</td>\n",
       "      <td>NaN</td>\n",
       "      <td>60 - Month(s)</td>\n",
       "      <td>24529.89</td>\n",
       "    </tr>\n",
       "    <tr>\n",
       "      <th>1</th>\n",
       "      <td>CONT100002</td>\n",
       "      <td>C302103426</td>\n",
       "      <td>2</td>\n",
       "      <td>Unsecured Personal Loan</td>\n",
       "      <td>2018-04-12</td>\n",
       "      <td>2023-04-12</td>\n",
       "      <td>NaN</td>\n",
       "      <td>60 - Month(s)</td>\n",
       "      <td>35085.79</td>\n",
       "    </tr>\n",
       "  </tbody>\n",
       "</table>\n",
       "</div>"
      ],
      "text/plain": [
       "  Contract_ID Application_ID  Key                Loan_Type  \\\n",
       "0  CONT100001     C302103426    1  Unsecured Personal Loan   \n",
       "1  CONT100002     C302103426    2  Unsecured Personal Loan   \n",
       "\n",
       "  Contract_Start_Date Expected_Contract_End_Date Actual_Contract_End_Date  \\\n",
       "0          2018-04-12                 2023-04-12                      NaN   \n",
       "1          2018-04-12                 2023-04-12                      NaN   \n",
       "\n",
       "       Loan_Term  Total_Loan_Amount  \n",
       "0  60 - Month(s)           24529.89  \n",
       "1  60 - Month(s)           35085.79  "
      ]
     },
     "execution_count": 9,
     "metadata": {},
     "output_type": "execute_result"
    }
   ],
   "source": [
    "# Load data\n",
    "contract_data = pd.read_csv(\"./data/2. ContractsData.csv\")\n",
    "\n",
    "# Check 2 top rows\n",
    "contract_data.head(2)"
   ]
  },
  {
   "cell_type": "code",
   "execution_count": 10,
   "metadata": {},
   "outputs": [
    {
     "name": "stdout",
     "output_type": "stream",
     "text": [
      "<class 'pandas.core.frame.DataFrame'>\n",
      "RangeIndex: 9374 entries, 0 to 9373\n",
      "Data columns (total 9 columns):\n",
      " #   Column                      Non-Null Count  Dtype  \n",
      "---  ------                      --------------  -----  \n",
      " 0   Contract_ID                 9374 non-null   object \n",
      " 1   Application_ID              7598 non-null   object \n",
      " 2   Key                         9374 non-null   int64  \n",
      " 3   Loan_Type                   9374 non-null   object \n",
      " 4   Contract_Start_Date         9374 non-null   object \n",
      " 5   Expected_Contract_End_Date  9374 non-null   object \n",
      " 6   Actual_Contract_End_Date    2593 non-null   object \n",
      " 7   Loan_Term                   9374 non-null   object \n",
      " 8   Total_Loan_Amount           9374 non-null   float64\n",
      "dtypes: float64(1), int64(1), object(7)\n",
      "memory usage: 659.2+ KB\n"
     ]
    }
   ],
   "source": [
    "# show data summary\n",
    "contract_data.info()"
   ]
  },
  {
   "cell_type": "code",
   "execution_count": 11,
   "metadata": {},
   "outputs": [
    {
     "data": {
      "text/plain": [
       "(9374, 9)"
      ]
     },
     "execution_count": 11,
     "metadata": {},
     "output_type": "execute_result"
    }
   ],
   "source": [
    "# Check shape\n",
    "contract_data.shape"
   ]
  },
  {
   "cell_type": "code",
   "execution_count": 12,
   "metadata": {},
   "outputs": [
    {
     "data": {
      "text/plain": [
       "Contract_ID                      0\n",
       "Application_ID                1776\n",
       "Key                              0\n",
       "Loan_Type                        0\n",
       "Contract_Start_Date              0\n",
       "Expected_Contract_End_Date       0\n",
       "Actual_Contract_End_Date      6781\n",
       "Loan_Term                        0\n",
       "Total_Loan_Amount                0\n",
       "dtype: int64"
      ]
     },
     "execution_count": 12,
     "metadata": {},
     "output_type": "execute_result"
    }
   ],
   "source": [
    "# Check null values\n",
    "contract_data.isnull().sum()"
   ]
  },
  {
   "cell_type": "markdown",
   "metadata": {},
   "source": [
    "*Observation*\n",
    "* The contract data is of $9$ columns with $9,374$ records\n",
    "* The dates are in the object dtype, will need to be changed to date format\n",
    "* The contracts data has null values on the *'Application_ID'* and *'Actual_Contract_End_Date'* columns.\n"
   ]
  },
  {
   "cell_type": "markdown",
   "metadata": {},
   "source": [
    "### Contracts Snapshot data"
   ]
  },
  {
   "cell_type": "code",
   "execution_count": 13,
   "metadata": {},
   "outputs": [
    {
     "data": {
      "text/html": [
       "<div>\n",
       "<style scoped>\n",
       "    .dataframe tbody tr th:only-of-type {\n",
       "        vertical-align: middle;\n",
       "    }\n",
       "\n",
       "    .dataframe tbody tr th {\n",
       "        vertical-align: top;\n",
       "    }\n",
       "\n",
       "    .dataframe thead th {\n",
       "        text-align: right;\n",
       "    }\n",
       "</style>\n",
       "<table border=\"1\" class=\"dataframe\">\n",
       "  <thead>\n",
       "    <tr style=\"text-align: right;\">\n",
       "      <th></th>\n",
       "      <th>Contract_ID</th>\n",
       "      <th>Snapshot Date</th>\n",
       "      <th>Outstanding Amount</th>\n",
       "      <th>Due Amount</th>\n",
       "      <th>Number of Days Past Due</th>\n",
       "      <th>Contract Status</th>\n",
       "    </tr>\n",
       "  </thead>\n",
       "  <tbody>\n",
       "    <tr>\n",
       "      <th>0</th>\n",
       "      <td>CONT109375</td>\n",
       "      <td>2018-12-31</td>\n",
       "      <td>0.00</td>\n",
       "      <td>0.0</td>\n",
       "      <td>NaN</td>\n",
       "      <td>Closed</td>\n",
       "    </tr>\n",
       "    <tr>\n",
       "      <th>1</th>\n",
       "      <td>CONT109376</td>\n",
       "      <td>2006-08-31</td>\n",
       "      <td>215.08</td>\n",
       "      <td>0.0</td>\n",
       "      <td>NaN</td>\n",
       "      <td>Active</td>\n",
       "    </tr>\n",
       "  </tbody>\n",
       "</table>\n",
       "</div>"
      ],
      "text/plain": [
       "  Contract_ID Snapshot Date  Outstanding Amount  Due Amount  \\\n",
       "0  CONT109375    2018-12-31                0.00         0.0   \n",
       "1  CONT109376    2006-08-31              215.08         0.0   \n",
       "\n",
       "   Number of Days Past Due Contract Status  \n",
       "0                      NaN          Closed  \n",
       "1                      NaN          Active  "
      ]
     },
     "execution_count": 13,
     "metadata": {},
     "output_type": "execute_result"
    }
   ],
   "source": [
    "# Load the dataset\n",
    "contractsSnapshot_data = pd.read_csv(\"./data/3. ContractsSnapshotData.csv\")\n",
    "\n",
    "# Check top 2 rows\n",
    "contractsSnapshot_data.head(2)"
   ]
  },
  {
   "cell_type": "code",
   "execution_count": 14,
   "metadata": {},
   "outputs": [
    {
     "data": {
      "text/plain": [
       "(274371, 6)"
      ]
     },
     "execution_count": 14,
     "metadata": {},
     "output_type": "execute_result"
    }
   ],
   "source": [
    "# Check Data size\n",
    "contractsSnapshot_data.shape"
   ]
  },
  {
   "cell_type": "code",
   "execution_count": 15,
   "metadata": {},
   "outputs": [
    {
     "name": "stdout",
     "output_type": "stream",
     "text": [
      "<class 'pandas.core.frame.DataFrame'>\n",
      "RangeIndex: 274371 entries, 0 to 274370\n",
      "Data columns (total 6 columns):\n",
      " #   Column                   Non-Null Count   Dtype  \n",
      "---  ------                   --------------   -----  \n",
      " 0   Contract_ID              274371 non-null  object \n",
      " 1   Snapshot Date            274371 non-null  object \n",
      " 2   Outstanding Amount       274371 non-null  float64\n",
      " 3   Due Amount               274371 non-null  float64\n",
      " 4   Number of Days Past Due  79158 non-null   float64\n",
      " 5   Contract Status          274371 non-null  object \n",
      "dtypes: float64(3), object(3)\n",
      "memory usage: 12.6+ MB\n"
     ]
    }
   ],
   "source": [
    "# Data summary\n",
    "contractsSnapshot_data.info()"
   ]
  },
  {
   "cell_type": "code",
   "execution_count": 16,
   "metadata": {},
   "outputs": [
    {
     "data": {
      "text/plain": [
       "Contract_ID                     0\n",
       "Snapshot Date                   0\n",
       "Outstanding Amount              0\n",
       "Due Amount                      0\n",
       "Number of Days Past Due    195213\n",
       "Contract Status                 0\n",
       "dtype: int64"
      ]
     },
     "execution_count": 16,
     "metadata": {},
     "output_type": "execute_result"
    }
   ],
   "source": [
    "# Check null values\n",
    "contractsSnapshot_data.isnull().sum()"
   ]
  },
  {
   "cell_type": "markdown",
   "metadata": {},
   "source": [
    "*Observation*\n",
    "* Tha contractsSnapshot data has $6$ columns with $274,371$ rows.\n",
    "* the date column is of object dtype. Will be changed to date dtype\n",
    "* It has null values on the *'Number of Days Past Due'* column. On further checking, the null values are present on records that do not have *'Due Amount'*."
   ]
  },
  {
   "cell_type": "markdown",
   "metadata": {},
   "source": [
    "### CRB Data"
   ]
  },
  {
   "cell_type": "code",
   "execution_count": 17,
   "metadata": {},
   "outputs": [
    {
     "data": {
      "text/html": [
       "<div>\n",
       "<style scoped>\n",
       "    .dataframe tbody tr th:only-of-type {\n",
       "        vertical-align: middle;\n",
       "    }\n",
       "\n",
       "    .dataframe tbody tr th {\n",
       "        vertical-align: top;\n",
       "    }\n",
       "\n",
       "    .dataframe thead th {\n",
       "        text-align: right;\n",
       "    }\n",
       "</style>\n",
       "<table border=\"1\" class=\"dataframe\">\n",
       "  <thead>\n",
       "    <tr style=\"text-align: right;\">\n",
       "      <th></th>\n",
       "      <th>Application_ID</th>\n",
       "      <th>Application_Date</th>\n",
       "      <th>CRB Score</th>\n",
       "      <th>CRB Grade</th>\n",
       "    </tr>\n",
       "  </thead>\n",
       "  <tbody>\n",
       "    <tr>\n",
       "      <th>0</th>\n",
       "      <td>C302102137</td>\n",
       "      <td>2017-09-30</td>\n",
       "      <td>593</td>\n",
       "      <td>D</td>\n",
       "    </tr>\n",
       "    <tr>\n",
       "      <th>1</th>\n",
       "      <td>C302106175</td>\n",
       "      <td>2017-09-30</td>\n",
       "      <td>625</td>\n",
       "      <td>C</td>\n",
       "    </tr>\n",
       "  </tbody>\n",
       "</table>\n",
       "</div>"
      ],
      "text/plain": [
       "  Application_ID Application_Date  CRB Score CRB Grade\n",
       "0     C302102137       2017-09-30        593         D\n",
       "1     C302106175       2017-09-30        625         C"
      ]
     },
     "execution_count": 17,
     "metadata": {},
     "output_type": "execute_result"
    }
   ],
   "source": [
    "# Load data\n",
    "crb_data = pd.read_csv(\"./data/4. CRB Data.csv\")\n",
    "\n",
    "# Check top 2 rows\n",
    "crb_data.head(2)"
   ]
  },
  {
   "cell_type": "code",
   "execution_count": 18,
   "metadata": {},
   "outputs": [
    {
     "name": "stdout",
     "output_type": "stream",
     "text": [
      "<class 'pandas.core.frame.DataFrame'>\n",
      "RangeIndex: 6750 entries, 0 to 6749\n",
      "Data columns (total 4 columns):\n",
      " #   Column            Non-Null Count  Dtype \n",
      "---  ------            --------------  ----- \n",
      " 0   Application_ID    6750 non-null   object\n",
      " 1   Application_Date  6750 non-null   object\n",
      " 2   CRB Score         6750 non-null   int64 \n",
      " 3   CRB Grade         6750 non-null   object\n",
      "dtypes: int64(1), object(3)\n",
      "memory usage: 211.1+ KB\n"
     ]
    }
   ],
   "source": [
    "# Data summary\n",
    "crb_data.info()"
   ]
  },
  {
   "cell_type": "code",
   "execution_count": 19,
   "metadata": {},
   "outputs": [
    {
     "data": {
      "text/plain": [
       "Application_ID      0\n",
       "Application_Date    0\n",
       "CRB Score           0\n",
       "CRB Grade           0\n",
       "dtype: int64"
      ]
     },
     "execution_count": 19,
     "metadata": {},
     "output_type": "execute_result"
    }
   ],
   "source": [
    "# Check null values\n",
    "crb_data.isnull().sum()"
   ]
  },
  {
   "cell_type": "code",
   "execution_count": 20,
   "metadata": {},
   "outputs": [
    {
     "data": {
      "text/plain": [
       "(6750, 4)"
      ]
     },
     "execution_count": 20,
     "metadata": {},
     "output_type": "execute_result"
    }
   ],
   "source": [
    "# Check size\n",
    "crb_data.shape"
   ]
  },
  {
   "cell_type": "markdown",
   "metadata": {},
   "source": [
    "*Observation*\n",
    "* CRB Data has $4$ columns with $6,750$ records.\n",
    "* The CRB Data has no null values.\n",
    "* The *'Application_Date'* column is of object dtype, to be changed to date dtype."
   ]
  },
  {
   "cell_type": "markdown",
   "metadata": {},
   "source": [
    "### Current_and_Savings Data"
   ]
  },
  {
   "cell_type": "code",
   "execution_count": 21,
   "metadata": {},
   "outputs": [
    {
     "data": {
      "text/html": [
       "<div>\n",
       "<style scoped>\n",
       "    .dataframe tbody tr th:only-of-type {\n",
       "        vertical-align: middle;\n",
       "    }\n",
       "\n",
       "    .dataframe tbody tr th {\n",
       "        vertical-align: top;\n",
       "    }\n",
       "\n",
       "    .dataframe thead th {\n",
       "        text-align: right;\n",
       "    }\n",
       "</style>\n",
       "<table border=\"1\" class=\"dataframe\">\n",
       "  <thead>\n",
       "    <tr style=\"text-align: right;\">\n",
       "      <th></th>\n",
       "      <th>ID</th>\n",
       "      <th>Account_Number</th>\n",
       "      <th>Application ID</th>\n",
       "      <th>Month (YYYY-MM)</th>\n",
       "      <th>Open Date</th>\n",
       "      <th>Closed Date</th>\n",
       "      <th>Average Balance</th>\n",
       "      <th>Overdraft Limit</th>\n",
       "      <th>Number of Days in Debit during Month</th>\n",
       "      <th>Number of Days in Credit during Month</th>\n",
       "      <th>...</th>\n",
       "      <th>Sum of Bounced Cheque transactions</th>\n",
       "      <th>Number of Bounced Cheques</th>\n",
       "      <th>Sum of Debit Card POS Transactions</th>\n",
       "      <th>Number of Debit Card POS Transactions</th>\n",
       "      <th>Sum of Over the Counter Withdrawals</th>\n",
       "      <th>Number of Over the Counter withdrawals</th>\n",
       "      <th>Account Type</th>\n",
       "      <th>Account Status</th>\n",
       "      <th>Number of Joint Holders</th>\n",
       "      <th>SpshotMonth</th>\n",
       "    </tr>\n",
       "  </thead>\n",
       "  <tbody>\n",
       "    <tr>\n",
       "      <th>0</th>\n",
       "      <td>1</td>\n",
       "      <td>ACC10000001</td>\n",
       "      <td>C302100001</td>\n",
       "      <td>2015-09-01</td>\n",
       "      <td>2015-09-06</td>\n",
       "      <td>NaN</td>\n",
       "      <td>1986.09</td>\n",
       "      <td>0.0</td>\n",
       "      <td>0.0</td>\n",
       "      <td>25.0</td>\n",
       "      <td>...</td>\n",
       "      <td>NaN</td>\n",
       "      <td>0.0</td>\n",
       "      <td>NaN</td>\n",
       "      <td>0.0</td>\n",
       "      <td>NaN</td>\n",
       "      <td>0.0</td>\n",
       "      <td>Savings</td>\n",
       "      <td>Active</td>\n",
       "      <td>0.0</td>\n",
       "      <td>2015-09-01</td>\n",
       "    </tr>\n",
       "    <tr>\n",
       "      <th>1</th>\n",
       "      <td>2</td>\n",
       "      <td>ACC10000002</td>\n",
       "      <td>C302100001</td>\n",
       "      <td>2015-09-01</td>\n",
       "      <td>2015-09-06</td>\n",
       "      <td>2018-10-04</td>\n",
       "      <td>23.45</td>\n",
       "      <td>NaN</td>\n",
       "      <td>0.0</td>\n",
       "      <td>25.0</td>\n",
       "      <td>...</td>\n",
       "      <td>NaN</td>\n",
       "      <td>0.0</td>\n",
       "      <td>NaN</td>\n",
       "      <td>0.0</td>\n",
       "      <td>NaN</td>\n",
       "      <td>0.0</td>\n",
       "      <td>Savings</td>\n",
       "      <td>Closed</td>\n",
       "      <td>0.0</td>\n",
       "      <td>2015-09-01</td>\n",
       "    </tr>\n",
       "  </tbody>\n",
       "</table>\n",
       "<p>2 rows × 31 columns</p>\n",
       "</div>"
      ],
      "text/plain": [
       "   ID Account_Number Application ID Month (YYYY-MM)   Open Date Closed Date  \\\n",
       "0   1    ACC10000001     C302100001      2015-09-01  2015-09-06         NaN   \n",
       "1   2    ACC10000002     C302100001      2015-09-01  2015-09-06  2018-10-04   \n",
       "\n",
       "   Average Balance  Overdraft Limit  Number of Days in Debit during Month  \\\n",
       "0          1986.09              0.0                                   0.0   \n",
       "1            23.45              NaN                                   0.0   \n",
       "\n",
       "   Number of Days in Credit during Month  ...  \\\n",
       "0                                   25.0  ...   \n",
       "1                                   25.0  ...   \n",
       "\n",
       "   Sum of Bounced Cheque transactions  Number of Bounced Cheques  \\\n",
       "0                                 NaN                        0.0   \n",
       "1                                 NaN                        0.0   \n",
       "\n",
       "   Sum of Debit Card POS Transactions  Number of Debit Card POS Transactions  \\\n",
       "0                                 NaN                                    0.0   \n",
       "1                                 NaN                                    0.0   \n",
       "\n",
       "  Sum of Over the Counter Withdrawals  Number of Over the Counter withdrawals  \\\n",
       "0                                 NaN                                     0.0   \n",
       "1                                 NaN                                     0.0   \n",
       "\n",
       "   Account Type  Account Status  Number of Joint Holders  SpshotMonth  \n",
       "0       Savings          Active                      0.0   2015-09-01  \n",
       "1       Savings          Closed                      0.0   2015-09-01  \n",
       "\n",
       "[2 rows x 31 columns]"
      ]
     },
     "execution_count": 21,
     "metadata": {},
     "output_type": "execute_result"
    }
   ],
   "source": [
    "# load data\n",
    "curr_savings_data = pd.read_csv(\"./data/5. Current and Savings Account Data.csv\")\n",
    "\n",
    "# Check top 2 rows\n",
    "curr_savings_data.head(2)"
   ]
  },
  {
   "cell_type": "code",
   "execution_count": 22,
   "metadata": {},
   "outputs": [
    {
     "name": "stdout",
     "output_type": "stream",
     "text": [
      "<class 'pandas.core.frame.DataFrame'>\n",
      "RangeIndex: 857677 entries, 0 to 857676\n",
      "Data columns (total 31 columns):\n",
      " #   Column                                  Non-Null Count   Dtype  \n",
      "---  ------                                  --------------   -----  \n",
      " 0   ID                                      857677 non-null  int64  \n",
      " 1   Account_Number                          857677 non-null  object \n",
      " 2   Application ID                          857672 non-null  object \n",
      " 3   Month (YYYY-MM)                         857647 non-null  object \n",
      " 4   Open Date                               857647 non-null  object \n",
      " 5   Closed Date                             161748 non-null  object \n",
      " 6   Average Balance                         857647 non-null  float64\n",
      " 7   Overdraft Limit                         753484 non-null  float64\n",
      " 8   Number of Days in Debit during Month    857647 non-null  float64\n",
      " 9   Number of Days in Credit during Month   857647 non-null  float64\n",
      " 10  Maximum End of Day Balance              857647 non-null  float64\n",
      " 11  Minimum End of Day Balance              857647 non-null  float64\n",
      " 12  Sum of Monthly Debit Transactions       832991 non-null  float64\n",
      " 13  Sum of Monthly Credit Transactions      857529 non-null  float64\n",
      " 14  Last Transaction Date                   525671 non-null  object \n",
      " 15  Sum of ATM Deposits                     14624 non-null   float64\n",
      " 16  Number of ATM Deposits                  857647 non-null  float64\n",
      " 17  Sum of ATM Withdrawals                  188709 non-null  float64\n",
      " 18  Number of ATM Withdrawals               857647 non-null  float64\n",
      " 19  Sum of Cheque Debit Transactions        634 non-null     float64\n",
      " 20  Number of Cheque Debit Transactions     857647 non-null  float64\n",
      " 21  Sum of Bounced Cheque transactions      2 non-null       float64\n",
      " 22  Number of Bounced Cheques               857647 non-null  float64\n",
      " 23  Sum of Debit Card POS Transactions      114682 non-null  float64\n",
      " 24  Number of Debit Card POS Transactions   857647 non-null  float64\n",
      " 25  Sum of Over the Counter Withdrawals     64064 non-null   float64\n",
      " 26  Number of Over the Counter withdrawals  857647 non-null  float64\n",
      " 27  Account Type                            857647 non-null  object \n",
      " 28  Account Status                          857647 non-null  object \n",
      " 29  Number of Joint Holders                 857647 non-null  float64\n",
      " 30  SpshotMonth                             857647 non-null  object \n",
      "dtypes: float64(21), int64(1), object(9)\n",
      "memory usage: 202.9+ MB\n"
     ]
    }
   ],
   "source": [
    "# Dataset summary\n",
    "curr_savings_data.info()"
   ]
  },
  {
   "cell_type": "code",
   "execution_count": 23,
   "metadata": {},
   "outputs": [
    {
     "data": {
      "text/plain": [
       "(857677, 31)"
      ]
     },
     "execution_count": 23,
     "metadata": {},
     "output_type": "execute_result"
    }
   ],
   "source": [
    "# Check size\n",
    "curr_savings_data.shape"
   ]
  },
  {
   "cell_type": "code",
   "execution_count": 24,
   "metadata": {},
   "outputs": [
    {
     "data": {
      "text/plain": [
       "ID                                             0\n",
       "Account_Number                                 0\n",
       "Application ID                                 5\n",
       "Account Status                                30\n",
       "Account Type                                  30\n",
       "Number of Over the Counter withdrawals        30\n",
       "Number of Debit Card POS Transactions         30\n",
       "Number of Bounced Cheques                     30\n",
       "Number of Cheque Debit Transactions           30\n",
       "Number of ATM Withdrawals                     30\n",
       "Number of ATM Deposits                        30\n",
       "Number of Joint Holders                       30\n",
       "SpshotMonth                                   30\n",
       "Minimum End of Day Balance                    30\n",
       "Maximum End of Day Balance                    30\n",
       "Number of Days in Credit during Month         30\n",
       "Month (YYYY-MM)                               30\n",
       "Number of Days in Debit during Month          30\n",
       "Average Balance                               30\n",
       "Open Date                                     30\n",
       "Sum of Monthly Credit Transactions           148\n",
       "Sum of Monthly Debit Transactions          24686\n",
       "Overdraft Limit                           104193\n",
       "Last Transaction Date                     332006\n",
       "Sum of ATM Withdrawals                    668968\n",
       "Closed Date                               695929\n",
       "Sum of Debit Card POS Transactions        742995\n",
       "Sum of Over the Counter Withdrawals       793613\n",
       "Sum of ATM Deposits                       843053\n",
       "Sum of Cheque Debit Transactions          857043\n",
       "Sum of Bounced Cheque transactions        857675\n",
       "dtype: int64"
      ]
     },
     "execution_count": 24,
     "metadata": {},
     "output_type": "execute_result"
    }
   ],
   "source": [
    "# Check null values\n",
    "# ~\n",
    "curr_savings_data.isnull().sum().sort_values()"
   ]
  },
  {
   "cell_type": "markdown",
   "metadata": {},
   "source": [
    "*Observation*\n",
    "* The Current & Savings data has $31$ columns with $857,677$ records\n",
    "* This data has null values on all the columns apart from the *'ID'* and *'Account_Number'* columns\n",
    "* The date columns are also of object dtype. To be changed to date dtype"
   ]
  },
  {
   "cell_type": "markdown",
   "metadata": {},
   "source": [
    "## Important features"
   ]
  },
  {
   "cell_type": "markdown",
   "metadata": {},
   "source": [
    "* **ApplicationData.csv**: Loan_Approval_Status, Monthly_Income, Number_of_Dependents, Time_at_Current_Employment_(Months), Employment_Status\n",
    "* **ContractsData.csv**: Loan_Type, Loan_Term, Total_Loan_Amount\n",
    "* **ContractsSnapshotData.csv**: Outstanding Amount, Number of Days Past Due, Contract Status\n",
    "* **CRB Data.csv**: CRB Score, CRB Grade\n",
    "* **Current and Savings Account Data.csv**: Average Balance, Overdraft Limit, Sum of Monthly Credit Transactions, Number of Bounced Cheques\n"
   ]
  },
  {
   "cell_type": "markdown",
   "metadata": {},
   "source": [
    "## Other"
   ]
  },
  {
   "cell_type": "code",
   "execution_count": 25,
   "metadata": {},
   "outputs": [
    {
     "data": {
      "text/plain": [
       "Index(['Application_ID', 'Application_Date', 'Loan_Approval_Status',\n",
       "       'Age_at_Application', 'Marital_Status', 'Gender', 'Own_Rent_Home',\n",
       "       'Occupation_Professional_Category',\n",
       "       'Type_of_Business_Industry_of_Employment', 'Employment_Status',\n",
       "       'Time_at_Current_Employment_(Months)',\n",
       "       'Time_Employed_with_Previous_Employer_(Months)', 'Number_of_Dependents',\n",
       "       'Loan_Purpose', 'Monthly_Income', 'Government_Employee'],\n",
       "      dtype='object')"
      ]
     },
     "execution_count": 25,
     "metadata": {},
     "output_type": "execute_result"
    }
   ],
   "source": [
    "app_data.columns"
   ]
  },
  {
   "cell_type": "code",
   "execution_count": 26,
   "metadata": {},
   "outputs": [],
   "source": [
    "rel_app_data = app_data[[\"Loan_Approval_Status\", \"Monthly_Income\", \"Number_of_Dependents\", \"Time_at_Current_Employment_(Months)\", \"Employment_Status\"]]"
   ]
  },
  {
   "cell_type": "markdown",
   "metadata": {},
   "source": []
  },
  {
   "cell_type": "markdown",
   "metadata": {},
   "source": [
    "# Data Cleaning / Preparation"
   ]
  },
  {
   "cell_type": "markdown",
   "metadata": {},
   "source": [
    "Understand the data\n",
    "1. Drop irrelevant columns\n",
    "2. Handle duplicates\n",
    "3. Handle missing data\n",
    "4. Convert data types (e.g., datetime, categorical)\n",
    "5. Normalize/encode data\n",
    "6. Merge datasets (if applicable)\n",
    "7. Feature engineering\n",
    "\n",
    "1. Handle missing data\n",
    "2. Convert data types (e.g., datetime, categorical)"
   ]
  },
  {
   "cell_type": "code",
   "execution_count": 27,
   "metadata": {},
   "outputs": [],
   "source": [
    "# Function to get numerical columns\n",
    "def get_numerical_columns(df):\n",
    "    return df.select_dtypes(include=['number']).columns.tolist()\n",
    "\n",
    "# Function to get categorical columns\n",
    "def get_categorical_columns(df):\n",
    "    return df.select_dtypes(include=['object', 'category']).columns.tolist()\n",
    "\n",
    "def calc_missing_values_percentage(df):\n",
    "    \n",
    "    # Calculate % of missing values\n",
    "    missing_percentage = df.isnull().sum() * 100 / len(df)\n",
    "    \n",
    "    # Filter only columns with  50% missing values\n",
    "    missing_percentage = missing_percentage[missing_percentage > 50] \n",
    "    \n",
    "    # Sort in descending order\n",
    "    missing_percentage = missing_percentage.sort_values(ascending=False)  \n",
    "\n",
    "    return pd.DataFrame({'Column': missing_percentage.index, 'Missing_Percentage': missing_percentage.values})\n",
    "\n",
    "# Create function to fix dates\n",
    "def fix_date_format(date_str):\n",
    "    # Check 4th character, if '-' remove it, otherwise return original string\n",
    "    return re.sub(r'^(...)-', r'\\1', date_str)\n",
    "\n",
    "def change_to_date(df, date_cols):\n",
    "    \n",
    "    # Loop through list to change column dtype to datetime\n",
    "    for col in date_cols:\n",
    "        df[col] = pd.to_datetime(df[col]).astype(\"datetime64[D]\")\n",
    "\n",
    "# Function to replace leap year dates\n",
    "def fix_leap_year_dates(df, columns):\n",
    "    for col in columns:\n",
    "        df.loc[:, col] = df[col].str.replace(r\"(\\d{4})-02-29\", r\"\\1-02-28\", regex=True)\n",
    "        \n"
   ]
  },
  {
   "cell_type": "markdown",
   "metadata": {},
   "source": [
    "### Handle missing data"
   ]
  },
  {
   "cell_type": "markdown",
   "metadata": {},
   "source": [
    "#### Application data - missing values"
   ]
  },
  {
   "cell_type": "code",
   "execution_count": 28,
   "metadata": {},
   "outputs": [
    {
     "data": {
      "text/plain": [
       "Application_ID                                      0\n",
       "Application_Date                                    0\n",
       "Loan_Approval_Status                              138\n",
       "Age_at_Application                                 21\n",
       "Marital_Status                                   1780\n",
       "Gender                                              4\n",
       "Own_Rent_Home                                    1304\n",
       "Occupation_Professional_Category                  131\n",
       "Type_of_Business_Industry_of_Employment          2282\n",
       "Employment_Status                                 135\n",
       "Time_at_Current_Employment_(Months)               232\n",
       "Time_Employed_with_Previous_Employer_(Months)    9194\n",
       "Number_of_Dependents                             1814\n",
       "Loan_Purpose                                       42\n",
       "Monthly_Income                                      0\n",
       "Government_Employee                               181\n",
       "dtype: int64"
      ]
     },
     "execution_count": 28,
     "metadata": {},
     "output_type": "execute_result"
    }
   ],
   "source": [
    "# Check null values\n",
    "app_data.isnull().sum()"
   ]
  },
  {
   "cell_type": "code",
   "execution_count": 29,
   "metadata": {},
   "outputs": [
    {
     "name": "stdout",
     "output_type": "stream",
     "text": [
      "                                          Column  Missing_Percentage\n",
      "0  Time_Employed_with_Previous_Employer_(Months)           96.860514\n"
     ]
    }
   ],
   "source": [
    "# Get percentage of missing values above 50%\n",
    "missing_app_data_values = calc_missing_values_percentage(app_data)\n",
    "print(missing_app_data_values)"
   ]
  },
  {
   "cell_type": "code",
   "execution_count": 30,
   "metadata": {},
   "outputs": [],
   "source": [
    "# Drop the column with 50% and above missing data\n",
    "app_data.drop(columns='Time_Employed_with_Previous_Employer_(Months)', inplace=True)"
   ]
  },
  {
   "cell_type": "code",
   "execution_count": 31,
   "metadata": {},
   "outputs": [],
   "source": [
    "# get numerical columns\n",
    "numerical_cols = get_numerical_columns(app_data)\n",
    "# print(numerical_cols)\n",
    "\n",
    "# Replace all numerical columns with median\n",
    "for col in numerical_cols:\n",
    "    app_data[col].fillna(app_data[col].median(), inplace=True)"
   ]
  },
  {
   "cell_type": "markdown",
   "metadata": {},
   "source": [
    "We will fill the null categorical values with 'unknown' apart from 'Gender' that we will add 'Other' as a category"
   ]
  },
  {
   "cell_type": "code",
   "execution_count": 32,
   "metadata": {},
   "outputs": [],
   "source": [
    "# Get categorical columns without the primary keys - Application_ID\n",
    "categorical_cols = ['Loan_Approval_Status', 'Marital_Status', 'Own_Rent_Home', \n",
    "                    'Occupation_Professional_Category',\n",
    "                    'Type_of_Business_Industry_of_Employment', 'Employment_Status', \n",
    "                    'Loan_Purpose', 'Government_Employee']\n",
    "\n",
    "for cat_col in categorical_cols:\n",
    "    # app_data[cat_col].fillna(app_data[\"Application ID\"].mode()[0], inplace=True)\n",
    "    app_data[cat_col].fillna(\"unknown\", inplace=True)"
   ]
  },
  {
   "cell_type": "code",
   "execution_count": 33,
   "metadata": {},
   "outputs": [
    {
     "data": {
      "text/plain": [
       "Male      4845\n",
       "Female    4643\n",
       "Name: Gender, dtype: int64"
      ]
     },
     "execution_count": 33,
     "metadata": {},
     "output_type": "execute_result"
    }
   ],
   "source": [
    "# Check unique values for Gender\n",
    "app_data['Gender'].value_counts()"
   ]
  },
  {
   "cell_type": "code",
   "execution_count": 34,
   "metadata": {},
   "outputs": [],
   "source": [
    "# Replace Null values with Other\n",
    "app_data[\"Gender\"].fillna(\"Other\", inplace=True)"
   ]
  },
  {
   "cell_type": "code",
   "execution_count": 35,
   "metadata": {},
   "outputs": [
    {
     "data": {
      "text/plain": [
       "Application_ID                             0\n",
       "Application_Date                           0\n",
       "Loan_Approval_Status                       0\n",
       "Age_at_Application                         0\n",
       "Marital_Status                             0\n",
       "Gender                                     0\n",
       "Own_Rent_Home                              0\n",
       "Occupation_Professional_Category           0\n",
       "Type_of_Business_Industry_of_Employment    0\n",
       "Employment_Status                          0\n",
       "Time_at_Current_Employment_(Months)        0\n",
       "Number_of_Dependents                       0\n",
       "Loan_Purpose                               0\n",
       "Monthly_Income                             0\n",
       "Government_Employee                        0\n",
       "dtype: int64"
      ]
     },
     "execution_count": 35,
     "metadata": {},
     "output_type": "execute_result"
    }
   ],
   "source": [
    "# Confirm\n",
    "app_data.isnull().sum()"
   ]
  },
  {
   "cell_type": "markdown",
   "metadata": {},
   "source": [
    "#### Contract data - missing values"
   ]
  },
  {
   "cell_type": "code",
   "execution_count": 36,
   "metadata": {},
   "outputs": [
    {
     "data": {
      "text/plain": [
       "Contract_ID                      0\n",
       "Application_ID                1776\n",
       "Key                              0\n",
       "Loan_Type                        0\n",
       "Contract_Start_Date              0\n",
       "Expected_Contract_End_Date       0\n",
       "Actual_Contract_End_Date      6781\n",
       "Loan_Term                        0\n",
       "Total_Loan_Amount                0\n",
       "dtype: int64"
      ]
     },
     "execution_count": 36,
     "metadata": {},
     "output_type": "execute_result"
    }
   ],
   "source": [
    "# Check null values\n",
    "contract_data.isnull().sum()"
   ]
  },
  {
   "cell_type": "markdown",
   "metadata": {},
   "source": [
    "The null values are in the \"Application_ID\" and \"Actual_Contract_End_Date\".\n",
    "\n",
    "Since end date is not indicated, we can replace with latest snapshopt date."
   ]
  },
  {
   "cell_type": "code",
   "execution_count": 37,
   "metadata": {},
   "outputs": [
    {
     "data": {
      "text/plain": [
       "Contract_ID                      0\n",
       "Application_ID                1776\n",
       "Key                              0\n",
       "Loan_Type                        0\n",
       "Contract_Start_Date              0\n",
       "Expected_Contract_End_Date       0\n",
       "Actual_Contract_End_Date         0\n",
       "Loan_Term                        0\n",
       "Total_Loan_Amount                0\n",
       "dtype: int64"
      ]
     },
     "execution_count": 37,
     "metadata": {},
     "output_type": "execute_result"
    }
   ],
   "source": [
    "# Get max snapshot date per contract\n",
    "latest_snapshot = contractsSnapshot_data.groupby(\"Contract_ID\")[\"Snapshot Date\"].transform('max')\n",
    "latest_snapshot\n",
    "\n",
    "# Fill missing 'Actual_End_Date' with the latest snapshot date per 'Contract_ID'\n",
    "contract_data['Actual_Contract_End_Date'].fillna(latest_snapshot, inplace=True)\n",
    "\n",
    "# Confirm\n",
    "contract_data.isnull().sum()"
   ]
  },
  {
   "cell_type": "markdown",
   "metadata": {},
   "source": [
    "Since we cannot recreate or auto-geneate the primary key, then we can drop the records missing 'Application_ID'. "
   ]
  },
  {
   "cell_type": "code",
   "execution_count": 38,
   "metadata": {},
   "outputs": [
    {
     "data": {
      "text/plain": [
       "Contract_ID                   0\n",
       "Application_ID                0\n",
       "Key                           0\n",
       "Loan_Type                     0\n",
       "Contract_Start_Date           0\n",
       "Expected_Contract_End_Date    0\n",
       "Actual_Contract_End_Date      0\n",
       "Loan_Term                     0\n",
       "Total_Loan_Amount             0\n",
       "dtype: int64"
      ]
     },
     "execution_count": 38,
     "metadata": {},
     "output_type": "execute_result"
    }
   ],
   "source": [
    "# Drop rows with no Application_ID\n",
    "contract_data.dropna(subset=[\"Application_ID\"], inplace=True)\n",
    "\n",
    "# Confirm\n",
    "contract_data.isnull().sum()"
   ]
  },
  {
   "cell_type": "markdown",
   "metadata": {},
   "source": [
    "#### ContractsSnapshotData - Missing Values"
   ]
  },
  {
   "cell_type": "code",
   "execution_count": 39,
   "metadata": {},
   "outputs": [
    {
     "data": {
      "text/html": [
       "<div>\n",
       "<style scoped>\n",
       "    .dataframe tbody tr th:only-of-type {\n",
       "        vertical-align: middle;\n",
       "    }\n",
       "\n",
       "    .dataframe tbody tr th {\n",
       "        vertical-align: top;\n",
       "    }\n",
       "\n",
       "    .dataframe thead th {\n",
       "        text-align: right;\n",
       "    }\n",
       "</style>\n",
       "<table border=\"1\" class=\"dataframe\">\n",
       "  <thead>\n",
       "    <tr style=\"text-align: right;\">\n",
       "      <th></th>\n",
       "      <th>Column</th>\n",
       "      <th>Missing_Percentage</th>\n",
       "    </tr>\n",
       "  </thead>\n",
       "  <tbody>\n",
       "    <tr>\n",
       "      <th>0</th>\n",
       "      <td>Number of Days Past Due</td>\n",
       "      <td>71.149283</td>\n",
       "    </tr>\n",
       "  </tbody>\n",
       "</table>\n",
       "</div>"
      ],
      "text/plain": [
       "                    Column  Missing_Percentage\n",
       "0  Number of Days Past Due           71.149283"
      ]
     },
     "execution_count": 39,
     "metadata": {},
     "output_type": "execute_result"
    }
   ],
   "source": [
    "calc_missing_values_percentage(contractsSnapshot_data)"
   ]
  },
  {
   "cell_type": "code",
   "execution_count": 40,
   "metadata": {},
   "outputs": [
    {
     "data": {
      "text/plain": [
       "Contract_ID                     0\n",
       "Snapshot Date                   0\n",
       "Outstanding Amount              0\n",
       "Due Amount                      0\n",
       "Number of Days Past Due    195213\n",
       "Contract Status                 0\n",
       "dtype: int64"
      ]
     },
     "execution_count": 40,
     "metadata": {},
     "output_type": "execute_result"
    }
   ],
   "source": [
    "# Check missing values\n",
    "contractsSnapshot_data.isnull().sum()"
   ]
  },
  {
   "cell_type": "markdown",
   "metadata": {},
   "source": [
    "Checking the records missing number of days due,most of them have $0$ Due amount. So let us replace this with a $0$"
   ]
  },
  {
   "cell_type": "code",
   "execution_count": 41,
   "metadata": {},
   "outputs": [
    {
     "data": {
      "text/html": [
       "<div>\n",
       "<style scoped>\n",
       "    .dataframe tbody tr th:only-of-type {\n",
       "        vertical-align: middle;\n",
       "    }\n",
       "\n",
       "    .dataframe tbody tr th {\n",
       "        vertical-align: top;\n",
       "    }\n",
       "\n",
       "    .dataframe thead th {\n",
       "        text-align: right;\n",
       "    }\n",
       "</style>\n",
       "<table border=\"1\" class=\"dataframe\">\n",
       "  <thead>\n",
       "    <tr style=\"text-align: right;\">\n",
       "      <th></th>\n",
       "      <th>Contract_ID</th>\n",
       "      <th>Snapshot Date</th>\n",
       "      <th>Outstanding Amount</th>\n",
       "      <th>Due Amount</th>\n",
       "      <th>Number of Days Past Due</th>\n",
       "      <th>Contract Status</th>\n",
       "    </tr>\n",
       "  </thead>\n",
       "  <tbody>\n",
       "    <tr>\n",
       "      <th>0</th>\n",
       "      <td>CONT109375</td>\n",
       "      <td>2018-12-31</td>\n",
       "      <td>0.00</td>\n",
       "      <td>0.0</td>\n",
       "      <td>NaN</td>\n",
       "      <td>Closed</td>\n",
       "    </tr>\n",
       "    <tr>\n",
       "      <th>1</th>\n",
       "      <td>CONT109376</td>\n",
       "      <td>2006-08-31</td>\n",
       "      <td>215.08</td>\n",
       "      <td>0.0</td>\n",
       "      <td>NaN</td>\n",
       "      <td>Active</td>\n",
       "    </tr>\n",
       "    <tr>\n",
       "      <th>2</th>\n",
       "      <td>CONT109376</td>\n",
       "      <td>2006-09-30</td>\n",
       "      <td>215.08</td>\n",
       "      <td>0.0</td>\n",
       "      <td>NaN</td>\n",
       "      <td>Active</td>\n",
       "    </tr>\n",
       "    <tr>\n",
       "      <th>3</th>\n",
       "      <td>CONT109376</td>\n",
       "      <td>2006-10-31</td>\n",
       "      <td>215.08</td>\n",
       "      <td>0.0</td>\n",
       "      <td>NaN</td>\n",
       "      <td>Active</td>\n",
       "    </tr>\n",
       "    <tr>\n",
       "      <th>4</th>\n",
       "      <td>CONT109376</td>\n",
       "      <td>2006-11-30</td>\n",
       "      <td>215.08</td>\n",
       "      <td>0.0</td>\n",
       "      <td>NaN</td>\n",
       "      <td>Active</td>\n",
       "    </tr>\n",
       "    <tr>\n",
       "      <th>...</th>\n",
       "      <td>...</td>\n",
       "      <td>...</td>\n",
       "      <td>...</td>\n",
       "      <td>...</td>\n",
       "      <td>...</td>\n",
       "      <td>...</td>\n",
       "    </tr>\n",
       "    <tr>\n",
       "      <th>274366</th>\n",
       "      <td>CONT116311</td>\n",
       "      <td>202-1-08-31</td>\n",
       "      <td>117233.29</td>\n",
       "      <td>0.0</td>\n",
       "      <td>NaN</td>\n",
       "      <td>Active</td>\n",
       "    </tr>\n",
       "    <tr>\n",
       "      <th>274367</th>\n",
       "      <td>CONT116312</td>\n",
       "      <td>202-1-08-31</td>\n",
       "      <td>43789.21</td>\n",
       "      <td>0.0</td>\n",
       "      <td>NaN</td>\n",
       "      <td>Active</td>\n",
       "    </tr>\n",
       "    <tr>\n",
       "      <th>274368</th>\n",
       "      <td>CONT116313</td>\n",
       "      <td>202-1-08-31</td>\n",
       "      <td>160023.45</td>\n",
       "      <td>0.0</td>\n",
       "      <td>NaN</td>\n",
       "      <td>Active</td>\n",
       "    </tr>\n",
       "    <tr>\n",
       "      <th>274369</th>\n",
       "      <td>CONT116314</td>\n",
       "      <td>202-1-08-31</td>\n",
       "      <td>140679.95</td>\n",
       "      <td>0.0</td>\n",
       "      <td>NaN</td>\n",
       "      <td>Active</td>\n",
       "    </tr>\n",
       "    <tr>\n",
       "      <th>274370</th>\n",
       "      <td>CONT116315</td>\n",
       "      <td>202-1-08-31</td>\n",
       "      <td>70339.98</td>\n",
       "      <td>0.0</td>\n",
       "      <td>NaN</td>\n",
       "      <td>Active</td>\n",
       "    </tr>\n",
       "  </tbody>\n",
       "</table>\n",
       "<p>195213 rows × 6 columns</p>\n",
       "</div>"
      ],
      "text/plain": [
       "       Contract_ID Snapshot Date  Outstanding Amount  Due Amount  \\\n",
       "0       CONT109375    2018-12-31                0.00         0.0   \n",
       "1       CONT109376    2006-08-31              215.08         0.0   \n",
       "2       CONT109376    2006-09-30              215.08         0.0   \n",
       "3       CONT109376    2006-10-31              215.08         0.0   \n",
       "4       CONT109376    2006-11-30              215.08         0.0   \n",
       "...            ...           ...                 ...         ...   \n",
       "274366  CONT116311   202-1-08-31           117233.29         0.0   \n",
       "274367  CONT116312   202-1-08-31            43789.21         0.0   \n",
       "274368  CONT116313   202-1-08-31           160023.45         0.0   \n",
       "274369  CONT116314   202-1-08-31           140679.95         0.0   \n",
       "274370  CONT116315   202-1-08-31            70339.98         0.0   \n",
       "\n",
       "        Number of Days Past Due Contract Status  \n",
       "0                           NaN          Closed  \n",
       "1                           NaN          Active  \n",
       "2                           NaN          Active  \n",
       "3                           NaN          Active  \n",
       "4                           NaN          Active  \n",
       "...                         ...             ...  \n",
       "274366                      NaN          Active  \n",
       "274367                      NaN          Active  \n",
       "274368                      NaN          Active  \n",
       "274369                      NaN          Active  \n",
       "274370                      NaN          Active  \n",
       "\n",
       "[195213 rows x 6 columns]"
      ]
     },
     "execution_count": 41,
     "metadata": {},
     "output_type": "execute_result"
    }
   ],
   "source": [
    "# Check other features where \"Number of Days Past Due\" is null\n",
    "contractsSnapshot_data[contractsSnapshot_data[\"Number of Days Past Due\"].isnull()]"
   ]
  },
  {
   "cell_type": "code",
   "execution_count": 42,
   "metadata": {},
   "outputs": [
    {
     "data": {
      "text/plain": [
       "Contract_ID                0\n",
       "Snapshot Date              0\n",
       "Outstanding Amount         0\n",
       "Due Amount                 0\n",
       "Number of Days Past Due    0\n",
       "Contract Status            0\n",
       "dtype: int64"
      ]
     },
     "execution_count": 42,
     "metadata": {},
     "output_type": "execute_result"
    }
   ],
   "source": [
    "# Fill in with a '0'\n",
    "contractsSnapshot_data['Number of Days Past Due'].fillna(0, inplace=True)\n",
    "\n",
    "# Confirm\n",
    "contractsSnapshot_data.isnull().sum()"
   ]
  },
  {
   "cell_type": "markdown",
   "metadata": {},
   "source": [
    "CRB Data has no null values. So let us work on 'Current & Savings' data."
   ]
  },
  {
   "cell_type": "markdown",
   "metadata": {},
   "source": [
    "#### Current and Savings Data - missing values"
   ]
  },
  {
   "cell_type": "code",
   "execution_count": 43,
   "metadata": {},
   "outputs": [
    {
     "data": {
      "text/html": [
       "<div>\n",
       "<style scoped>\n",
       "    .dataframe tbody tr th:only-of-type {\n",
       "        vertical-align: middle;\n",
       "    }\n",
       "\n",
       "    .dataframe tbody tr th {\n",
       "        vertical-align: top;\n",
       "    }\n",
       "\n",
       "    .dataframe thead th {\n",
       "        text-align: right;\n",
       "    }\n",
       "</style>\n",
       "<table border=\"1\" class=\"dataframe\">\n",
       "  <thead>\n",
       "    <tr style=\"text-align: right;\">\n",
       "      <th></th>\n",
       "      <th>Column</th>\n",
       "      <th>Missing_Percentage</th>\n",
       "    </tr>\n",
       "  </thead>\n",
       "  <tbody>\n",
       "    <tr>\n",
       "      <th>0</th>\n",
       "      <td>Sum of Bounced Cheque transactions</td>\n",
       "      <td>99.999767</td>\n",
       "    </tr>\n",
       "    <tr>\n",
       "      <th>1</th>\n",
       "      <td>Sum of Cheque Debit Transactions</td>\n",
       "      <td>99.926079</td>\n",
       "    </tr>\n",
       "    <tr>\n",
       "      <th>2</th>\n",
       "      <td>Sum of ATM Deposits</td>\n",
       "      <td>98.294929</td>\n",
       "    </tr>\n",
       "    <tr>\n",
       "      <th>3</th>\n",
       "      <td>Sum of Over the Counter Withdrawals</td>\n",
       "      <td>92.530521</td>\n",
       "    </tr>\n",
       "    <tr>\n",
       "      <th>4</th>\n",
       "      <td>Sum of Debit Card POS Transactions</td>\n",
       "      <td>86.628766</td>\n",
       "    </tr>\n",
       "    <tr>\n",
       "      <th>5</th>\n",
       "      <td>Closed Date</td>\n",
       "      <td>81.141152</td>\n",
       "    </tr>\n",
       "    <tr>\n",
       "      <th>6</th>\n",
       "      <td>Sum of ATM Withdrawals</td>\n",
       "      <td>77.997661</td>\n",
       "    </tr>\n",
       "  </tbody>\n",
       "</table>\n",
       "</div>"
      ],
      "text/plain": [
       "                                Column  Missing_Percentage\n",
       "0   Sum of Bounced Cheque transactions           99.999767\n",
       "1     Sum of Cheque Debit Transactions           99.926079\n",
       "2                  Sum of ATM Deposits           98.294929\n",
       "3  Sum of Over the Counter Withdrawals           92.530521\n",
       "4   Sum of Debit Card POS Transactions           86.628766\n",
       "5                          Closed Date           81.141152\n",
       "6               Sum of ATM Withdrawals           77.997661"
      ]
     },
     "execution_count": 43,
     "metadata": {},
     "output_type": "execute_result"
    }
   ],
   "source": [
    "# Check % of missing data\n",
    "curr_savings_cols_to_drop = calc_missing_values_percentage(curr_savings_data)\n",
    "curr_savings_cols_to_drop"
   ]
  },
  {
   "cell_type": "code",
   "execution_count": 44,
   "metadata": {},
   "outputs": [],
   "source": [
    "# Drop Columns with more than 50% missing values\n",
    "\n",
    "# get list of columns\n",
    "curr_savings_cols_to_drop = curr_savings_cols_to_drop['Column']\n",
    "\n",
    "# Drop columns\n",
    "curr_savings_data.drop(columns=curr_savings_cols_to_drop, inplace=True)"
   ]
  },
  {
   "cell_type": "code",
   "execution_count": 45,
   "metadata": {},
   "outputs": [
    {
     "data": {
      "text/plain": [
       "ID                                             0\n",
       "Account_Number                                 0\n",
       "Application ID                                 5\n",
       "Month (YYYY-MM)                               30\n",
       "Open Date                                     30\n",
       "Average Balance                               30\n",
       "Overdraft Limit                           104193\n",
       "Number of Days in Debit during Month          30\n",
       "Number of Days in Credit during Month         30\n",
       "Maximum End of Day Balance                    30\n",
       "Minimum End of Day Balance                    30\n",
       "Sum of Monthly Debit Transactions          24686\n",
       "Sum of Monthly Credit Transactions           148\n",
       "Last Transaction Date                     332006\n",
       "Number of ATM Deposits                        30\n",
       "Number of ATM Withdrawals                     30\n",
       "Number of Cheque Debit Transactions           30\n",
       "Number of Bounced Cheques                     30\n",
       "Number of Debit Card POS Transactions         30\n",
       "Number of Over the Counter withdrawals        30\n",
       "Account Type                                  30\n",
       "Account Status                                30\n",
       "Number of Joint Holders                       30\n",
       "SpshotMonth                                   30\n",
       "dtype: int64"
      ]
     },
     "execution_count": 45,
     "metadata": {},
     "output_type": "execute_result"
    }
   ],
   "source": [
    "curr_savings_data.isnull().sum()"
   ]
  },
  {
   "cell_type": "code",
   "execution_count": 46,
   "metadata": {},
   "outputs": [],
   "source": [
    "# Create a list of numerical columns without ID/index columns\n",
    "curr_savings_numerical_cols = get_numerical_columns(curr_savings_data)\n",
    "curr_savings_numerical_cols = ['Average Balance', 'Overdraft Limit', \n",
    " 'Number of Days in Debit during Month', 'Number of Days in Credit during Month',\n",
    " 'Maximum End of Day Balance', 'Minimum End of Day Balance',\n",
    " 'Sum of Monthly Debit Transactions', 'Sum of Monthly Credit Transactions',\n",
    " 'Number of ATM Deposits', 'Number of ATM Withdrawals',\n",
    " 'Number of Cheque Debit Transactions', 'Number of Bounced Cheques',\n",
    " 'Number of Debit Card POS Transactions', 'Number of Over the Counter withdrawals',\n",
    " 'Number of Joint Holders']\n",
    "\n",
    "# Create a list of categorical columns without ID/index columns\n",
    "curr_savings_cat_cols =get_categorical_columns(curr_savings_data)\n",
    "curr_savings_cat_cols = ['Month (YYYY-MM)', 'Account Type', 'Account Status', 'SpshotMonth']"
   ]
  },
  {
   "cell_type": "markdown",
   "metadata": {},
   "source": [
    "Since most caegorical columns values are unknown, we can fill in with 'unknown'\n",
    "\n",
    "Let us fill in numerical columns with '0'"
   ]
  },
  {
   "cell_type": "code",
   "execution_count": 47,
   "metadata": {},
   "outputs": [],
   "source": [
    "# Fill missing values\n",
    "for cat_col in curr_savings_cat_cols:\n",
    "    curr_savings_data[cat_col].fillna(\"unknown\", inplace=True)\n",
    "    \n",
    "for num_col in curr_savings_numerical_cols:\n",
    "    curr_savings_data[num_col].fillna(0, inplace=True)"
   ]
  },
  {
   "cell_type": "code",
   "execution_count": 48,
   "metadata": {},
   "outputs": [],
   "source": [
    "# Drop columns with no primary key - Application ID\n",
    "curr_savings_data.dropna(subset=[\"Application ID\"], inplace=True)\n"
   ]
  },
  {
   "cell_type": "code",
   "execution_count": 49,
   "metadata": {},
   "outputs": [
    {
     "data": {
      "text/plain": [
       "ID                                        0\n",
       "Account_Number                            0\n",
       "Application ID                            0\n",
       "Month (YYYY-MM)                           0\n",
       "Open Date                                 0\n",
       "Average Balance                           0\n",
       "Overdraft Limit                           0\n",
       "Number of Days in Debit during Month      0\n",
       "Number of Days in Credit during Month     0\n",
       "Maximum End of Day Balance                0\n",
       "Minimum End of Day Balance                0\n",
       "Sum of Monthly Debit Transactions         0\n",
       "Sum of Monthly Credit Transactions        0\n",
       "Last Transaction Date                     0\n",
       "Number of ATM Deposits                    0\n",
       "Number of ATM Withdrawals                 0\n",
       "Number of Cheque Debit Transactions       0\n",
       "Number of Bounced Cheques                 0\n",
       "Number of Debit Card POS Transactions     0\n",
       "Number of Over the Counter withdrawals    0\n",
       "Account Type                              0\n",
       "Account Status                            0\n",
       "Number of Joint Holders                   0\n",
       "SpshotMonth                               0\n",
       "dtype: int64"
      ]
     },
     "execution_count": 49,
     "metadata": {},
     "output_type": "execute_result"
    }
   ],
   "source": [
    "# Replace dates with \n",
    "# Create a list of date columns\n",
    "curr_savings_date_cols = [\"Open Date\", \"Last Transaction Date\"]\n",
    "\n",
    "# Fill missing dates\n",
    "for col in curr_savings_date_cols:\n",
    "    curr_savings_data[col].fillna(\"1900-01-01\", inplace=True)\n",
    "    # curr_savings_data[\"Closed Date\"].fillna(\"1900-01-01\", inplace=True)\n",
    "\n",
    "# Confirm\n",
    "curr_savings_data.isna().sum()"
   ]
  },
  {
   "cell_type": "markdown",
   "metadata": {},
   "source": [
    "### Convert date data to right format\n",
    "\n",
    "From the observation, all date data types are in text format. Let us change all of them to the right format."
   ]
  },
  {
   "cell_type": "markdown",
   "metadata": {},
   "source": [
    "But before that, you'll notice some dates are not correctly recorded e.g. '*202-1-03-06*' which I think should be '*2021-03-06*'. So we will format it too.\n",
    "\n",
    "From another observation, leap years were not recognized, so will adjust the dates to fit leap dates as it will not convert to datetime type if it is out of range."
   ]
  },
  {
   "cell_type": "code",
   "execution_count": 50,
   "metadata": {},
   "outputs": [
    {
     "data": {
      "text/html": [
       "<div>\n",
       "<style scoped>\n",
       "    .dataframe tbody tr th:only-of-type {\n",
       "        vertical-align: middle;\n",
       "    }\n",
       "\n",
       "    .dataframe tbody tr th {\n",
       "        vertical-align: top;\n",
       "    }\n",
       "\n",
       "    .dataframe thead th {\n",
       "        text-align: right;\n",
       "    }\n",
       "</style>\n",
       "<table border=\"1\" class=\"dataframe\">\n",
       "  <thead>\n",
       "    <tr style=\"text-align: right;\">\n",
       "      <th></th>\n",
       "      <th>Application_ID</th>\n",
       "      <th>Application_Date</th>\n",
       "      <th>Loan_Approval_Status</th>\n",
       "      <th>Age_at_Application</th>\n",
       "      <th>Marital_Status</th>\n",
       "      <th>Gender</th>\n",
       "      <th>Own_Rent_Home</th>\n",
       "      <th>Occupation_Professional_Category</th>\n",
       "      <th>Type_of_Business_Industry_of_Employment</th>\n",
       "      <th>Employment_Status</th>\n",
       "      <th>Time_at_Current_Employment_(Months)</th>\n",
       "      <th>Number_of_Dependents</th>\n",
       "      <th>Loan_Purpose</th>\n",
       "      <th>Monthly_Income</th>\n",
       "      <th>Government_Employee</th>\n",
       "    </tr>\n",
       "  </thead>\n",
       "  <tbody>\n",
       "    <tr>\n",
       "      <th>9446</th>\n",
       "      <td>C302109447</td>\n",
       "      <td>202-1-03-06</td>\n",
       "      <td>unknown</td>\n",
       "      <td>22.0</td>\n",
       "      <td>unknown</td>\n",
       "      <td>Female</td>\n",
       "      <td>unknown</td>\n",
       "      <td>Elementary Occupation</td>\n",
       "      <td>unknown</td>\n",
       "      <td>Contract</td>\n",
       "      <td>55.0</td>\n",
       "      <td>1.0</td>\n",
       "      <td>Other</td>\n",
       "      <td>1463.56</td>\n",
       "      <td>False</td>\n",
       "    </tr>\n",
       "    <tr>\n",
       "      <th>9447</th>\n",
       "      <td>C302109448</td>\n",
       "      <td>2018-07-05</td>\n",
       "      <td>Decline</td>\n",
       "      <td>31.0</td>\n",
       "      <td>unknown</td>\n",
       "      <td>Male</td>\n",
       "      <td>unknown</td>\n",
       "      <td>Officer</td>\n",
       "      <td>unknown</td>\n",
       "      <td>Full-Time</td>\n",
       "      <td>115.0</td>\n",
       "      <td>1.0</td>\n",
       "      <td>Other</td>\n",
       "      <td>3657.43</td>\n",
       "      <td>True</td>\n",
       "    </tr>\n",
       "    <tr>\n",
       "      <th>9448</th>\n",
       "      <td>C302109449</td>\n",
       "      <td>202-1-02-21</td>\n",
       "      <td>Customer Cancellation</td>\n",
       "      <td>24.0</td>\n",
       "      <td>unknown</td>\n",
       "      <td>Male</td>\n",
       "      <td>unknown</td>\n",
       "      <td>Officer</td>\n",
       "      <td>unknown</td>\n",
       "      <td>Full-Time</td>\n",
       "      <td>41.0</td>\n",
       "      <td>1.0</td>\n",
       "      <td>Other</td>\n",
       "      <td>3296.86</td>\n",
       "      <td>False</td>\n",
       "    </tr>\n",
       "    <tr>\n",
       "      <th>9449</th>\n",
       "      <td>C302109450</td>\n",
       "      <td>2018-08-22</td>\n",
       "      <td>Customer Cancellation</td>\n",
       "      <td>37.0</td>\n",
       "      <td>unknown</td>\n",
       "      <td>Female</td>\n",
       "      <td>unknown</td>\n",
       "      <td>Officer</td>\n",
       "      <td>unknown</td>\n",
       "      <td>Full-Time</td>\n",
       "      <td>134.0</td>\n",
       "      <td>1.0</td>\n",
       "      <td>Other</td>\n",
       "      <td>3749.84</td>\n",
       "      <td>True</td>\n",
       "    </tr>\n",
       "  </tbody>\n",
       "</table>\n",
       "</div>"
      ],
      "text/plain": [
       "     Application_ID Application_Date   Loan_Approval_Status  \\\n",
       "9446     C302109447      202-1-03-06                unknown   \n",
       "9447     C302109448       2018-07-05                Decline   \n",
       "9448     C302109449      202-1-02-21  Customer Cancellation   \n",
       "9449     C302109450       2018-08-22  Customer Cancellation   \n",
       "\n",
       "      Age_at_Application Marital_Status  Gender Own_Rent_Home  \\\n",
       "9446                22.0        unknown  Female       unknown   \n",
       "9447                31.0        unknown    Male       unknown   \n",
       "9448                24.0        unknown    Male       unknown   \n",
       "9449                37.0        unknown  Female       unknown   \n",
       "\n",
       "     Occupation_Professional_Category Type_of_Business_Industry_of_Employment  \\\n",
       "9446            Elementary Occupation                                 unknown   \n",
       "9447                          Officer                                 unknown   \n",
       "9448                          Officer                                 unknown   \n",
       "9449                          Officer                                 unknown   \n",
       "\n",
       "     Employment_Status  Time_at_Current_Employment_(Months)  \\\n",
       "9446          Contract                                 55.0   \n",
       "9447         Full-Time                                115.0   \n",
       "9448         Full-Time                                 41.0   \n",
       "9449         Full-Time                                134.0   \n",
       "\n",
       "      Number_of_Dependents Loan_Purpose  Monthly_Income Government_Employee  \n",
       "9446                   1.0        Other         1463.56               False  \n",
       "9447                   1.0        Other         3657.43                True  \n",
       "9448                   1.0        Other         3296.86               False  \n",
       "9449                   1.0        Other         3749.84                True  "
      ]
     },
     "execution_count": 50,
     "metadata": {},
     "output_type": "execute_result"
    }
   ],
   "source": [
    "# an example\n",
    "app_data[9446:9450]"
   ]
  },
  {
   "cell_type": "code",
   "execution_count": 51,
   "metadata": {},
   "outputs": [],
   "source": [
    "# # Leap year Example\n",
    "# contract_data[contract_data[\"Expected_Contract_End_Date\"]==\"2021-02-29\"]"
   ]
  },
  {
   "cell_type": "markdown",
   "metadata": {},
   "source": [
    "#### Application data dates format"
   ]
  },
  {
   "cell_type": "code",
   "execution_count": 52,
   "metadata": {},
   "outputs": [],
   "source": [
    "# list of date_cols \n",
    "app_data_date_cols = ['Application_Date']\n",
    "\n",
    "# Apply the function to fix the date column\n",
    "app_data['Application_Date'] = app_data['Application_Date'].apply(fix_date_format)\n",
    "\n",
    "#Call function to change to datetime format\n",
    "change_to_date(app_data, app_data_date_cols)\n"
   ]
  },
  {
   "cell_type": "markdown",
   "metadata": {},
   "source": [
    "#### Contracts Data  date type format"
   ]
  },
  {
   "cell_type": "code",
   "execution_count": 53,
   "metadata": {},
   "outputs": [
    {
     "name": "stdout",
     "output_type": "stream",
     "text": [
      "<class 'pandas.core.frame.DataFrame'>\n",
      "Int64Index: 7598 entries, 0 to 7597\n",
      "Data columns (total 9 columns):\n",
      " #   Column                      Non-Null Count  Dtype         \n",
      "---  ------                      --------------  -----         \n",
      " 0   Contract_ID                 7598 non-null   object        \n",
      " 1   Application_ID              7598 non-null   object        \n",
      " 2   Key                         7598 non-null   int64         \n",
      " 3   Loan_Type                   7598 non-null   object        \n",
      " 4   Contract_Start_Date         7598 non-null   datetime64[ns]\n",
      " 5   Expected_Contract_End_Date  7598 non-null   datetime64[ns]\n",
      " 6   Actual_Contract_End_Date    7598 non-null   datetime64[ns]\n",
      " 7   Loan_Term                   7598 non-null   object        \n",
      " 8   Total_Loan_Amount           7598 non-null   float64       \n",
      "dtypes: datetime64[ns](3), float64(1), int64(1), object(4)\n",
      "memory usage: 593.6+ KB\n"
     ]
    }
   ],
   "source": [
    "# list of date_cols \n",
    "contract_data_date_cols = [\"Contract_Start_Date\", \"Expected_Contract_End_Date\", \"Actual_Contract_End_Date\"]\n",
    "\n",
    "# Apply the function to fix the date column\n",
    "for col in contract_data_date_cols:\n",
    "    contract_data[col] = contract_data[col].apply(fix_date_format)\n",
    "\n",
    "# Fix Leap year\n",
    "fix_leap_year_dates(contract_data, contract_data_date_cols)\n",
    "\n",
    "# Chande to datetime datatype\n",
    "change_to_date(contract_data, contract_data_date_cols)\n",
    "\n",
    "# Confirm     \n",
    "# app_data['Application_Date'].dtype\n",
    "contract_data.info()"
   ]
  },
  {
   "cell_type": "markdown",
   "metadata": {},
   "source": [
    "#### Contracts Snapshot date format"
   ]
  },
  {
   "cell_type": "code",
   "execution_count": 54,
   "metadata": {},
   "outputs": [],
   "source": [
    "# Get date columns\n",
    "contractSnapshot_date_cols = [\"Snapshot Date\"]\n",
    "\n",
    "# Apply the function to fix the date column\n",
    "for col in contractSnapshot_date_cols:\n",
    "    contractsSnapshot_data[col] = contractsSnapshot_data[col].apply(fix_date_format)\n",
    "\n",
    "# Fix Leap year\n",
    "fix_leap_year_dates(contractsSnapshot_data, contractSnapshot_date_cols)\n",
    "\n",
    "# Change to datetime datatype\n",
    "change_to_date(contractsSnapshot_data, contractSnapshot_date_cols)"
   ]
  },
  {
   "cell_type": "markdown",
   "metadata": {},
   "source": [
    "#### CRB Data date format"
   ]
  },
  {
   "cell_type": "code",
   "execution_count": 55,
   "metadata": {},
   "outputs": [],
   "source": [
    "# Get date columns\n",
    "crb_date_cols = [\"Application_Date\"]\n",
    "\n",
    "# Apply the function to fix the date column\n",
    "for col in crb_date_cols:\n",
    "    crb_data[col] = crb_data[col].apply(fix_date_format)\n",
    "\n",
    "# Fix Leap year\n",
    "fix_leap_year_dates(crb_data, crb_date_cols)\n",
    "\n",
    "# Change to datetime datatype\n",
    "change_to_date(crb_data, crb_date_cols)"
   ]
  },
  {
   "cell_type": "markdown",
   "metadata": {},
   "source": [
    "#### Current and Savings date format"
   ]
  },
  {
   "cell_type": "code",
   "execution_count": 56,
   "metadata": {},
   "outputs": [
    {
     "name": "stdout",
     "output_type": "stream",
     "text": [
      "<class 'pandas.core.frame.DataFrame'>\n",
      "Int64Index: 857672 entries, 0 to 857671\n",
      "Data columns (total 24 columns):\n",
      " #   Column                                  Non-Null Count   Dtype         \n",
      "---  ------                                  --------------   -----         \n",
      " 0   ID                                      857672 non-null  int64         \n",
      " 1   Account_Number                          857672 non-null  object        \n",
      " 2   Application ID                          857672 non-null  object        \n",
      " 3   Month (YYYY-MM)                         857672 non-null  object        \n",
      " 4   Open Date                               857672 non-null  datetime64[ns]\n",
      " 5   Average Balance                         857672 non-null  float64       \n",
      " 6   Overdraft Limit                         857672 non-null  float64       \n",
      " 7   Number of Days in Debit during Month    857672 non-null  float64       \n",
      " 8   Number of Days in Credit during Month   857672 non-null  float64       \n",
      " 9   Maximum End of Day Balance              857672 non-null  float64       \n",
      " 10  Minimum End of Day Balance              857672 non-null  float64       \n",
      " 11  Sum of Monthly Debit Transactions       857672 non-null  float64       \n",
      " 12  Sum of Monthly Credit Transactions      857672 non-null  float64       \n",
      " 13  Last Transaction Date                   857672 non-null  datetime64[ns]\n",
      " 14  Number of ATM Deposits                  857672 non-null  float64       \n",
      " 15  Number of ATM Withdrawals               857672 non-null  float64       \n",
      " 16  Number of Cheque Debit Transactions     857672 non-null  float64       \n",
      " 17  Number of Bounced Cheques               857672 non-null  float64       \n",
      " 18  Number of Debit Card POS Transactions   857672 non-null  float64       \n",
      " 19  Number of Over the Counter withdrawals  857672 non-null  float64       \n",
      " 20  Account Type                            857672 non-null  object        \n",
      " 21  Account Status                          857672 non-null  object        \n",
      " 22  Number of Joint Holders                 857672 non-null  float64       \n",
      " 23  SpshotMonth                             857672 non-null  object        \n",
      "dtypes: datetime64[ns](2), float64(15), int64(1), object(6)\n",
      "memory usage: 163.6+ MB\n"
     ]
    }
   ],
   "source": [
    "# curr_savings_data\n",
    "# Apply the function to fix the date column\n",
    "for col in curr_savings_date_cols:\n",
    "    curr_savings_data[col] = curr_savings_data[col].apply(fix_date_format)\n",
    "\n",
    "# Fix Leap year\n",
    "fix_leap_year_dates(curr_savings_data, curr_savings_date_cols)\n",
    "                    \n",
    "\n",
    "# Change to datetime datatype\n",
    "change_to_date(curr_savings_data, curr_savings_date_cols)\n",
    "\n",
    "# Confirm \n",
    "curr_savings_data.info()"
   ]
  },
  {
   "cell_type": "code",
   "execution_count": 57,
   "metadata": {},
   "outputs": [
    {
     "data": {
      "text/plain": [
       "ID                                        0\n",
       "Account_Number                            0\n",
       "Application ID                            0\n",
       "Month (YYYY-MM)                           0\n",
       "Open Date                                 0\n",
       "Average Balance                           0\n",
       "Overdraft Limit                           0\n",
       "Number of Days in Debit during Month      0\n",
       "Number of Days in Credit during Month     0\n",
       "Maximum End of Day Balance                0\n",
       "Minimum End of Day Balance                0\n",
       "Sum of Monthly Debit Transactions         0\n",
       "Sum of Monthly Credit Transactions        0\n",
       "Last Transaction Date                     0\n",
       "Number of ATM Deposits                    0\n",
       "Number of ATM Withdrawals                 0\n",
       "Number of Cheque Debit Transactions       0\n",
       "Number of Bounced Cheques                 0\n",
       "Number of Debit Card POS Transactions     0\n",
       "Number of Over the Counter withdrawals    0\n",
       "Account Type                              0\n",
       "Account Status                            0\n",
       "Number of Joint Holders                   0\n",
       "SpshotMonth                               0\n",
       "dtype: int64"
      ]
     },
     "execution_count": 57,
     "metadata": {},
     "output_type": "execute_result"
    }
   ],
   "source": [
    "curr_savings_data.isnull().sum()"
   ]
  },
  {
   "cell_type": "markdown",
   "metadata": {},
   "source": [
    "### Data Merging to form 1 dataset"
   ]
  },
  {
   "cell_type": "code",
   "execution_count": 58,
   "metadata": {},
   "outputs": [
    {
     "data": {
      "text/plain": [
       "Index(['Contract_ID', 'Application_ID', 'Key', 'Loan_Type',\n",
       "       'Contract_Start_Date', 'Expected_Contract_End_Date',\n",
       "       'Actual_Contract_End_Date', 'Loan_Term', 'Total_Loan_Amount'],\n",
       "      dtype='object')"
      ]
     },
     "execution_count": 58,
     "metadata": {},
     "output_type": "execute_result"
    }
   ],
   "source": [
    "contract_data.columns"
   ]
  },
  {
   "cell_type": "code",
   "execution_count": 59,
   "metadata": {},
   "outputs": [
    {
     "name": "stdout",
     "output_type": "stream",
     "text": [
      "<class 'pandas.core.frame.DataFrame'>\n",
      "Int64Index: 121952 entries, 0 to 121951\n",
      "Data columns (total 13 columns):\n",
      " #   Column                      Non-Null Count   Dtype         \n",
      "---  ------                      --------------   -----         \n",
      " 0   Application_ID              121952 non-null  object        \n",
      " 1   Key                         121952 non-null  int64         \n",
      " 2   Loan_Type                   121952 non-null  object        \n",
      " 3   Contract_Start_Date         121952 non-null  datetime64[ns]\n",
      " 4   Expected_Contract_End_Date  121952 non-null  datetime64[ns]\n",
      " 5   Actual_Contract_End_Date    121952 non-null  datetime64[ns]\n",
      " 6   Loan_Term                   121952 non-null  object        \n",
      " 7   Total_Loan_Amount           121952 non-null  float64       \n",
      " 8   Snapshot Date               121952 non-null  datetime64[ns]\n",
      " 9   Outstanding Amount          121952 non-null  float64       \n",
      " 10  Due Amount                  121952 non-null  float64       \n",
      " 11  Number of Days Past Due     121952 non-null  float64       \n",
      " 12  Contract Status             121952 non-null  object        \n",
      "dtypes: datetime64[ns](4), float64(4), int64(1), object(4)\n",
      "memory usage: 13.0+ MB\n"
     ]
    }
   ],
   "source": [
    "# Merge on Contract_ID (ContractsData) and Contract Id (ContractsSnapshotData)\n",
    "contract_merged_df = contract_data.merge(contractsSnapshot_data, left_on=\"Contract_ID\", right_on=\"Contract_ID\", how=\"inner\")\n",
    "\n",
    "# Drop duplicate column after merging\n",
    "contract_merged_df.drop(columns=[\"Contract_ID\"], inplace=True)\n",
    "\n",
    "# Display the merged DataFrame\n",
    "contract_merged_df.info()"
   ]
  },
  {
   "cell_type": "code",
   "execution_count": null,
   "metadata": {},
   "outputs": [
    {
     "name": "stdout",
     "output_type": "stream",
     "text": [
      "<class 'pandas.core.frame.DataFrame'>\n",
      "Int64Index: 121952 entries, 0 to 121951\n",
      "Data columns (total 27 columns):\n",
      " #   Column                                   Non-Null Count   Dtype         \n",
      "---  ------                                   --------------   -----         \n",
      " 0   Application_ID                           121952 non-null  object        \n",
      " 1   Key                                      121952 non-null  int64         \n",
      " 2   Loan_Type                                121952 non-null  object        \n",
      " 3   Contract_Start_Date                      121952 non-null  datetime64[ns]\n",
      " 4   Expected_Contract_End_Date               121952 non-null  datetime64[ns]\n",
      " 5   Actual_Contract_End_Date                 121952 non-null  datetime64[ns]\n",
      " 6   Loan_Term                                121952 non-null  object        \n",
      " 7   Total_Loan_Amount                        121952 non-null  float64       \n",
      " 8   Snapshot Date                            121952 non-null  datetime64[ns]\n",
      " 9   Outstanding Amount                       121952 non-null  float64       \n",
      " 10  Due Amount                               121952 non-null  float64       \n",
      " 11  Number of Days Past Due                  121952 non-null  float64       \n",
      " 12  Contract Status                          121952 non-null  object        \n",
      " 13  Application_Date                         121952 non-null  datetime64[ns]\n",
      " 14  Loan_Approval_Status                     121952 non-null  object        \n",
      " 15  Age_at_Application                       121952 non-null  float64       \n",
      " 16  Marital_Status                           121952 non-null  object        \n",
      " 17  Gender                                   121952 non-null  object        \n",
      " 18  Own_Rent_Home                            121952 non-null  object        \n",
      " 19  Occupation_Professional_Category         121952 non-null  object        \n",
      " 20  Type_of_Business_Industry_of_Employment  121952 non-null  object        \n",
      " 21  Employment_Status                        121952 non-null  object        \n",
      " 22  Time_at_Current_Employment_(Months)      121952 non-null  float64       \n",
      " 23  Number_of_Dependents                     121952 non-null  float64       \n",
      " 24  Loan_Purpose                             121952 non-null  object        \n",
      " 25  Monthly_Income                           121952 non-null  float64       \n",
      " 26  Government_Employee                      121952 non-null  object        \n",
      "dtypes: datetime64[ns](5), float64(8), int64(1), object(13)\n",
      "memory usage: 26.1+ MB\n"
     ]
    }
   ],
   "source": [
    "# Merge on Application_ID (merged df) and Application_ID (Application Data)\n",
    "app_merged_df = contract_merged_df.merge(app_data, left_on=\"Application_ID\", right_on=\"Application_ID\", how=\"inner\")\n",
    "\n",
    "# Display the merged DataFrame summary\n",
    "app_merged_df.info()"
   ]
  },
  {
   "cell_type": "code",
   "execution_count": null,
   "metadata": {},
   "outputs": [
    {
     "name": "stdout",
     "output_type": "stream",
     "text": [
      "<class 'pandas.core.frame.DataFrame'>\n",
      "Int64Index: 91853 entries, 0 to 91852\n",
      "Data columns (total 30 columns):\n",
      " #   Column                                   Non-Null Count  Dtype         \n",
      "---  ------                                   --------------  -----         \n",
      " 0   Application_ID                           91853 non-null  object        \n",
      " 1   Key                                      91853 non-null  int64         \n",
      " 2   Loan_Type                                91853 non-null  object        \n",
      " 3   Contract_Start_Date                      91853 non-null  datetime64[ns]\n",
      " 4   Expected_Contract_End_Date               91853 non-null  datetime64[ns]\n",
      " 5   Actual_Contract_End_Date                 91853 non-null  datetime64[ns]\n",
      " 6   Loan_Term                                91853 non-null  object        \n",
      " 7   Total_Loan_Amount                        91853 non-null  float64       \n",
      " 8   Snapshot Date                            91853 non-null  datetime64[ns]\n",
      " 9   Outstanding Amount                       91853 non-null  float64       \n",
      " 10  Due Amount                               91853 non-null  float64       \n",
      " 11  Number of Days Past Due                  91853 non-null  float64       \n",
      " 12  Contract Status                          91853 non-null  object        \n",
      " 13  Application_Date_x                       91853 non-null  datetime64[ns]\n",
      " 14  Loan_Approval_Status                     91853 non-null  object        \n",
      " 15  Age_at_Application                       91853 non-null  float64       \n",
      " 16  Marital_Status                           91853 non-null  object        \n",
      " 17  Gender                                   91853 non-null  object        \n",
      " 18  Own_Rent_Home                            91853 non-null  object        \n",
      " 19  Occupation_Professional_Category         91853 non-null  object        \n",
      " 20  Type_of_Business_Industry_of_Employment  91853 non-null  object        \n",
      " 21  Employment_Status                        91853 non-null  object        \n",
      " 22  Time_at_Current_Employment_(Months)      91853 non-null  float64       \n",
      " 23  Number_of_Dependents                     91853 non-null  float64       \n",
      " 24  Loan_Purpose                             91853 non-null  object        \n",
      " 25  Monthly_Income                           91853 non-null  float64       \n",
      " 26  Government_Employee                      91853 non-null  object        \n",
      " 27  Application_Date_y                       91853 non-null  datetime64[ns]\n",
      " 28  CRB Score                                91853 non-null  int64         \n",
      " 29  CRB Grade                                91853 non-null  object        \n",
      "dtypes: datetime64[ns](6), float64(8), int64(2), object(14)\n",
      "memory usage: 21.7+ MB\n"
     ]
    }
   ],
   "source": [
    "# Merge on Application_ID (app merged df) and crb Application_ID (Application Data)\n",
    "crb_merged_df = app_merged_df.merge(crb_data, left_on=\"Application_ID\", right_on=\"Application_ID\", how=\"inner\")\n",
    "\n",
    "# Display the merged DataFrame summary\n",
    "crb_merged_df.info()"
   ]
  },
  {
   "cell_type": "code",
   "execution_count": 63,
   "metadata": {},
   "outputs": [],
   "source": [
    "# Merge on Application_ID (crb merged df) and curr savings Application_ID (Application Data)\n",
    "# curr_savings_merged_df = crb_merged_df.merge(curr_savings_data, left_on=\"Application_ID\", right_on=\"Application ID\", how=\"inner\")\n",
    "\n",
    "# Drop duplicate column after merging\n",
    "# crb_curr_savings_merged_dfmerged_df.drop(columns=[\"Application_ID\"], inplace=True)\n",
    "\n",
    "# Display the merged DataFrame summary\n",
    "# curr_savings_merged_df.info()"
   ]
  },
  {
   "cell_type": "code",
   "execution_count": null,
   "metadata": {},
   "outputs": [],
   "source": []
  },
  {
   "cell_type": "code",
   "execution_count": null,
   "metadata": {},
   "outputs": [],
   "source": []
  },
  {
   "cell_type": "code",
   "execution_count": null,
   "metadata": {},
   "outputs": [],
   "source": []
  },
  {
   "cell_type": "code",
   "execution_count": null,
   "metadata": {},
   "outputs": [],
   "source": []
  },
  {
   "cell_type": "code",
   "execution_count": null,
   "metadata": {},
   "outputs": [],
   "source": []
  },
  {
   "cell_type": "code",
   "execution_count": null,
   "metadata": {},
   "outputs": [],
   "source": []
  },
  {
   "cell_type": "code",
   "execution_count": null,
   "metadata": {},
   "outputs": [],
   "source": []
  },
  {
   "cell_type": "markdown",
   "metadata": {},
   "source": [
    "### Basic Overview - data EDA"
   ]
  },
  {
   "cell_type": "code",
   "execution_count": 795,
   "metadata": {},
   "outputs": [],
   "source": [
    "# Check dataset shape (df.shape)\n"
   ]
  },
  {
   "cell_type": "code",
   "execution_count": 796,
   "metadata": {},
   "outputs": [],
   "source": [
    "# Check data types (df.dtypes)\n"
   ]
  },
  {
   "cell_type": "code",
   "execution_count": 797,
   "metadata": {},
   "outputs": [],
   "source": [
    "#Identify unique values in categorical columns (df.nunique())\n"
   ]
  },
  {
   "cell_type": "markdown",
   "metadata": {},
   "source": [
    "### Summary statistics"
   ]
  },
  {
   "cell_type": "code",
   "execution_count": 798,
   "metadata": {},
   "outputs": [],
   "source": [
    "# Numerical Data: Check for mean, median, min, max, and standard deviation .describe()"
   ]
  },
  {
   "cell_type": "code",
   "execution_count": 799,
   "metadata": {},
   "outputs": [],
   "source": [
    "# Numerical: Check skewness df.skew()"
   ]
  },
  {
   "cell_type": "code",
   "execution_count": null,
   "metadata": {},
   "outputs": [],
   "source": [
    "# Categorical data: Frequency distribution (df[\"colomn\"].value_counts())"
   ]
  },
  {
   "cell_type": "markdown",
   "metadata": {},
   "source": []
  },
  {
   "cell_type": "markdown",
   "metadata": {},
   "source": []
  },
  {
   "cell_type": "code",
   "execution_count": null,
   "metadata": {},
   "outputs": [],
   "source": []
  },
  {
   "cell_type": "markdown",
   "metadata": {},
   "source": [
    "# Method 2"
   ]
  },
  {
   "cell_type": "markdown",
   "metadata": {},
   "source": [
    "## Selecting relevant columns/ dropping irrelevant columns\n",
    "The relevant columns for loan default prediction include:\n",
    "\n",
    "Relevant Columns:\n",
    "* ApplicationData.csv: Loan_Approval_Status, Monthly_Income, Number_of_Dependents, Time_at_Current_Employment_(Months), Employment_Status\n",
    "* ContractsData.csv: Loan_Type, Loan_Term, Total_Loan_Amount\n",
    "* ContractsSnapshotData.csv: Outstanding Amount, Number of Days Past Due, Contract Status\n",
    "* CRB Data.csv: CRB Score, CRB Grade\n",
    "* Current and Savings Account Data.csv: Average Balance, Overdraft Limit, Sum of Monthly Credit Transactions, Number of Bounced Cheques\n"
   ]
  },
  {
   "cell_type": "code",
   "execution_count": null,
   "metadata": {},
   "outputs": [],
   "source": [
    "# Select Relevant columns\n",
    "new_app_data= app_data[[\"Application_ID\", \"Loan_Approval_Status\", \"Monthly_Income\", \n",
    "                        \"Number_of_Dependents\", \"Time_at_Current_Employment_(Months)\", \n",
    "                        \"Employment_Status\", \"Government_Employee\"]]\n",
    "\n",
    "new_contract_data = contract_data[[\"Contract_ID\", \"Application_ID\", \n",
    "                                   \"Contract_Start_Date\", \n",
    "                                   \"Expected_Contract_End_Date\", \"Loan_Type\", \n",
    "                                   \"Loan_Term\", \"Total_Loan_Amount\"]]\n",
    "\n",
    "new_ContractsSnapshot_data = contractsSnapshot_data[[\"Contract_ID\", \n",
    "                                                     \"Outstanding Amount\", \"Due Amount\",\n",
    "                                                     \"Number of Days Past Due\", \n",
    "                                                     \"Contract Status\"]]\n",
    "\n",
    "new_crb_data = crb_data[[\"Application_ID\", \"CRB Score\", \"CRB Grade\"]]\n",
    "\n",
    "new_curr_savings_data = curr_savings_data[[\"Application ID\", \"Average Balance\", \n",
    "                                           \"Overdraft Limit\", \n",
    "                                           \"Number of Days in Debit during Month\",\n",
    "                                           \"Number of Days in Credit during Month\",\n",
    "                                           \"Sum of Monthly Debit Transactions\",\n",
    "                                           \"Sum of Monthly Credit Transactions\",\n",
    "                                           \"Sum of Bounced Cheque transactions\", \n",
    "                                           \"Number of Bounced Cheques\",\n",
    "                                           \"Sum of Over the Counter Withdrawals\",\n",
    "                                           \"Account Type\"]]"
   ]
  },
  {
   "cell_type": "markdown",
   "metadata": {},
   "source": [
    "## Check duplicates"
   ]
  },
  {
   "cell_type": "code",
   "execution_count": 495,
   "metadata": {},
   "outputs": [
    {
     "data": {
      "text/plain": [
       "0"
      ]
     },
     "execution_count": 495,
     "metadata": {},
     "output_type": "execute_result"
    }
   ],
   "source": [
    "# check duplicates on the datasets\n",
    "# app_data.duplicated().sum()\n",
    "new_app_data.duplicated().sum()"
   ]
  },
  {
   "cell_type": "code",
   "execution_count": 496,
   "metadata": {},
   "outputs": [
    {
     "data": {
      "text/plain": [
       "0"
      ]
     },
     "execution_count": 496,
     "metadata": {},
     "output_type": "execute_result"
    }
   ],
   "source": [
    "# contract_data.duplicated().sum()\n",
    "new_contract_data.duplicated().sum()"
   ]
  },
  {
   "cell_type": "code",
   "execution_count": null,
   "metadata": {},
   "outputs": [
    {
     "data": {
      "text/plain": [
       "15724"
      ]
     },
     "execution_count": 497,
     "metadata": {},
     "output_type": "execute_result"
    }
   ],
   "source": [
    "contractsSnapshot_data.duplicated().sum() # 84\n",
    "new_ContractsSnapshot_data.duplicated().sum() # 15724 ??"
   ]
  },
  {
   "cell_type": "code",
   "execution_count": 498,
   "metadata": {},
   "outputs": [
    {
     "data": {
      "text/plain": [
       "75"
      ]
     },
     "execution_count": 498,
     "metadata": {},
     "output_type": "execute_result"
    }
   ],
   "source": [
    "crb_data.duplicated().sum() # 0\n",
    "new_crb_data.duplicated().sum() # 75??"
   ]
  },
  {
   "cell_type": "code",
   "execution_count": 499,
   "metadata": {},
   "outputs": [
    {
     "data": {
      "text/plain": [
       "194048"
      ]
     },
     "execution_count": 499,
     "metadata": {},
     "output_type": "execute_result"
    }
   ],
   "source": [
    "# curr_savings_data.duplicated().sum() # 0\n",
    "new_curr_savings_data.duplicated().sum() # 194,048??"
   ]
  },
  {
   "cell_type": "markdown",
   "metadata": {},
   "source": [
    "## Feature transformation - log transformation/OHE/etc."
   ]
  },
  {
   "cell_type": "code",
   "execution_count": null,
   "metadata": {},
   "outputs": [],
   "source": []
  },
  {
   "cell_type": "markdown",
   "metadata": {},
   "source": [
    "## Feature selection - (PCA/LASSO)"
   ]
  },
  {
   "cell_type": "code",
   "execution_count": null,
   "metadata": {},
   "outputs": [],
   "source": []
  },
  {
   "cell_type": "markdown",
   "metadata": {},
   "source": [
    "# Exploration Data Analysis"
   ]
  },
  {
   "cell_type": "markdown",
   "metadata": {},
   "source": []
  },
  {
   "cell_type": "code",
   "execution_count": null,
   "metadata": {},
   "outputs": [],
   "source": []
  },
  {
   "cell_type": "code",
   "execution_count": null,
   "metadata": {},
   "outputs": [],
   "source": []
  },
  {
   "cell_type": "markdown",
   "metadata": {},
   "source": [
    "Univariate Analysis\n",
    "\n",
    "Histograms & KDE Plots: Distribution of numerical features\n",
    "Box Plots: Detect outliers in features like Monthly Income, Loan Amount\n",
    "Bar Charts: Visualize frequency distribution for categorical variables like Loan Type, Contract Status, CRB Grade"
   ]
  },
  {
   "cell_type": "code",
   "execution_count": null,
   "metadata": {},
   "outputs": [],
   "source": []
  },
  {
   "cell_type": "markdown",
   "metadata": {},
   "source": [
    "Bivariate & Multivariate Analysis\n",
    "* Correlation Matrix: Find relationships between features\n",
    "* Use df.corr() & visualize with heatmaps (seaborn.heatmap())\n",
    "* Scatter Plots: Identify linear/non-linear relationships\n",
    "Pair Plots: Detect hidden patterns between numeric features\n",
    "GroupBy Analysis: Compare default rates across different CRB grades\n"
   ]
  }
 ],
 "metadata": {
  "kernelspec": {
   "display_name": "learn-env",
   "language": "python",
   "name": "python3"
  },
  "language_info": {
   "codemirror_mode": {
    "name": "ipython",
    "version": 3
   },
   "file_extension": ".py",
   "mimetype": "text/x-python",
   "name": "python",
   "nbconvert_exporter": "python",
   "pygments_lexer": "ipython3",
   "version": "3.8.5"
  }
 },
 "nbformat": 4,
 "nbformat_minor": 2
}
